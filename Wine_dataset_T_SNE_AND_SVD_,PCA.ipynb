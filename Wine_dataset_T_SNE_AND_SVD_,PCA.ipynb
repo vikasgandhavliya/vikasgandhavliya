{
  "nbformat": 4,
  "nbformat_minor": 0,
  "metadata": {
    "colab": {
      "name": "Wine dataset T- SNE AND SVD ,PCA.ipynb",
      "provenance": [],
      "collapsed_sections": [],
      "authorship_tag": "ABX9TyMt1J0uR3K1wKev9bHnVqpQ",
      "include_colab_link": true
    },
    "kernelspec": {
      "name": "python3",
      "display_name": "Python 3"
    },
    "language_info": {
      "name": "python"
    }
  },
  "cells": [
    {
      "cell_type": "markdown",
      "metadata": {
        "id": "view-in-github",
        "colab_type": "text"
      },
      "source": [
        "<a href=\"https://colab.research.google.com/github/vikasgandhavliya/vikasgandhavliya/blob/main/Wine_dataset_T_SNE_AND_SVD_%2CPCA.ipynb\" target=\"_parent\"><img src=\"https://colab.research.google.com/assets/colab-badge.svg\" alt=\"Open In Colab\"/></a>"
      ]
    },
    {
      "cell_type": "markdown",
      "metadata": {
        "id": "LBS-n93vzoxo"
      },
      "source": [
        "$\\textbf{Mandatory Key steps:}$\n",
        "\n",
        "1. Loading the data set.\n",
        "2. Feature Scaling of Dataset using StandardScaler function in scikit learn for Standardisation.\n",
        "3. Use TruncatedSVD & PCA function in scikit learn to apply SVD & PCA for dimensionality reduction of iris dataset respectively.\n",
        "4. Fit and transform the data set.\n",
        "5. Visualize the reduced data using Matplotlib library to mark the difference between SVD, PCA on iris dataset.\n",
        "5. Investigate U, Σ and V matrices\n",
        "6. Finding the best rank for the given data set using Frobenius Norm\n",
        "\n"
      ]
    },
    {
      "cell_type": "markdown",
      "source": [
        ""
      ],
      "metadata": {
        "id": "8jxJilTcmEqv"
      }
    },
    {
      "cell_type": "markdown",
      "source": [
        "#Import libraries and load dataset"
      ],
      "metadata": {
        "id": "SsqJ9aZOkWqi"
      }
    },
    {
      "cell_type": "code",
      "source": [
        "import numpy as np\n",
        "import pandas as pd\n",
        "import matplotlib.pyplot as plt\n",
        "from sklearn.decomposition import PCA\n",
        "from sklearn.decomposition import TruncatedSVD\n",
        "from sklearn.datasets import load_wine\n",
        "%matplotlib inline\n",
        "from numpy import diag"
      ],
      "metadata": {
        "id": "4tBxQ8mp3p2W"
      },
      "execution_count": null,
      "outputs": []
    },
    {
      "cell_type": "code",
      "source": [
        "data=load_wine()"
      ],
      "metadata": {
        "id": "l_ifPLZy6Lxi"
      },
      "execution_count": null,
      "outputs": []
    },
    {
      "cell_type": "code",
      "source": [
        "old_data=data\n",
        "data"
      ],
      "metadata": {
        "id": "aSXnsfZH8E_1",
        "colab": {
          "base_uri": "https://localhost:8080/"
        },
        "outputId": "41d477c3-ed78-4387-afea-b92fc5325ce9"
      },
      "execution_count": null,
      "outputs": [
        {
          "output_type": "execute_result",
          "data": {
            "text/plain": [
              "{'DESCR': '.. _wine_dataset:\\n\\nWine recognition dataset\\n------------------------\\n\\n**Data Set Characteristics:**\\n\\n    :Number of Instances: 178 (50 in each of three classes)\\n    :Number of Attributes: 13 numeric, predictive attributes and the class\\n    :Attribute Information:\\n \\t\\t- Alcohol\\n \\t\\t- Malic acid\\n \\t\\t- Ash\\n\\t\\t- Alcalinity of ash  \\n \\t\\t- Magnesium\\n\\t\\t- Total phenols\\n \\t\\t- Flavanoids\\n \\t\\t- Nonflavanoid phenols\\n \\t\\t- Proanthocyanins\\n\\t\\t- Color intensity\\n \\t\\t- Hue\\n \\t\\t- OD280/OD315 of diluted wines\\n \\t\\t- Proline\\n\\n    - class:\\n            - class_0\\n            - class_1\\n            - class_2\\n\\t\\t\\n    :Summary Statistics:\\n    \\n    ============================= ==== ===== ======= =====\\n                                   Min   Max   Mean     SD\\n    ============================= ==== ===== ======= =====\\n    Alcohol:                      11.0  14.8    13.0   0.8\\n    Malic Acid:                   0.74  5.80    2.34  1.12\\n    Ash:                          1.36  3.23    2.36  0.27\\n    Alcalinity of Ash:            10.6  30.0    19.5   3.3\\n    Magnesium:                    70.0 162.0    99.7  14.3\\n    Total Phenols:                0.98  3.88    2.29  0.63\\n    Flavanoids:                   0.34  5.08    2.03  1.00\\n    Nonflavanoid Phenols:         0.13  0.66    0.36  0.12\\n    Proanthocyanins:              0.41  3.58    1.59  0.57\\n    Colour Intensity:              1.3  13.0     5.1   2.3\\n    Hue:                          0.48  1.71    0.96  0.23\\n    OD280/OD315 of diluted wines: 1.27  4.00    2.61  0.71\\n    Proline:                       278  1680     746   315\\n    ============================= ==== ===== ======= =====\\n\\n    :Missing Attribute Values: None\\n    :Class Distribution: class_0 (59), class_1 (71), class_2 (48)\\n    :Creator: R.A. Fisher\\n    :Donor: Michael Marshall (MARSHALL%PLU@io.arc.nasa.gov)\\n    :Date: July, 1988\\n\\nThis is a copy of UCI ML Wine recognition datasets.\\nhttps://archive.ics.uci.edu/ml/machine-learning-databases/wine/wine.data\\n\\nThe data is the results of a chemical analysis of wines grown in the same\\nregion in Italy by three different cultivators. There are thirteen different\\nmeasurements taken for different constituents found in the three types of\\nwine.\\n\\nOriginal Owners: \\n\\nForina, M. et al, PARVUS - \\nAn Extendible Package for Data Exploration, Classification and Correlation. \\nInstitute of Pharmaceutical and Food Analysis and Technologies,\\nVia Brigata Salerno, 16147 Genoa, Italy.\\n\\nCitation:\\n\\nLichman, M. (2013). UCI Machine Learning Repository\\n[https://archive.ics.uci.edu/ml]. Irvine, CA: University of California,\\nSchool of Information and Computer Science. \\n\\n.. topic:: References\\n\\n  (1) S. Aeberhard, D. Coomans and O. de Vel, \\n  Comparison of Classifiers in High Dimensional Settings, \\n  Tech. Rep. no. 92-02, (1992), Dept. of Computer Science and Dept. of  \\n  Mathematics and Statistics, James Cook University of North Queensland. \\n  (Also submitted to Technometrics). \\n\\n  The data was used with many others for comparing various \\n  classifiers. The classes are separable, though only RDA \\n  has achieved 100% correct classification. \\n  (RDA : 100%, QDA 99.4%, LDA 98.9%, 1NN 96.1% (z-transformed data)) \\n  (All results using the leave-one-out technique) \\n\\n  (2) S. Aeberhard, D. Coomans and O. de Vel, \\n  \"THE CLASSIFICATION PERFORMANCE OF RDA\" \\n  Tech. Rep. no. 92-01, (1992), Dept. of Computer Science and Dept. of \\n  Mathematics and Statistics, James Cook University of North Queensland. \\n  (Also submitted to Journal of Chemometrics).\\n',\n",
              " 'data': array([[1.423e+01, 1.710e+00, 2.430e+00, ..., 1.040e+00, 3.920e+00,\n",
              "         1.065e+03],\n",
              "        [1.320e+01, 1.780e+00, 2.140e+00, ..., 1.050e+00, 3.400e+00,\n",
              "         1.050e+03],\n",
              "        [1.316e+01, 2.360e+00, 2.670e+00, ..., 1.030e+00, 3.170e+00,\n",
              "         1.185e+03],\n",
              "        ...,\n",
              "        [1.327e+01, 4.280e+00, 2.260e+00, ..., 5.900e-01, 1.560e+00,\n",
              "         8.350e+02],\n",
              "        [1.317e+01, 2.590e+00, 2.370e+00, ..., 6.000e-01, 1.620e+00,\n",
              "         8.400e+02],\n",
              "        [1.413e+01, 4.100e+00, 2.740e+00, ..., 6.100e-01, 1.600e+00,\n",
              "         5.600e+02]]),\n",
              " 'feature_names': ['alcohol',\n",
              "  'malic_acid',\n",
              "  'ash',\n",
              "  'alcalinity_of_ash',\n",
              "  'magnesium',\n",
              "  'total_phenols',\n",
              "  'flavanoids',\n",
              "  'nonflavanoid_phenols',\n",
              "  'proanthocyanins',\n",
              "  'color_intensity',\n",
              "  'hue',\n",
              "  'od280/od315_of_diluted_wines',\n",
              "  'proline'],\n",
              " 'frame': None,\n",
              " 'target': array([0, 0, 0, 0, 0, 0, 0, 0, 0, 0, 0, 0, 0, 0, 0, 0, 0, 0, 0, 0, 0, 0,\n",
              "        0, 0, 0, 0, 0, 0, 0, 0, 0, 0, 0, 0, 0, 0, 0, 0, 0, 0, 0, 0, 0, 0,\n",
              "        0, 0, 0, 0, 0, 0, 0, 0, 0, 0, 0, 0, 0, 0, 0, 1, 1, 1, 1, 1, 1, 1,\n",
              "        1, 1, 1, 1, 1, 1, 1, 1, 1, 1, 1, 1, 1, 1, 1, 1, 1, 1, 1, 1, 1, 1,\n",
              "        1, 1, 1, 1, 1, 1, 1, 1, 1, 1, 1, 1, 1, 1, 1, 1, 1, 1, 1, 1, 1, 1,\n",
              "        1, 1, 1, 1, 1, 1, 1, 1, 1, 1, 1, 1, 1, 1, 1, 1, 1, 1, 1, 1, 2, 2,\n",
              "        2, 2, 2, 2, 2, 2, 2, 2, 2, 2, 2, 2, 2, 2, 2, 2, 2, 2, 2, 2, 2, 2,\n",
              "        2, 2, 2, 2, 2, 2, 2, 2, 2, 2, 2, 2, 2, 2, 2, 2, 2, 2, 2, 2, 2, 2,\n",
              "        2, 2]),\n",
              " 'target_names': array(['class_0', 'class_1', 'class_2'], dtype='<U7')}"
            ]
          },
          "metadata": {},
          "execution_count": 3
        }
      ]
    },
    {
      "cell_type": "code",
      "source": [
        "type(data)"
      ],
      "metadata": {
        "id": "OmGjTGSe8INE",
        "colab": {
          "base_uri": "https://localhost:8080/"
        },
        "outputId": "a4068853-e75d-4a45-d60e-f1162c0a0986"
      },
      "execution_count": null,
      "outputs": [
        {
          "output_type": "execute_result",
          "data": {
            "text/plain": [
              "sklearn.utils.Bunch"
            ]
          },
          "metadata": {},
          "execution_count": 4
        }
      ]
    },
    {
      "cell_type": "code",
      "source": [
        "df1=pd.DataFrame(data.data,columns=data['feature_names'])"
      ],
      "metadata": {
        "id": "wbIXkLFS7DFR"
      },
      "execution_count": null,
      "outputs": []
    },
    {
      "cell_type": "code",
      "source": [
        "df1"
      ],
      "metadata": {
        "id": "QDvu7T3G7Ha4",
        "colab": {
          "base_uri": "https://localhost:8080/",
          "height": 488
        },
        "outputId": "9c95a400-b2b6-4114-98ac-d044a2b2d0c6"
      },
      "execution_count": null,
      "outputs": [
        {
          "output_type": "execute_result",
          "data": {
            "text/plain": [
              "     alcohol  malic_acid   ash  alcalinity_of_ash  magnesium  total_phenols  \\\n",
              "0      14.23        1.71  2.43               15.6      127.0           2.80   \n",
              "1      13.20        1.78  2.14               11.2      100.0           2.65   \n",
              "2      13.16        2.36  2.67               18.6      101.0           2.80   \n",
              "3      14.37        1.95  2.50               16.8      113.0           3.85   \n",
              "4      13.24        2.59  2.87               21.0      118.0           2.80   \n",
              "..       ...         ...   ...                ...        ...            ...   \n",
              "173    13.71        5.65  2.45               20.5       95.0           1.68   \n",
              "174    13.40        3.91  2.48               23.0      102.0           1.80   \n",
              "175    13.27        4.28  2.26               20.0      120.0           1.59   \n",
              "176    13.17        2.59  2.37               20.0      120.0           1.65   \n",
              "177    14.13        4.10  2.74               24.5       96.0           2.05   \n",
              "\n",
              "     flavanoids  nonflavanoid_phenols  proanthocyanins  color_intensity   hue  \\\n",
              "0          3.06                  0.28             2.29             5.64  1.04   \n",
              "1          2.76                  0.26             1.28             4.38  1.05   \n",
              "2          3.24                  0.30             2.81             5.68  1.03   \n",
              "3          3.49                  0.24             2.18             7.80  0.86   \n",
              "4          2.69                  0.39             1.82             4.32  1.04   \n",
              "..          ...                   ...              ...              ...   ...   \n",
              "173        0.61                  0.52             1.06             7.70  0.64   \n",
              "174        0.75                  0.43             1.41             7.30  0.70   \n",
              "175        0.69                  0.43             1.35            10.20  0.59   \n",
              "176        0.68                  0.53             1.46             9.30  0.60   \n",
              "177        0.76                  0.56             1.35             9.20  0.61   \n",
              "\n",
              "     od280/od315_of_diluted_wines  proline  \n",
              "0                            3.92   1065.0  \n",
              "1                            3.40   1050.0  \n",
              "2                            3.17   1185.0  \n",
              "3                            3.45   1480.0  \n",
              "4                            2.93    735.0  \n",
              "..                            ...      ...  \n",
              "173                          1.74    740.0  \n",
              "174                          1.56    750.0  \n",
              "175                          1.56    835.0  \n",
              "176                          1.62    840.0  \n",
              "177                          1.60    560.0  \n",
              "\n",
              "[178 rows x 13 columns]"
            ],
            "text/html": [
              "\n",
              "  <div id=\"df-18668b57-5afd-4e5a-8b1b-c9c355b1b267\">\n",
              "    <div class=\"colab-df-container\">\n",
              "      <div>\n",
              "<style scoped>\n",
              "    .dataframe tbody tr th:only-of-type {\n",
              "        vertical-align: middle;\n",
              "    }\n",
              "\n",
              "    .dataframe tbody tr th {\n",
              "        vertical-align: top;\n",
              "    }\n",
              "\n",
              "    .dataframe thead th {\n",
              "        text-align: right;\n",
              "    }\n",
              "</style>\n",
              "<table border=\"1\" class=\"dataframe\">\n",
              "  <thead>\n",
              "    <tr style=\"text-align: right;\">\n",
              "      <th></th>\n",
              "      <th>alcohol</th>\n",
              "      <th>malic_acid</th>\n",
              "      <th>ash</th>\n",
              "      <th>alcalinity_of_ash</th>\n",
              "      <th>magnesium</th>\n",
              "      <th>total_phenols</th>\n",
              "      <th>flavanoids</th>\n",
              "      <th>nonflavanoid_phenols</th>\n",
              "      <th>proanthocyanins</th>\n",
              "      <th>color_intensity</th>\n",
              "      <th>hue</th>\n",
              "      <th>od280/od315_of_diluted_wines</th>\n",
              "      <th>proline</th>\n",
              "    </tr>\n",
              "  </thead>\n",
              "  <tbody>\n",
              "    <tr>\n",
              "      <th>0</th>\n",
              "      <td>14.23</td>\n",
              "      <td>1.71</td>\n",
              "      <td>2.43</td>\n",
              "      <td>15.6</td>\n",
              "      <td>127.0</td>\n",
              "      <td>2.80</td>\n",
              "      <td>3.06</td>\n",
              "      <td>0.28</td>\n",
              "      <td>2.29</td>\n",
              "      <td>5.64</td>\n",
              "      <td>1.04</td>\n",
              "      <td>3.92</td>\n",
              "      <td>1065.0</td>\n",
              "    </tr>\n",
              "    <tr>\n",
              "      <th>1</th>\n",
              "      <td>13.20</td>\n",
              "      <td>1.78</td>\n",
              "      <td>2.14</td>\n",
              "      <td>11.2</td>\n",
              "      <td>100.0</td>\n",
              "      <td>2.65</td>\n",
              "      <td>2.76</td>\n",
              "      <td>0.26</td>\n",
              "      <td>1.28</td>\n",
              "      <td>4.38</td>\n",
              "      <td>1.05</td>\n",
              "      <td>3.40</td>\n",
              "      <td>1050.0</td>\n",
              "    </tr>\n",
              "    <tr>\n",
              "      <th>2</th>\n",
              "      <td>13.16</td>\n",
              "      <td>2.36</td>\n",
              "      <td>2.67</td>\n",
              "      <td>18.6</td>\n",
              "      <td>101.0</td>\n",
              "      <td>2.80</td>\n",
              "      <td>3.24</td>\n",
              "      <td>0.30</td>\n",
              "      <td>2.81</td>\n",
              "      <td>5.68</td>\n",
              "      <td>1.03</td>\n",
              "      <td>3.17</td>\n",
              "      <td>1185.0</td>\n",
              "    </tr>\n",
              "    <tr>\n",
              "      <th>3</th>\n",
              "      <td>14.37</td>\n",
              "      <td>1.95</td>\n",
              "      <td>2.50</td>\n",
              "      <td>16.8</td>\n",
              "      <td>113.0</td>\n",
              "      <td>3.85</td>\n",
              "      <td>3.49</td>\n",
              "      <td>0.24</td>\n",
              "      <td>2.18</td>\n",
              "      <td>7.80</td>\n",
              "      <td>0.86</td>\n",
              "      <td>3.45</td>\n",
              "      <td>1480.0</td>\n",
              "    </tr>\n",
              "    <tr>\n",
              "      <th>4</th>\n",
              "      <td>13.24</td>\n",
              "      <td>2.59</td>\n",
              "      <td>2.87</td>\n",
              "      <td>21.0</td>\n",
              "      <td>118.0</td>\n",
              "      <td>2.80</td>\n",
              "      <td>2.69</td>\n",
              "      <td>0.39</td>\n",
              "      <td>1.82</td>\n",
              "      <td>4.32</td>\n",
              "      <td>1.04</td>\n",
              "      <td>2.93</td>\n",
              "      <td>735.0</td>\n",
              "    </tr>\n",
              "    <tr>\n",
              "      <th>...</th>\n",
              "      <td>...</td>\n",
              "      <td>...</td>\n",
              "      <td>...</td>\n",
              "      <td>...</td>\n",
              "      <td>...</td>\n",
              "      <td>...</td>\n",
              "      <td>...</td>\n",
              "      <td>...</td>\n",
              "      <td>...</td>\n",
              "      <td>...</td>\n",
              "      <td>...</td>\n",
              "      <td>...</td>\n",
              "      <td>...</td>\n",
              "    </tr>\n",
              "    <tr>\n",
              "      <th>173</th>\n",
              "      <td>13.71</td>\n",
              "      <td>5.65</td>\n",
              "      <td>2.45</td>\n",
              "      <td>20.5</td>\n",
              "      <td>95.0</td>\n",
              "      <td>1.68</td>\n",
              "      <td>0.61</td>\n",
              "      <td>0.52</td>\n",
              "      <td>1.06</td>\n",
              "      <td>7.70</td>\n",
              "      <td>0.64</td>\n",
              "      <td>1.74</td>\n",
              "      <td>740.0</td>\n",
              "    </tr>\n",
              "    <tr>\n",
              "      <th>174</th>\n",
              "      <td>13.40</td>\n",
              "      <td>3.91</td>\n",
              "      <td>2.48</td>\n",
              "      <td>23.0</td>\n",
              "      <td>102.0</td>\n",
              "      <td>1.80</td>\n",
              "      <td>0.75</td>\n",
              "      <td>0.43</td>\n",
              "      <td>1.41</td>\n",
              "      <td>7.30</td>\n",
              "      <td>0.70</td>\n",
              "      <td>1.56</td>\n",
              "      <td>750.0</td>\n",
              "    </tr>\n",
              "    <tr>\n",
              "      <th>175</th>\n",
              "      <td>13.27</td>\n",
              "      <td>4.28</td>\n",
              "      <td>2.26</td>\n",
              "      <td>20.0</td>\n",
              "      <td>120.0</td>\n",
              "      <td>1.59</td>\n",
              "      <td>0.69</td>\n",
              "      <td>0.43</td>\n",
              "      <td>1.35</td>\n",
              "      <td>10.20</td>\n",
              "      <td>0.59</td>\n",
              "      <td>1.56</td>\n",
              "      <td>835.0</td>\n",
              "    </tr>\n",
              "    <tr>\n",
              "      <th>176</th>\n",
              "      <td>13.17</td>\n",
              "      <td>2.59</td>\n",
              "      <td>2.37</td>\n",
              "      <td>20.0</td>\n",
              "      <td>120.0</td>\n",
              "      <td>1.65</td>\n",
              "      <td>0.68</td>\n",
              "      <td>0.53</td>\n",
              "      <td>1.46</td>\n",
              "      <td>9.30</td>\n",
              "      <td>0.60</td>\n",
              "      <td>1.62</td>\n",
              "      <td>840.0</td>\n",
              "    </tr>\n",
              "    <tr>\n",
              "      <th>177</th>\n",
              "      <td>14.13</td>\n",
              "      <td>4.10</td>\n",
              "      <td>2.74</td>\n",
              "      <td>24.5</td>\n",
              "      <td>96.0</td>\n",
              "      <td>2.05</td>\n",
              "      <td>0.76</td>\n",
              "      <td>0.56</td>\n",
              "      <td>1.35</td>\n",
              "      <td>9.20</td>\n",
              "      <td>0.61</td>\n",
              "      <td>1.60</td>\n",
              "      <td>560.0</td>\n",
              "    </tr>\n",
              "  </tbody>\n",
              "</table>\n",
              "<p>178 rows × 13 columns</p>\n",
              "</div>\n",
              "      <button class=\"colab-df-convert\" onclick=\"convertToInteractive('df-18668b57-5afd-4e5a-8b1b-c9c355b1b267')\"\n",
              "              title=\"Convert this dataframe to an interactive table.\"\n",
              "              style=\"display:none;\">\n",
              "        \n",
              "  <svg xmlns=\"http://www.w3.org/2000/svg\" height=\"24px\"viewBox=\"0 0 24 24\"\n",
              "       width=\"24px\">\n",
              "    <path d=\"M0 0h24v24H0V0z\" fill=\"none\"/>\n",
              "    <path d=\"M18.56 5.44l.94 2.06.94-2.06 2.06-.94-2.06-.94-.94-2.06-.94 2.06-2.06.94zm-11 1L8.5 8.5l.94-2.06 2.06-.94-2.06-.94L8.5 2.5l-.94 2.06-2.06.94zm10 10l.94 2.06.94-2.06 2.06-.94-2.06-.94-.94-2.06-.94 2.06-2.06.94z\"/><path d=\"M17.41 7.96l-1.37-1.37c-.4-.4-.92-.59-1.43-.59-.52 0-1.04.2-1.43.59L10.3 9.45l-7.72 7.72c-.78.78-.78 2.05 0 2.83L4 21.41c.39.39.9.59 1.41.59.51 0 1.02-.2 1.41-.59l7.78-7.78 2.81-2.81c.8-.78.8-2.07 0-2.86zM5.41 20L4 18.59l7.72-7.72 1.47 1.35L5.41 20z\"/>\n",
              "  </svg>\n",
              "      </button>\n",
              "      \n",
              "  <style>\n",
              "    .colab-df-container {\n",
              "      display:flex;\n",
              "      flex-wrap:wrap;\n",
              "      gap: 12px;\n",
              "    }\n",
              "\n",
              "    .colab-df-convert {\n",
              "      background-color: #E8F0FE;\n",
              "      border: none;\n",
              "      border-radius: 50%;\n",
              "      cursor: pointer;\n",
              "      display: none;\n",
              "      fill: #1967D2;\n",
              "      height: 32px;\n",
              "      padding: 0 0 0 0;\n",
              "      width: 32px;\n",
              "    }\n",
              "\n",
              "    .colab-df-convert:hover {\n",
              "      background-color: #E2EBFA;\n",
              "      box-shadow: 0px 1px 2px rgba(60, 64, 67, 0.3), 0px 1px 3px 1px rgba(60, 64, 67, 0.15);\n",
              "      fill: #174EA6;\n",
              "    }\n",
              "\n",
              "    [theme=dark] .colab-df-convert {\n",
              "      background-color: #3B4455;\n",
              "      fill: #D2E3FC;\n",
              "    }\n",
              "\n",
              "    [theme=dark] .colab-df-convert:hover {\n",
              "      background-color: #434B5C;\n",
              "      box-shadow: 0px 1px 3px 1px rgba(0, 0, 0, 0.15);\n",
              "      filter: drop-shadow(0px 1px 2px rgba(0, 0, 0, 0.3));\n",
              "      fill: #FFFFFF;\n",
              "    }\n",
              "  </style>\n",
              "\n",
              "      <script>\n",
              "        const buttonEl =\n",
              "          document.querySelector('#df-18668b57-5afd-4e5a-8b1b-c9c355b1b267 button.colab-df-convert');\n",
              "        buttonEl.style.display =\n",
              "          google.colab.kernel.accessAllowed ? 'block' : 'none';\n",
              "\n",
              "        async function convertToInteractive(key) {\n",
              "          const element = document.querySelector('#df-18668b57-5afd-4e5a-8b1b-c9c355b1b267');\n",
              "          const dataTable =\n",
              "            await google.colab.kernel.invokeFunction('convertToInteractive',\n",
              "                                                     [key], {});\n",
              "          if (!dataTable) return;\n",
              "\n",
              "          const docLinkHtml = 'Like what you see? Visit the ' +\n",
              "            '<a target=\"_blank\" href=https://colab.research.google.com/notebooks/data_table.ipynb>data table notebook</a>'\n",
              "            + ' to learn more about interactive tables.';\n",
              "          element.innerHTML = '';\n",
              "          dataTable['output_type'] = 'display_data';\n",
              "          await google.colab.output.renderOutput(dataTable, element);\n",
              "          const docLink = document.createElement('div');\n",
              "          docLink.innerHTML = docLinkHtml;\n",
              "          element.appendChild(docLink);\n",
              "        }\n",
              "      </script>\n",
              "    </div>\n",
              "  </div>\n",
              "  "
            ]
          },
          "metadata": {},
          "execution_count": 6
        }
      ]
    },
    {
      "cell_type": "code",
      "source": [
        "type(df1)"
      ],
      "metadata": {
        "colab": {
          "base_uri": "https://localhost:8080/"
        },
        "id": "qz2gLF-dZ9JX",
        "outputId": "cc63e985-cab4-4582-f823-560449689c13"
      },
      "execution_count": null,
      "outputs": [
        {
          "output_type": "execute_result",
          "data": {
            "text/plain": [
              "pandas.core.frame.DataFrame"
            ]
          },
          "metadata": {},
          "execution_count": 7
        }
      ]
    },
    {
      "cell_type": "code",
      "source": [
        "new_data=df1"
      ],
      "metadata": {
        "id": "MA-ZaJw6Z_YX"
      },
      "execution_count": null,
      "outputs": []
    },
    {
      "cell_type": "code",
      "source": [
        "df1.columns"
      ],
      "metadata": {
        "colab": {
          "base_uri": "https://localhost:8080/"
        },
        "id": "5k6OvB600aqI",
        "outputId": "489ee884-c7bc-41b5-c4ce-6614e5c2cd01"
      },
      "execution_count": null,
      "outputs": [
        {
          "output_type": "execute_result",
          "data": {
            "text/plain": [
              "Index(['alcohol', 'malic_acid', 'ash', 'alcalinity_of_ash', 'magnesium',\n",
              "       'total_phenols', 'flavanoids', 'nonflavanoid_phenols',\n",
              "       'proanthocyanins', 'color_intensity', 'hue',\n",
              "       'od280/od315_of_diluted_wines', 'proline'],\n",
              "      dtype='object')"
            ]
          },
          "metadata": {},
          "execution_count": 9
        }
      ]
    },
    {
      "cell_type": "code",
      "source": [
        "type(df1)"
      ],
      "metadata": {
        "colab": {
          "base_uri": "https://localhost:8080/"
        },
        "id": "vnx5ot-oaGH-",
        "outputId": "5b5cfcd9-d033-421f-cb4b-feb461d29dc1"
      },
      "execution_count": null,
      "outputs": [
        {
          "output_type": "execute_result",
          "data": {
            "text/plain": [
              "pandas.core.frame.DataFrame"
            ]
          },
          "metadata": {},
          "execution_count": 10
        }
      ]
    },
    {
      "cell_type": "code",
      "source": [
        " df1.head()"
      ],
      "metadata": {
        "colab": {
          "base_uri": "https://localhost:8080/",
          "height": 270
        },
        "id": "ORAOZ6v8aS26",
        "outputId": "17a7a9a1-2306-4bd0-ce8d-2ab04c918378"
      },
      "execution_count": null,
      "outputs": [
        {
          "output_type": "execute_result",
          "data": {
            "text/plain": [
              "   alcohol  malic_acid   ash  alcalinity_of_ash  magnesium  total_phenols  \\\n",
              "0    14.23        1.71  2.43               15.6      127.0           2.80   \n",
              "1    13.20        1.78  2.14               11.2      100.0           2.65   \n",
              "2    13.16        2.36  2.67               18.6      101.0           2.80   \n",
              "3    14.37        1.95  2.50               16.8      113.0           3.85   \n",
              "4    13.24        2.59  2.87               21.0      118.0           2.80   \n",
              "\n",
              "   flavanoids  nonflavanoid_phenols  proanthocyanins  color_intensity   hue  \\\n",
              "0        3.06                  0.28             2.29             5.64  1.04   \n",
              "1        2.76                  0.26             1.28             4.38  1.05   \n",
              "2        3.24                  0.30             2.81             5.68  1.03   \n",
              "3        3.49                  0.24             2.18             7.80  0.86   \n",
              "4        2.69                  0.39             1.82             4.32  1.04   \n",
              "\n",
              "   od280/od315_of_diluted_wines  proline  \n",
              "0                          3.92   1065.0  \n",
              "1                          3.40   1050.0  \n",
              "2                          3.17   1185.0  \n",
              "3                          3.45   1480.0  \n",
              "4                          2.93    735.0  "
            ],
            "text/html": [
              "\n",
              "  <div id=\"df-34ee975c-7407-4ba8-8fdb-c6db378468c1\">\n",
              "    <div class=\"colab-df-container\">\n",
              "      <div>\n",
              "<style scoped>\n",
              "    .dataframe tbody tr th:only-of-type {\n",
              "        vertical-align: middle;\n",
              "    }\n",
              "\n",
              "    .dataframe tbody tr th {\n",
              "        vertical-align: top;\n",
              "    }\n",
              "\n",
              "    .dataframe thead th {\n",
              "        text-align: right;\n",
              "    }\n",
              "</style>\n",
              "<table border=\"1\" class=\"dataframe\">\n",
              "  <thead>\n",
              "    <tr style=\"text-align: right;\">\n",
              "      <th></th>\n",
              "      <th>alcohol</th>\n",
              "      <th>malic_acid</th>\n",
              "      <th>ash</th>\n",
              "      <th>alcalinity_of_ash</th>\n",
              "      <th>magnesium</th>\n",
              "      <th>total_phenols</th>\n",
              "      <th>flavanoids</th>\n",
              "      <th>nonflavanoid_phenols</th>\n",
              "      <th>proanthocyanins</th>\n",
              "      <th>color_intensity</th>\n",
              "      <th>hue</th>\n",
              "      <th>od280/od315_of_diluted_wines</th>\n",
              "      <th>proline</th>\n",
              "    </tr>\n",
              "  </thead>\n",
              "  <tbody>\n",
              "    <tr>\n",
              "      <th>0</th>\n",
              "      <td>14.23</td>\n",
              "      <td>1.71</td>\n",
              "      <td>2.43</td>\n",
              "      <td>15.6</td>\n",
              "      <td>127.0</td>\n",
              "      <td>2.80</td>\n",
              "      <td>3.06</td>\n",
              "      <td>0.28</td>\n",
              "      <td>2.29</td>\n",
              "      <td>5.64</td>\n",
              "      <td>1.04</td>\n",
              "      <td>3.92</td>\n",
              "      <td>1065.0</td>\n",
              "    </tr>\n",
              "    <tr>\n",
              "      <th>1</th>\n",
              "      <td>13.20</td>\n",
              "      <td>1.78</td>\n",
              "      <td>2.14</td>\n",
              "      <td>11.2</td>\n",
              "      <td>100.0</td>\n",
              "      <td>2.65</td>\n",
              "      <td>2.76</td>\n",
              "      <td>0.26</td>\n",
              "      <td>1.28</td>\n",
              "      <td>4.38</td>\n",
              "      <td>1.05</td>\n",
              "      <td>3.40</td>\n",
              "      <td>1050.0</td>\n",
              "    </tr>\n",
              "    <tr>\n",
              "      <th>2</th>\n",
              "      <td>13.16</td>\n",
              "      <td>2.36</td>\n",
              "      <td>2.67</td>\n",
              "      <td>18.6</td>\n",
              "      <td>101.0</td>\n",
              "      <td>2.80</td>\n",
              "      <td>3.24</td>\n",
              "      <td>0.30</td>\n",
              "      <td>2.81</td>\n",
              "      <td>5.68</td>\n",
              "      <td>1.03</td>\n",
              "      <td>3.17</td>\n",
              "      <td>1185.0</td>\n",
              "    </tr>\n",
              "    <tr>\n",
              "      <th>3</th>\n",
              "      <td>14.37</td>\n",
              "      <td>1.95</td>\n",
              "      <td>2.50</td>\n",
              "      <td>16.8</td>\n",
              "      <td>113.0</td>\n",
              "      <td>3.85</td>\n",
              "      <td>3.49</td>\n",
              "      <td>0.24</td>\n",
              "      <td>2.18</td>\n",
              "      <td>7.80</td>\n",
              "      <td>0.86</td>\n",
              "      <td>3.45</td>\n",
              "      <td>1480.0</td>\n",
              "    </tr>\n",
              "    <tr>\n",
              "      <th>4</th>\n",
              "      <td>13.24</td>\n",
              "      <td>2.59</td>\n",
              "      <td>2.87</td>\n",
              "      <td>21.0</td>\n",
              "      <td>118.0</td>\n",
              "      <td>2.80</td>\n",
              "      <td>2.69</td>\n",
              "      <td>0.39</td>\n",
              "      <td>1.82</td>\n",
              "      <td>4.32</td>\n",
              "      <td>1.04</td>\n",
              "      <td>2.93</td>\n",
              "      <td>735.0</td>\n",
              "    </tr>\n",
              "  </tbody>\n",
              "</table>\n",
              "</div>\n",
              "      <button class=\"colab-df-convert\" onclick=\"convertToInteractive('df-34ee975c-7407-4ba8-8fdb-c6db378468c1')\"\n",
              "              title=\"Convert this dataframe to an interactive table.\"\n",
              "              style=\"display:none;\">\n",
              "        \n",
              "  <svg xmlns=\"http://www.w3.org/2000/svg\" height=\"24px\"viewBox=\"0 0 24 24\"\n",
              "       width=\"24px\">\n",
              "    <path d=\"M0 0h24v24H0V0z\" fill=\"none\"/>\n",
              "    <path d=\"M18.56 5.44l.94 2.06.94-2.06 2.06-.94-2.06-.94-.94-2.06-.94 2.06-2.06.94zm-11 1L8.5 8.5l.94-2.06 2.06-.94-2.06-.94L8.5 2.5l-.94 2.06-2.06.94zm10 10l.94 2.06.94-2.06 2.06-.94-2.06-.94-.94-2.06-.94 2.06-2.06.94z\"/><path d=\"M17.41 7.96l-1.37-1.37c-.4-.4-.92-.59-1.43-.59-.52 0-1.04.2-1.43.59L10.3 9.45l-7.72 7.72c-.78.78-.78 2.05 0 2.83L4 21.41c.39.39.9.59 1.41.59.51 0 1.02-.2 1.41-.59l7.78-7.78 2.81-2.81c.8-.78.8-2.07 0-2.86zM5.41 20L4 18.59l7.72-7.72 1.47 1.35L5.41 20z\"/>\n",
              "  </svg>\n",
              "      </button>\n",
              "      \n",
              "  <style>\n",
              "    .colab-df-container {\n",
              "      display:flex;\n",
              "      flex-wrap:wrap;\n",
              "      gap: 12px;\n",
              "    }\n",
              "\n",
              "    .colab-df-convert {\n",
              "      background-color: #E8F0FE;\n",
              "      border: none;\n",
              "      border-radius: 50%;\n",
              "      cursor: pointer;\n",
              "      display: none;\n",
              "      fill: #1967D2;\n",
              "      height: 32px;\n",
              "      padding: 0 0 0 0;\n",
              "      width: 32px;\n",
              "    }\n",
              "\n",
              "    .colab-df-convert:hover {\n",
              "      background-color: #E2EBFA;\n",
              "      box-shadow: 0px 1px 2px rgba(60, 64, 67, 0.3), 0px 1px 3px 1px rgba(60, 64, 67, 0.15);\n",
              "      fill: #174EA6;\n",
              "    }\n",
              "\n",
              "    [theme=dark] .colab-df-convert {\n",
              "      background-color: #3B4455;\n",
              "      fill: #D2E3FC;\n",
              "    }\n",
              "\n",
              "    [theme=dark] .colab-df-convert:hover {\n",
              "      background-color: #434B5C;\n",
              "      box-shadow: 0px 1px 3px 1px rgba(0, 0, 0, 0.15);\n",
              "      filter: drop-shadow(0px 1px 2px rgba(0, 0, 0, 0.3));\n",
              "      fill: #FFFFFF;\n",
              "    }\n",
              "  </style>\n",
              "\n",
              "      <script>\n",
              "        const buttonEl =\n",
              "          document.querySelector('#df-34ee975c-7407-4ba8-8fdb-c6db378468c1 button.colab-df-convert');\n",
              "        buttonEl.style.display =\n",
              "          google.colab.kernel.accessAllowed ? 'block' : 'none';\n",
              "\n",
              "        async function convertToInteractive(key) {\n",
              "          const element = document.querySelector('#df-34ee975c-7407-4ba8-8fdb-c6db378468c1');\n",
              "          const dataTable =\n",
              "            await google.colab.kernel.invokeFunction('convertToInteractive',\n",
              "                                                     [key], {});\n",
              "          if (!dataTable) return;\n",
              "\n",
              "          const docLinkHtml = 'Like what you see? Visit the ' +\n",
              "            '<a target=\"_blank\" href=https://colab.research.google.com/notebooks/data_table.ipynb>data table notebook</a>'\n",
              "            + ' to learn more about interactive tables.';\n",
              "          element.innerHTML = '';\n",
              "          dataTable['output_type'] = 'display_data';\n",
              "          await google.colab.output.renderOutput(dataTable, element);\n",
              "          const docLink = document.createElement('div');\n",
              "          docLink.innerHTML = docLinkHtml;\n",
              "          element.appendChild(docLink);\n",
              "        }\n",
              "      </script>\n",
              "    </div>\n",
              "  </div>\n",
              "  "
            ]
          },
          "metadata": {},
          "execution_count": 11
        }
      ]
    },
    {
      "cell_type": "code",
      "source": [
        "df1.tail()"
      ],
      "metadata": {
        "colab": {
          "base_uri": "https://localhost:8080/",
          "height": 270
        },
        "id": "Dwz8_u0yzbSE",
        "outputId": "95317254-d4ac-4f72-d336-27bd80d28359"
      },
      "execution_count": null,
      "outputs": [
        {
          "output_type": "execute_result",
          "data": {
            "text/plain": [
              "     alcohol  malic_acid   ash  alcalinity_of_ash  magnesium  total_phenols  \\\n",
              "173    13.71        5.65  2.45               20.5       95.0           1.68   \n",
              "174    13.40        3.91  2.48               23.0      102.0           1.80   \n",
              "175    13.27        4.28  2.26               20.0      120.0           1.59   \n",
              "176    13.17        2.59  2.37               20.0      120.0           1.65   \n",
              "177    14.13        4.10  2.74               24.5       96.0           2.05   \n",
              "\n",
              "     flavanoids  nonflavanoid_phenols  proanthocyanins  color_intensity   hue  \\\n",
              "173        0.61                  0.52             1.06              7.7  0.64   \n",
              "174        0.75                  0.43             1.41              7.3  0.70   \n",
              "175        0.69                  0.43             1.35             10.2  0.59   \n",
              "176        0.68                  0.53             1.46              9.3  0.60   \n",
              "177        0.76                  0.56             1.35              9.2  0.61   \n",
              "\n",
              "     od280/od315_of_diluted_wines  proline  \n",
              "173                          1.74    740.0  \n",
              "174                          1.56    750.0  \n",
              "175                          1.56    835.0  \n",
              "176                          1.62    840.0  \n",
              "177                          1.60    560.0  "
            ],
            "text/html": [
              "\n",
              "  <div id=\"df-d454e11e-7ffb-4f5a-b7eb-008271029578\">\n",
              "    <div class=\"colab-df-container\">\n",
              "      <div>\n",
              "<style scoped>\n",
              "    .dataframe tbody tr th:only-of-type {\n",
              "        vertical-align: middle;\n",
              "    }\n",
              "\n",
              "    .dataframe tbody tr th {\n",
              "        vertical-align: top;\n",
              "    }\n",
              "\n",
              "    .dataframe thead th {\n",
              "        text-align: right;\n",
              "    }\n",
              "</style>\n",
              "<table border=\"1\" class=\"dataframe\">\n",
              "  <thead>\n",
              "    <tr style=\"text-align: right;\">\n",
              "      <th></th>\n",
              "      <th>alcohol</th>\n",
              "      <th>malic_acid</th>\n",
              "      <th>ash</th>\n",
              "      <th>alcalinity_of_ash</th>\n",
              "      <th>magnesium</th>\n",
              "      <th>total_phenols</th>\n",
              "      <th>flavanoids</th>\n",
              "      <th>nonflavanoid_phenols</th>\n",
              "      <th>proanthocyanins</th>\n",
              "      <th>color_intensity</th>\n",
              "      <th>hue</th>\n",
              "      <th>od280/od315_of_diluted_wines</th>\n",
              "      <th>proline</th>\n",
              "    </tr>\n",
              "  </thead>\n",
              "  <tbody>\n",
              "    <tr>\n",
              "      <th>173</th>\n",
              "      <td>13.71</td>\n",
              "      <td>5.65</td>\n",
              "      <td>2.45</td>\n",
              "      <td>20.5</td>\n",
              "      <td>95.0</td>\n",
              "      <td>1.68</td>\n",
              "      <td>0.61</td>\n",
              "      <td>0.52</td>\n",
              "      <td>1.06</td>\n",
              "      <td>7.7</td>\n",
              "      <td>0.64</td>\n",
              "      <td>1.74</td>\n",
              "      <td>740.0</td>\n",
              "    </tr>\n",
              "    <tr>\n",
              "      <th>174</th>\n",
              "      <td>13.40</td>\n",
              "      <td>3.91</td>\n",
              "      <td>2.48</td>\n",
              "      <td>23.0</td>\n",
              "      <td>102.0</td>\n",
              "      <td>1.80</td>\n",
              "      <td>0.75</td>\n",
              "      <td>0.43</td>\n",
              "      <td>1.41</td>\n",
              "      <td>7.3</td>\n",
              "      <td>0.70</td>\n",
              "      <td>1.56</td>\n",
              "      <td>750.0</td>\n",
              "    </tr>\n",
              "    <tr>\n",
              "      <th>175</th>\n",
              "      <td>13.27</td>\n",
              "      <td>4.28</td>\n",
              "      <td>2.26</td>\n",
              "      <td>20.0</td>\n",
              "      <td>120.0</td>\n",
              "      <td>1.59</td>\n",
              "      <td>0.69</td>\n",
              "      <td>0.43</td>\n",
              "      <td>1.35</td>\n",
              "      <td>10.2</td>\n",
              "      <td>0.59</td>\n",
              "      <td>1.56</td>\n",
              "      <td>835.0</td>\n",
              "    </tr>\n",
              "    <tr>\n",
              "      <th>176</th>\n",
              "      <td>13.17</td>\n",
              "      <td>2.59</td>\n",
              "      <td>2.37</td>\n",
              "      <td>20.0</td>\n",
              "      <td>120.0</td>\n",
              "      <td>1.65</td>\n",
              "      <td>0.68</td>\n",
              "      <td>0.53</td>\n",
              "      <td>1.46</td>\n",
              "      <td>9.3</td>\n",
              "      <td>0.60</td>\n",
              "      <td>1.62</td>\n",
              "      <td>840.0</td>\n",
              "    </tr>\n",
              "    <tr>\n",
              "      <th>177</th>\n",
              "      <td>14.13</td>\n",
              "      <td>4.10</td>\n",
              "      <td>2.74</td>\n",
              "      <td>24.5</td>\n",
              "      <td>96.0</td>\n",
              "      <td>2.05</td>\n",
              "      <td>0.76</td>\n",
              "      <td>0.56</td>\n",
              "      <td>1.35</td>\n",
              "      <td>9.2</td>\n",
              "      <td>0.61</td>\n",
              "      <td>1.60</td>\n",
              "      <td>560.0</td>\n",
              "    </tr>\n",
              "  </tbody>\n",
              "</table>\n",
              "</div>\n",
              "      <button class=\"colab-df-convert\" onclick=\"convertToInteractive('df-d454e11e-7ffb-4f5a-b7eb-008271029578')\"\n",
              "              title=\"Convert this dataframe to an interactive table.\"\n",
              "              style=\"display:none;\">\n",
              "        \n",
              "  <svg xmlns=\"http://www.w3.org/2000/svg\" height=\"24px\"viewBox=\"0 0 24 24\"\n",
              "       width=\"24px\">\n",
              "    <path d=\"M0 0h24v24H0V0z\" fill=\"none\"/>\n",
              "    <path d=\"M18.56 5.44l.94 2.06.94-2.06 2.06-.94-2.06-.94-.94-2.06-.94 2.06-2.06.94zm-11 1L8.5 8.5l.94-2.06 2.06-.94-2.06-.94L8.5 2.5l-.94 2.06-2.06.94zm10 10l.94 2.06.94-2.06 2.06-.94-2.06-.94-.94-2.06-.94 2.06-2.06.94z\"/><path d=\"M17.41 7.96l-1.37-1.37c-.4-.4-.92-.59-1.43-.59-.52 0-1.04.2-1.43.59L10.3 9.45l-7.72 7.72c-.78.78-.78 2.05 0 2.83L4 21.41c.39.39.9.59 1.41.59.51 0 1.02-.2 1.41-.59l7.78-7.78 2.81-2.81c.8-.78.8-2.07 0-2.86zM5.41 20L4 18.59l7.72-7.72 1.47 1.35L5.41 20z\"/>\n",
              "  </svg>\n",
              "      </button>\n",
              "      \n",
              "  <style>\n",
              "    .colab-df-container {\n",
              "      display:flex;\n",
              "      flex-wrap:wrap;\n",
              "      gap: 12px;\n",
              "    }\n",
              "\n",
              "    .colab-df-convert {\n",
              "      background-color: #E8F0FE;\n",
              "      border: none;\n",
              "      border-radius: 50%;\n",
              "      cursor: pointer;\n",
              "      display: none;\n",
              "      fill: #1967D2;\n",
              "      height: 32px;\n",
              "      padding: 0 0 0 0;\n",
              "      width: 32px;\n",
              "    }\n",
              "\n",
              "    .colab-df-convert:hover {\n",
              "      background-color: #E2EBFA;\n",
              "      box-shadow: 0px 1px 2px rgba(60, 64, 67, 0.3), 0px 1px 3px 1px rgba(60, 64, 67, 0.15);\n",
              "      fill: #174EA6;\n",
              "    }\n",
              "\n",
              "    [theme=dark] .colab-df-convert {\n",
              "      background-color: #3B4455;\n",
              "      fill: #D2E3FC;\n",
              "    }\n",
              "\n",
              "    [theme=dark] .colab-df-convert:hover {\n",
              "      background-color: #434B5C;\n",
              "      box-shadow: 0px 1px 3px 1px rgba(0, 0, 0, 0.15);\n",
              "      filter: drop-shadow(0px 1px 2px rgba(0, 0, 0, 0.3));\n",
              "      fill: #FFFFFF;\n",
              "    }\n",
              "  </style>\n",
              "\n",
              "      <script>\n",
              "        const buttonEl =\n",
              "          document.querySelector('#df-d454e11e-7ffb-4f5a-b7eb-008271029578 button.colab-df-convert');\n",
              "        buttonEl.style.display =\n",
              "          google.colab.kernel.accessAllowed ? 'block' : 'none';\n",
              "\n",
              "        async function convertToInteractive(key) {\n",
              "          const element = document.querySelector('#df-d454e11e-7ffb-4f5a-b7eb-008271029578');\n",
              "          const dataTable =\n",
              "            await google.colab.kernel.invokeFunction('convertToInteractive',\n",
              "                                                     [key], {});\n",
              "          if (!dataTable) return;\n",
              "\n",
              "          const docLinkHtml = 'Like what you see? Visit the ' +\n",
              "            '<a target=\"_blank\" href=https://colab.research.google.com/notebooks/data_table.ipynb>data table notebook</a>'\n",
              "            + ' to learn more about interactive tables.';\n",
              "          element.innerHTML = '';\n",
              "          dataTable['output_type'] = 'display_data';\n",
              "          await google.colab.output.renderOutput(dataTable, element);\n",
              "          const docLink = document.createElement('div');\n",
              "          docLink.innerHTML = docLinkHtml;\n",
              "          element.appendChild(docLink);\n",
              "        }\n",
              "      </script>\n",
              "    </div>\n",
              "  </div>\n",
              "  "
            ]
          },
          "metadata": {},
          "execution_count": 12
        }
      ]
    },
    {
      "cell_type": "code",
      "source": [
        "df1.info"
      ],
      "metadata": {
        "colab": {
          "base_uri": "https://localhost:8080/"
        },
        "id": "U1pIkOvtzlcT",
        "outputId": "cf53d0f2-66f4-44ef-ea1d-6959539bd21e"
      },
      "execution_count": null,
      "outputs": [
        {
          "output_type": "execute_result",
          "data": {
            "text/plain": [
              "<bound method DataFrame.info of      alcohol  malic_acid   ash  alcalinity_of_ash  magnesium  total_phenols  \\\n",
              "0      14.23        1.71  2.43               15.6      127.0           2.80   \n",
              "1      13.20        1.78  2.14               11.2      100.0           2.65   \n",
              "2      13.16        2.36  2.67               18.6      101.0           2.80   \n",
              "3      14.37        1.95  2.50               16.8      113.0           3.85   \n",
              "4      13.24        2.59  2.87               21.0      118.0           2.80   \n",
              "..       ...         ...   ...                ...        ...            ...   \n",
              "173    13.71        5.65  2.45               20.5       95.0           1.68   \n",
              "174    13.40        3.91  2.48               23.0      102.0           1.80   \n",
              "175    13.27        4.28  2.26               20.0      120.0           1.59   \n",
              "176    13.17        2.59  2.37               20.0      120.0           1.65   \n",
              "177    14.13        4.10  2.74               24.5       96.0           2.05   \n",
              "\n",
              "     flavanoids  nonflavanoid_phenols  proanthocyanins  color_intensity   hue  \\\n",
              "0          3.06                  0.28             2.29             5.64  1.04   \n",
              "1          2.76                  0.26             1.28             4.38  1.05   \n",
              "2          3.24                  0.30             2.81             5.68  1.03   \n",
              "3          3.49                  0.24             2.18             7.80  0.86   \n",
              "4          2.69                  0.39             1.82             4.32  1.04   \n",
              "..          ...                   ...              ...              ...   ...   \n",
              "173        0.61                  0.52             1.06             7.70  0.64   \n",
              "174        0.75                  0.43             1.41             7.30  0.70   \n",
              "175        0.69                  0.43             1.35            10.20  0.59   \n",
              "176        0.68                  0.53             1.46             9.30  0.60   \n",
              "177        0.76                  0.56             1.35             9.20  0.61   \n",
              "\n",
              "     od280/od315_of_diluted_wines  proline  \n",
              "0                            3.92   1065.0  \n",
              "1                            3.40   1050.0  \n",
              "2                            3.17   1185.0  \n",
              "3                            3.45   1480.0  \n",
              "4                            2.93    735.0  \n",
              "..                            ...      ...  \n",
              "173                          1.74    740.0  \n",
              "174                          1.56    750.0  \n",
              "175                          1.56    835.0  \n",
              "176                          1.62    840.0  \n",
              "177                          1.60    560.0  \n",
              "\n",
              "[178 rows x 13 columns]>"
            ]
          },
          "metadata": {},
          "execution_count": 13
        }
      ]
    },
    {
      "cell_type": "code",
      "source": [
        "df2=pd.DataFrame(data.target,columns=['target'])"
      ],
      "metadata": {
        "id": "wsD7r4KezzzC"
      },
      "execution_count": null,
      "outputs": []
    },
    {
      "cell_type": "code",
      "source": [
        "df2"
      ],
      "metadata": {
        "colab": {
          "base_uri": "https://localhost:8080/",
          "height": 424
        },
        "id": "TzBC_ueXmhWz",
        "outputId": "7c835e8f-c5ce-4477-a240-fe3af69db93a"
      },
      "execution_count": null,
      "outputs": [
        {
          "output_type": "execute_result",
          "data": {
            "text/plain": [
              "     target\n",
              "0         0\n",
              "1         0\n",
              "2         0\n",
              "3         0\n",
              "4         0\n",
              "..      ...\n",
              "173       2\n",
              "174       2\n",
              "175       2\n",
              "176       2\n",
              "177       2\n",
              "\n",
              "[178 rows x 1 columns]"
            ],
            "text/html": [
              "\n",
              "  <div id=\"df-3f501c06-2b4c-493c-bc11-4f3bf58c0e76\">\n",
              "    <div class=\"colab-df-container\">\n",
              "      <div>\n",
              "<style scoped>\n",
              "    .dataframe tbody tr th:only-of-type {\n",
              "        vertical-align: middle;\n",
              "    }\n",
              "\n",
              "    .dataframe tbody tr th {\n",
              "        vertical-align: top;\n",
              "    }\n",
              "\n",
              "    .dataframe thead th {\n",
              "        text-align: right;\n",
              "    }\n",
              "</style>\n",
              "<table border=\"1\" class=\"dataframe\">\n",
              "  <thead>\n",
              "    <tr style=\"text-align: right;\">\n",
              "      <th></th>\n",
              "      <th>target</th>\n",
              "    </tr>\n",
              "  </thead>\n",
              "  <tbody>\n",
              "    <tr>\n",
              "      <th>0</th>\n",
              "      <td>0</td>\n",
              "    </tr>\n",
              "    <tr>\n",
              "      <th>1</th>\n",
              "      <td>0</td>\n",
              "    </tr>\n",
              "    <tr>\n",
              "      <th>2</th>\n",
              "      <td>0</td>\n",
              "    </tr>\n",
              "    <tr>\n",
              "      <th>3</th>\n",
              "      <td>0</td>\n",
              "    </tr>\n",
              "    <tr>\n",
              "      <th>4</th>\n",
              "      <td>0</td>\n",
              "    </tr>\n",
              "    <tr>\n",
              "      <th>...</th>\n",
              "      <td>...</td>\n",
              "    </tr>\n",
              "    <tr>\n",
              "      <th>173</th>\n",
              "      <td>2</td>\n",
              "    </tr>\n",
              "    <tr>\n",
              "      <th>174</th>\n",
              "      <td>2</td>\n",
              "    </tr>\n",
              "    <tr>\n",
              "      <th>175</th>\n",
              "      <td>2</td>\n",
              "    </tr>\n",
              "    <tr>\n",
              "      <th>176</th>\n",
              "      <td>2</td>\n",
              "    </tr>\n",
              "    <tr>\n",
              "      <th>177</th>\n",
              "      <td>2</td>\n",
              "    </tr>\n",
              "  </tbody>\n",
              "</table>\n",
              "<p>178 rows × 1 columns</p>\n",
              "</div>\n",
              "      <button class=\"colab-df-convert\" onclick=\"convertToInteractive('df-3f501c06-2b4c-493c-bc11-4f3bf58c0e76')\"\n",
              "              title=\"Convert this dataframe to an interactive table.\"\n",
              "              style=\"display:none;\">\n",
              "        \n",
              "  <svg xmlns=\"http://www.w3.org/2000/svg\" height=\"24px\"viewBox=\"0 0 24 24\"\n",
              "       width=\"24px\">\n",
              "    <path d=\"M0 0h24v24H0V0z\" fill=\"none\"/>\n",
              "    <path d=\"M18.56 5.44l.94 2.06.94-2.06 2.06-.94-2.06-.94-.94-2.06-.94 2.06-2.06.94zm-11 1L8.5 8.5l.94-2.06 2.06-.94-2.06-.94L8.5 2.5l-.94 2.06-2.06.94zm10 10l.94 2.06.94-2.06 2.06-.94-2.06-.94-.94-2.06-.94 2.06-2.06.94z\"/><path d=\"M17.41 7.96l-1.37-1.37c-.4-.4-.92-.59-1.43-.59-.52 0-1.04.2-1.43.59L10.3 9.45l-7.72 7.72c-.78.78-.78 2.05 0 2.83L4 21.41c.39.39.9.59 1.41.59.51 0 1.02-.2 1.41-.59l7.78-7.78 2.81-2.81c.8-.78.8-2.07 0-2.86zM5.41 20L4 18.59l7.72-7.72 1.47 1.35L5.41 20z\"/>\n",
              "  </svg>\n",
              "      </button>\n",
              "      \n",
              "  <style>\n",
              "    .colab-df-container {\n",
              "      display:flex;\n",
              "      flex-wrap:wrap;\n",
              "      gap: 12px;\n",
              "    }\n",
              "\n",
              "    .colab-df-convert {\n",
              "      background-color: #E8F0FE;\n",
              "      border: none;\n",
              "      border-radius: 50%;\n",
              "      cursor: pointer;\n",
              "      display: none;\n",
              "      fill: #1967D2;\n",
              "      height: 32px;\n",
              "      padding: 0 0 0 0;\n",
              "      width: 32px;\n",
              "    }\n",
              "\n",
              "    .colab-df-convert:hover {\n",
              "      background-color: #E2EBFA;\n",
              "      box-shadow: 0px 1px 2px rgba(60, 64, 67, 0.3), 0px 1px 3px 1px rgba(60, 64, 67, 0.15);\n",
              "      fill: #174EA6;\n",
              "    }\n",
              "\n",
              "    [theme=dark] .colab-df-convert {\n",
              "      background-color: #3B4455;\n",
              "      fill: #D2E3FC;\n",
              "    }\n",
              "\n",
              "    [theme=dark] .colab-df-convert:hover {\n",
              "      background-color: #434B5C;\n",
              "      box-shadow: 0px 1px 3px 1px rgba(0, 0, 0, 0.15);\n",
              "      filter: drop-shadow(0px 1px 2px rgba(0, 0, 0, 0.3));\n",
              "      fill: #FFFFFF;\n",
              "    }\n",
              "  </style>\n",
              "\n",
              "      <script>\n",
              "        const buttonEl =\n",
              "          document.querySelector('#df-3f501c06-2b4c-493c-bc11-4f3bf58c0e76 button.colab-df-convert');\n",
              "        buttonEl.style.display =\n",
              "          google.colab.kernel.accessAllowed ? 'block' : 'none';\n",
              "\n",
              "        async function convertToInteractive(key) {\n",
              "          const element = document.querySelector('#df-3f501c06-2b4c-493c-bc11-4f3bf58c0e76');\n",
              "          const dataTable =\n",
              "            await google.colab.kernel.invokeFunction('convertToInteractive',\n",
              "                                                     [key], {});\n",
              "          if (!dataTable) return;\n",
              "\n",
              "          const docLinkHtml = 'Like what you see? Visit the ' +\n",
              "            '<a target=\"_blank\" href=https://colab.research.google.com/notebooks/data_table.ipynb>data table notebook</a>'\n",
              "            + ' to learn more about interactive tables.';\n",
              "          element.innerHTML = '';\n",
              "          dataTable['output_type'] = 'display_data';\n",
              "          await google.colab.output.renderOutput(dataTable, element);\n",
              "          const docLink = document.createElement('div');\n",
              "          docLink.innerHTML = docLinkHtml;\n",
              "          element.appendChild(docLink);\n",
              "        }\n",
              "      </script>\n",
              "    </div>\n",
              "  </div>\n",
              "  "
            ]
          },
          "metadata": {},
          "execution_count": 15
        }
      ]
    },
    {
      "cell_type": "code",
      "source": [
        "plt.figure(figsize=(10, 7))\n",
        "plt.title(label='Wine dataset',fontsize=25,color=\"skyblue\")\n",
        "plt.scatter(df1['alcohol'],df1['malic_acid'],c=df2['target'])"
      ],
      "metadata": {
        "colab": {
          "base_uri": "https://localhost:8080/",
          "height": 470
        },
        "id": "Uv4wjjW4t9Hw",
        "outputId": "ac6621d5-ece5-428c-e706-faa788a32df5"
      },
      "execution_count": null,
      "outputs": [
        {
          "output_type": "execute_result",
          "data": {
            "text/plain": [
              "<matplotlib.collections.PathCollection at 0x7f38b3d01ad0>"
            ]
          },
          "metadata": {},
          "execution_count": 16
        },
        {
          "output_type": "display_data",
          "data": {
            "text/plain": [
              "<Figure size 720x504 with 1 Axes>"
            ],
            "image/png": "[encoded data removed]"
          },
          "metadata": {
            "needs_background": "light"
          }
        }
      ]
    },
    {
      "cell_type": "code",
      "source": [
        ""
      ],
      "metadata": {
        "id": "HPMK6YrkyN5q"
      },
      "execution_count": null,
      "outputs": []
    },
    {
      "cell_type": "markdown",
      "source": [
        ""
      ],
      "metadata": {
        "id": "iy8uHx86yOaN"
      }
    },
    {
      "cell_type": "markdown",
      "metadata": {
        "id": "RC4jnnyp7w6N"
      },
      "source": [
        "# Feature scaling of dataset by using StandardScaller"
      ]
    },
    {
      "cell_type": "code",
      "source": [
        "# #Standardizing\n",
        "# from sklearn.preprocessing import StandardScaler\n",
        "# scaler = StandardScaler()\n",
        "# df1=scaler.fit_transform(X)"
      ],
      "metadata": {
        "id": "_NOLnIhx4hHl"
      },
      "execution_count": null,
      "outputs": []
    },
    {
      "cell_type": "code",
      "source": [
        "from sklearn.preprocessing import StandardScaler\n",
        "sc = StandardScaler()\n",
        "for i in df1.columns:\n",
        "  y=np.array(df1[i]).reshape(-1,1)\n",
        "  df1[i]=sc.fit_transform(y)"
      ],
      "metadata": {
        "id": "Sqy294ko55CX"
      },
      "execution_count": null,
      "outputs": []
    },
    {
      "cell_type": "code",
      "source": [
        "df1.head()"
      ],
      "metadata": {
        "colab": {
          "base_uri": "https://localhost:8080/",
          "height": 270
        },
        "id": "u_bd-R7S6AbV",
        "outputId": "a0e9a704-bb1c-419a-d6ca-e61f3ba97441"
      },
      "execution_count": null,
      "outputs": [
        {
          "output_type": "execute_result",
          "data": {
            "text/plain": [
              "    alcohol  malic_acid       ash  alcalinity_of_ash  magnesium  \\\n",
              "0  1.518613   -0.562250  0.232053          -1.169593   1.913905   \n",
              "1  0.246290   -0.499413 -0.827996          -2.490847   0.018145   \n",
              "2  0.196879    0.021231  1.109334          -0.268738   0.088358   \n",
              "3  1.691550   -0.346811  0.487926          -0.809251   0.930918   \n",
              "4  0.295700    0.227694  1.840403           0.451946   1.281985   \n",
              "\n",
              "   total_phenols  flavanoids  nonflavanoid_phenols  proanthocyanins  \\\n",
              "0       0.808997    1.034819             -0.659563         1.224884   \n",
              "1       0.568648    0.733629             -0.820719        -0.544721   \n",
              "2       0.808997    1.215533             -0.498407         2.135968   \n",
              "3       2.491446    1.466525             -0.981875         1.032155   \n",
              "4       0.808997    0.663351              0.226796         0.401404   \n",
              "\n",
              "   color_intensity       hue  od280/od315_of_diluted_wines   proline  \n",
              "0         0.251717  0.362177                      1.847920  1.013009  \n",
              "1        -0.293321  0.406051                      1.113449  0.965242  \n",
              "2         0.269020  0.318304                      0.788587  1.395148  \n",
              "3         1.186068 -0.427544                      1.184071  2.334574  \n",
              "4        -0.319276  0.362177                      0.449601 -0.037874  "
            ],
            "text/html": [
              "\n",
              "  <div id=\"df-2a2fe4ce-6c08-4b47-8b28-4956e5252c87\">\n",
              "    <div class=\"colab-df-container\">\n",
              "      <div>\n",
              "<style scoped>\n",
              "    .dataframe tbody tr th:only-of-type {\n",
              "        vertical-align: middle;\n",
              "    }\n",
              "\n",
              "    .dataframe tbody tr th {\n",
              "        vertical-align: top;\n",
              "    }\n",
              "\n",
              "    .dataframe thead th {\n",
              "        text-align: right;\n",
              "    }\n",
              "</style>\n",
              "<table border=\"1\" class=\"dataframe\">\n",
              "  <thead>\n",
              "    <tr style=\"text-align: right;\">\n",
              "      <th></th>\n",
              "      <th>alcohol</th>\n",
              "      <th>malic_acid</th>\n",
              "      <th>ash</th>\n",
              "      <th>alcalinity_of_ash</th>\n",
              "      <th>magnesium</th>\n",
              "      <th>total_phenols</th>\n",
              "      <th>flavanoids</th>\n",
              "      <th>nonflavanoid_phenols</th>\n",
              "      <th>proanthocyanins</th>\n",
              "      <th>color_intensity</th>\n",
              "      <th>hue</th>\n",
              "      <th>od280/od315_of_diluted_wines</th>\n",
              "      <th>proline</th>\n",
              "    </tr>\n",
              "  </thead>\n",
              "  <tbody>\n",
              "    <tr>\n",
              "      <th>0</th>\n",
              "      <td>1.518613</td>\n",
              "      <td>-0.562250</td>\n",
              "      <td>0.232053</td>\n",
              "      <td>-1.169593</td>\n",
              "      <td>1.913905</td>\n",
              "      <td>0.808997</td>\n",
              "      <td>1.034819</td>\n",
              "      <td>-0.659563</td>\n",
              "      <td>1.224884</td>\n",
              "      <td>0.251717</td>\n",
              "      <td>0.362177</td>\n",
              "      <td>1.847920</td>\n",
              "      <td>1.013009</td>\n",
              "    </tr>\n",
              "    <tr>\n",
              "      <th>1</th>\n",
              "      <td>0.246290</td>\n",
              "      <td>-0.499413</td>\n",
              "      <td>-0.827996</td>\n",
              "      <td>-2.490847</td>\n",
              "      <td>0.018145</td>\n",
              "      <td>0.568648</td>\n",
              "      <td>0.733629</td>\n",
              "      <td>-0.820719</td>\n",
              "      <td>-0.544721</td>\n",
              "      <td>-0.293321</td>\n",
              "      <td>0.406051</td>\n",
              "      <td>1.113449</td>\n",
              "      <td>0.965242</td>\n",
              "    </tr>\n",
              "    <tr>\n",
              "      <th>2</th>\n",
              "      <td>0.196879</td>\n",
              "      <td>0.021231</td>\n",
              "      <td>1.109334</td>\n",
              "      <td>-0.268738</td>\n",
              "      <td>0.088358</td>\n",
              "      <td>0.808997</td>\n",
              "      <td>1.215533</td>\n",
              "      <td>-0.498407</td>\n",
              "      <td>2.135968</td>\n",
              "      <td>0.269020</td>\n",
              "      <td>0.318304</td>\n",
              "      <td>0.788587</td>\n",
              "      <td>1.395148</td>\n",
              "    </tr>\n",
              "    <tr>\n",
              "      <th>3</th>\n",
              "      <td>1.691550</td>\n",
              "      <td>-0.346811</td>\n",
              "      <td>0.487926</td>\n",
              "      <td>-0.809251</td>\n",
              "      <td>0.930918</td>\n",
              "      <td>2.491446</td>\n",
              "      <td>1.466525</td>\n",
              "      <td>-0.981875</td>\n",
              "      <td>1.032155</td>\n",
              "      <td>1.186068</td>\n",
              "      <td>-0.427544</td>\n",
              "      <td>1.184071</td>\n",
              "      <td>2.334574</td>\n",
              "    </tr>\n",
              "    <tr>\n",
              "      <th>4</th>\n",
              "      <td>0.295700</td>\n",
              "      <td>0.227694</td>\n",
              "      <td>1.840403</td>\n",
              "      <td>0.451946</td>\n",
              "      <td>1.281985</td>\n",
              "      <td>0.808997</td>\n",
              "      <td>0.663351</td>\n",
              "      <td>0.226796</td>\n",
              "      <td>0.401404</td>\n",
              "      <td>-0.319276</td>\n",
              "      <td>0.362177</td>\n",
              "      <td>0.449601</td>\n",
              "      <td>-0.037874</td>\n",
              "    </tr>\n",
              "  </tbody>\n",
              "</table>\n",
              "</div>\n",
              "      <button class=\"colab-df-convert\" onclick=\"convertToInteractive('df-2a2fe4ce-6c08-4b47-8b28-4956e5252c87')\"\n",
              "              title=\"Convert this dataframe to an interactive table.\"\n",
              "              style=\"display:none;\">\n",
              "        \n",
              "  <svg xmlns=\"http://www.w3.org/2000/svg\" height=\"24px\"viewBox=\"0 0 24 24\"\n",
              "       width=\"24px\">\n",
              "    <path d=\"M0 0h24v24H0V0z\" fill=\"none\"/>\n",
              "    <path d=\"M18.56 5.44l.94 2.06.94-2.06 2.06-.94-2.06-.94-.94-2.06-.94 2.06-2.06.94zm-11 1L8.5 8.5l.94-2.06 2.06-.94-2.06-.94L8.5 2.5l-.94 2.06-2.06.94zm10 10l.94 2.06.94-2.06 2.06-.94-2.06-.94-.94-2.06-.94 2.06-2.06.94z\"/><path d=\"M17.41 7.96l-1.37-1.37c-.4-.4-.92-.59-1.43-.59-.52 0-1.04.2-1.43.59L10.3 9.45l-7.72 7.72c-.78.78-.78 2.05 0 2.83L4 21.41c.39.39.9.59 1.41.59.51 0 1.02-.2 1.41-.59l7.78-7.78 2.81-2.81c.8-.78.8-2.07 0-2.86zM5.41 20L4 18.59l7.72-7.72 1.47 1.35L5.41 20z\"/>\n",
              "  </svg>\n",
              "      </button>\n",
              "      \n",
              "  <style>\n",
              "    .colab-df-container {\n",
              "      display:flex;\n",
              "      flex-wrap:wrap;\n",
              "      gap: 12px;\n",
              "    }\n",
              "\n",
              "    .colab-df-convert {\n",
              "      background-color: #E8F0FE;\n",
              "      border: none;\n",
              "      border-radius: 50%;\n",
              "      cursor: pointer;\n",
              "      display: none;\n",
              "      fill: #1967D2;\n",
              "      height: 32px;\n",
              "      padding: 0 0 0 0;\n",
              "      width: 32px;\n",
              "    }\n",
              "\n",
              "    .colab-df-convert:hover {\n",
              "      background-color: #E2EBFA;\n",
              "      box-shadow: 0px 1px 2px rgba(60, 64, 67, 0.3), 0px 1px 3px 1px rgba(60, 64, 67, 0.15);\n",
              "      fill: #174EA6;\n",
              "    }\n",
              "\n",
              "    [theme=dark] .colab-df-convert {\n",
              "      background-color: #3B4455;\n",
              "      fill: #D2E3FC;\n",
              "    }\n",
              "\n",
              "    [theme=dark] .colab-df-convert:hover {\n",
              "      background-color: #434B5C;\n",
              "      box-shadow: 0px 1px 3px 1px rgba(0, 0, 0, 0.15);\n",
              "      filter: drop-shadow(0px 1px 2px rgba(0, 0, 0, 0.3));\n",
              "      fill: #FFFFFF;\n",
              "    }\n",
              "  </style>\n",
              "\n",
              "      <script>\n",
              "        const buttonEl =\n",
              "          document.querySelector('#df-2a2fe4ce-6c08-4b47-8b28-4956e5252c87 button.colab-df-convert');\n",
              "        buttonEl.style.display =\n",
              "          google.colab.kernel.accessAllowed ? 'block' : 'none';\n",
              "\n",
              "        async function convertToInteractive(key) {\n",
              "          const element = document.querySelector('#df-2a2fe4ce-6c08-4b47-8b28-4956e5252c87');\n",
              "          const dataTable =\n",
              "            await google.colab.kernel.invokeFunction('convertToInteractive',\n",
              "                                                     [key], {});\n",
              "          if (!dataTable) return;\n",
              "\n",
              "          const docLinkHtml = 'Like what you see? Visit the ' +\n",
              "            '<a target=\"_blank\" href=https://colab.research.google.com/notebooks/data_table.ipynb>data table notebook</a>'\n",
              "            + ' to learn more about interactive tables.';\n",
              "          element.innerHTML = '';\n",
              "          dataTable['output_type'] = 'display_data';\n",
              "          await google.colab.output.renderOutput(dataTable, element);\n",
              "          const docLink = document.createElement('div');\n",
              "          docLink.innerHTML = docLinkHtml;\n",
              "          element.appendChild(docLink);\n",
              "        }\n",
              "      </script>\n",
              "    </div>\n",
              "  </div>\n",
              "  "
            ]
          },
          "metadata": {},
          "execution_count": 19
        }
      ]
    },
    {
      "cell_type": "code",
      "source": [
        "df1.tail()"
      ],
      "metadata": {
        "colab": {
          "base_uri": "https://localhost:8080/",
          "height": 270
        },
        "id": "voAamJ866Jlj",
        "outputId": "b087783c-f845-4f7f-ebb4-00f215b3d637"
      },
      "execution_count": null,
      "outputs": [
        {
          "output_type": "execute_result",
          "data": {
            "text/plain": [
              "      alcohol  malic_acid       ash  alcalinity_of_ash  magnesium  \\\n",
              "173  0.876275    2.974543  0.305159           0.301803  -0.332922   \n",
              "174  0.493343    1.412609  0.414820           1.052516   0.158572   \n",
              "175  0.332758    1.744744 -0.389355           0.151661   1.422412   \n",
              "176  0.209232    0.227694  0.012732           0.151661   1.422412   \n",
              "177  1.395086    1.583165  1.365208           1.502943  -0.262708   \n",
              "\n",
              "     total_phenols  flavanoids  nonflavanoid_phenols  proanthocyanins  \\\n",
              "173      -0.985614   -1.424900              1.274310        -0.930179   \n",
              "174      -0.793334   -1.284344              0.549108        -0.316950   \n",
              "175      -1.129824   -1.344582              0.549108        -0.422075   \n",
              "176      -1.033684   -1.354622              1.354888        -0.229346   \n",
              "177      -0.392751   -1.274305              1.596623        -0.422075   \n",
              "\n",
              "     color_intensity       hue  od280/od315_of_diluted_wines   proline  \n",
              "173         1.142811 -1.392758                     -1.231206 -0.021952  \n",
              "174         0.969783 -1.129518                     -1.485445  0.009893  \n",
              "175         2.224236 -1.612125                     -1.485445  0.280575  \n",
              "176         1.834923 -1.568252                     -1.400699  0.296498  \n",
              "177         1.791666 -1.524378                     -1.428948 -0.595160  "
            ],
            "text/html": [
              "\n",
              "  <div id=\"df-31b3bf76-1ab9-4902-805d-46e69c1b3ec2\">\n",
              "    <div class=\"colab-df-container\">\n",
              "      <div>\n",
              "<style scoped>\n",
              "    .dataframe tbody tr th:only-of-type {\n",
              "        vertical-align: middle;\n",
              "    }\n",
              "\n",
              "    .dataframe tbody tr th {\n",
              "        vertical-align: top;\n",
              "    }\n",
              "\n",
              "    .dataframe thead th {\n",
              "        text-align: right;\n",
              "    }\n",
              "</style>\n",
              "<table border=\"1\" class=\"dataframe\">\n",
              "  <thead>\n",
              "    <tr style=\"text-align: right;\">\n",
              "      <th></th>\n",
              "      <th>alcohol</th>\n",
              "      <th>malic_acid</th>\n",
              "      <th>ash</th>\n",
              "      <th>alcalinity_of_ash</th>\n",
              "      <th>magnesium</th>\n",
              "      <th>total_phenols</th>\n",
              "      <th>flavanoids</th>\n",
              "      <th>nonflavanoid_phenols</th>\n",
              "      <th>proanthocyanins</th>\n",
              "      <th>color_intensity</th>\n",
              "      <th>hue</th>\n",
              "      <th>od280/od315_of_diluted_wines</th>\n",
              "      <th>proline</th>\n",
              "    </tr>\n",
              "  </thead>\n",
              "  <tbody>\n",
              "    <tr>\n",
              "      <th>173</th>\n",
              "      <td>0.876275</td>\n",
              "      <td>2.974543</td>\n",
              "      <td>0.305159</td>\n",
              "      <td>0.301803</td>\n",
              "      <td>-0.332922</td>\n",
              "      <td>-0.985614</td>\n",
              "      <td>-1.424900</td>\n",
              "      <td>1.274310</td>\n",
              "      <td>-0.930179</td>\n",
              "      <td>1.142811</td>\n",
              "      <td>-1.392758</td>\n",
              "      <td>-1.231206</td>\n",
              "      <td>-0.021952</td>\n",
              "    </tr>\n",
              "    <tr>\n",
              "      <th>174</th>\n",
              "      <td>0.493343</td>\n",
              "      <td>1.412609</td>\n",
              "      <td>0.414820</td>\n",
              "      <td>1.052516</td>\n",
              "      <td>0.158572</td>\n",
              "      <td>-0.793334</td>\n",
              "      <td>-1.284344</td>\n",
              "      <td>0.549108</td>\n",
              "      <td>-0.316950</td>\n",
              "      <td>0.969783</td>\n",
              "      <td>-1.129518</td>\n",
              "      <td>-1.485445</td>\n",
              "      <td>0.009893</td>\n",
              "    </tr>\n",
              "    <tr>\n",
              "      <th>175</th>\n",
              "      <td>0.332758</td>\n",
              "      <td>1.744744</td>\n",
              "      <td>-0.389355</td>\n",
              "      <td>0.151661</td>\n",
              "      <td>1.422412</td>\n",
              "      <td>-1.129824</td>\n",
              "      <td>-1.344582</td>\n",
              "      <td>0.549108</td>\n",
              "      <td>-0.422075</td>\n",
              "      <td>2.224236</td>\n",
              "      <td>-1.612125</td>\n",
              "      <td>-1.485445</td>\n",
              "      <td>0.280575</td>\n",
              "    </tr>\n",
              "    <tr>\n",
              "      <th>176</th>\n",
              "      <td>0.209232</td>\n",
              "      <td>0.227694</td>\n",
              "      <td>0.012732</td>\n",
              "      <td>0.151661</td>\n",
              "      <td>1.422412</td>\n",
              "      <td>-1.033684</td>\n",
              "      <td>-1.354622</td>\n",
              "      <td>1.354888</td>\n",
              "      <td>-0.229346</td>\n",
              "      <td>1.834923</td>\n",
              "      <td>-1.568252</td>\n",
              "      <td>-1.400699</td>\n",
              "      <td>0.296498</td>\n",
              "    </tr>\n",
              "    <tr>\n",
              "      <th>177</th>\n",
              "      <td>1.395086</td>\n",
              "      <td>1.583165</td>\n",
              "      <td>1.365208</td>\n",
              "      <td>1.502943</td>\n",
              "      <td>-0.262708</td>\n",
              "      <td>-0.392751</td>\n",
              "      <td>-1.274305</td>\n",
              "      <td>1.596623</td>\n",
              "      <td>-0.422075</td>\n",
              "      <td>1.791666</td>\n",
              "      <td>-1.524378</td>\n",
              "      <td>-1.428948</td>\n",
              "      <td>-0.595160</td>\n",
              "    </tr>\n",
              "  </tbody>\n",
              "</table>\n",
              "</div>\n",
              "      <button class=\"colab-df-convert\" onclick=\"convertToInteractive('df-31b3bf76-1ab9-4902-805d-46e69c1b3ec2')\"\n",
              "              title=\"Convert this dataframe to an interactive table.\"\n",
              "              style=\"display:none;\">\n",
              "        \n",
              "  <svg xmlns=\"http://www.w3.org/2000/svg\" height=\"24px\"viewBox=\"0 0 24 24\"\n",
              "       width=\"24px\">\n",
              "    <path d=\"M0 0h24v24H0V0z\" fill=\"none\"/>\n",
              "    <path d=\"M18.56 5.44l.94 2.06.94-2.06 2.06-.94-2.06-.94-.94-2.06-.94 2.06-2.06.94zm-11 1L8.5 8.5l.94-2.06 2.06-.94-2.06-.94L8.5 2.5l-.94 2.06-2.06.94zm10 10l.94 2.06.94-2.06 2.06-.94-2.06-.94-.94-2.06-.94 2.06-2.06.94z\"/><path d=\"M17.41 7.96l-1.37-1.37c-.4-.4-.92-.59-1.43-.59-.52 0-1.04.2-1.43.59L10.3 9.45l-7.72 7.72c-.78.78-.78 2.05 0 2.83L4 21.41c.39.39.9.59 1.41.59.51 0 1.02-.2 1.41-.59l7.78-7.78 2.81-2.81c.8-.78.8-2.07 0-2.86zM5.41 20L4 18.59l7.72-7.72 1.47 1.35L5.41 20z\"/>\n",
              "  </svg>\n",
              "      </button>\n",
              "      \n",
              "  <style>\n",
              "    .colab-df-container {\n",
              "      display:flex;\n",
              "      flex-wrap:wrap;\n",
              "      gap: 12px;\n",
              "    }\n",
              "\n",
              "    .colab-df-convert {\n",
              "      background-color: #E8F0FE;\n",
              "      border: none;\n",
              "      border-radius: 50%;\n",
              "      cursor: pointer;\n",
              "      display: none;\n",
              "      fill: #1967D2;\n",
              "      height: 32px;\n",
              "      padding: 0 0 0 0;\n",
              "      width: 32px;\n",
              "    }\n",
              "\n",
              "    .colab-df-convert:hover {\n",
              "      background-color: #E2EBFA;\n",
              "      box-shadow: 0px 1px 2px rgba(60, 64, 67, 0.3), 0px 1px 3px 1px rgba(60, 64, 67, 0.15);\n",
              "      fill: #174EA6;\n",
              "    }\n",
              "\n",
              "    [theme=dark] .colab-df-convert {\n",
              "      background-color: #3B4455;\n",
              "      fill: #D2E3FC;\n",
              "    }\n",
              "\n",
              "    [theme=dark] .colab-df-convert:hover {\n",
              "      background-color: #434B5C;\n",
              "      box-shadow: 0px 1px 3px 1px rgba(0, 0, 0, 0.15);\n",
              "      filter: drop-shadow(0px 1px 2px rgba(0, 0, 0, 0.3));\n",
              "      fill: #FFFFFF;\n",
              "    }\n",
              "  </style>\n",
              "\n",
              "      <script>\n",
              "        const buttonEl =\n",
              "          document.querySelector('#df-31b3bf76-1ab9-4902-805d-46e69c1b3ec2 button.colab-df-convert');\n",
              "        buttonEl.style.display =\n",
              "          google.colab.kernel.accessAllowed ? 'block' : 'none';\n",
              "\n",
              "        async function convertToInteractive(key) {\n",
              "          const element = document.querySelector('#df-31b3bf76-1ab9-4902-805d-46e69c1b3ec2');\n",
              "          const dataTable =\n",
              "            await google.colab.kernel.invokeFunction('convertToInteractive',\n",
              "                                                     [key], {});\n",
              "          if (!dataTable) return;\n",
              "\n",
              "          const docLinkHtml = 'Like what you see? Visit the ' +\n",
              "            '<a target=\"_blank\" href=https://colab.research.google.com/notebooks/data_table.ipynb>data table notebook</a>'\n",
              "            + ' to learn more about interactive tables.';\n",
              "          element.innerHTML = '';\n",
              "          dataTable['output_type'] = 'display_data';\n",
              "          await google.colab.output.renderOutput(dataTable, element);\n",
              "          const docLink = document.createElement('div');\n",
              "          docLink.innerHTML = docLinkHtml;\n",
              "          element.appendChild(docLink);\n",
              "        }\n",
              "      </script>\n",
              "    </div>\n",
              "  </div>\n",
              "  "
            ]
          },
          "metadata": {},
          "execution_count": 20
        }
      ]
    },
    {
      "cell_type": "code",
      "source": [
        ""
      ],
      "metadata": {
        "id": "cQDt2jhuDSid"
      },
      "execution_count": null,
      "outputs": []
    },
    {
      "cell_type": "markdown",
      "source": [
        "# Using SVD"
      ],
      "metadata": {
        "id": "A1quQJAxDTkP"
      }
    },
    {
      "cell_type": "code",
      "source": [
        "svd = TruncatedSVD(n_components=2)\n",
        "result= svd.fit_transform(new_data)\n",
        "print(result[0:5])"
      ],
      "metadata": {
        "colab": {
          "base_uri": "https://localhost:8080/"
        },
        "id": "THTNOGti6SdU",
        "outputId": "8a75cce7-e7c6-4fcf-935b-c782a2008969"
      },
      "execution_count": null,
      "outputs": [
        {
          "output_type": "stream",
          "name": "stdout",
          "text": [
            "[[ 3.31675081 -1.44346263]\n",
            " [ 2.20946492  0.33339289]\n",
            " [ 2.51674015 -1.0311513 ]\n",
            " [ 3.75706561 -2.75637191]\n",
            " [ 1.00890849 -0.86983082]]\n"
          ]
        }
      ]
    },
    {
      "cell_type": "code",
      "source": [
        "r=pd.DataFrame(result,columns=['s1','s2'])\n",
        "r.head()"
      ],
      "metadata": {
        "colab": {
          "base_uri": "https://localhost:8080/",
          "height": 206
        },
        "id": "8LOx4-fJ6158",
        "outputId": "1d27362f-4e16-4572-8f1d-823e3b507e6e"
      },
      "execution_count": null,
      "outputs": [
        {
          "output_type": "execute_result",
          "data": {
            "text/plain": [
              "         s1        s2\n",
              "0  3.316751 -1.443463\n",
              "1  2.209465  0.333393\n",
              "2  2.516740 -1.031151\n",
              "3  3.757066 -2.756372\n",
              "4  1.008908 -0.869831"
            ],
            "text/html": [
              "\n",
              "  <div id=\"df-f7f22a45-93ae-4358-8a39-77c8ba6c1a37\">\n",
              "    <div class=\"colab-df-container\">\n",
              "      <div>\n",
              "<style scoped>\n",
              "    .dataframe tbody tr th:only-of-type {\n",
              "        vertical-align: middle;\n",
              "    }\n",
              "\n",
              "    .dataframe tbody tr th {\n",
              "        vertical-align: top;\n",
              "    }\n",
              "\n",
              "    .dataframe thead th {\n",
              "        text-align: right;\n",
              "    }\n",
              "</style>\n",
              "<table border=\"1\" class=\"dataframe\">\n",
              "  <thead>\n",
              "    <tr style=\"text-align: right;\">\n",
              "      <th></th>\n",
              "      <th>s1</th>\n",
              "      <th>s2</th>\n",
              "    </tr>\n",
              "  </thead>\n",
              "  <tbody>\n",
              "    <tr>\n",
              "      <th>0</th>\n",
              "      <td>3.316751</td>\n",
              "      <td>-1.443463</td>\n",
              "    </tr>\n",
              "    <tr>\n",
              "      <th>1</th>\n",
              "      <td>2.209465</td>\n",
              "      <td>0.333393</td>\n",
              "    </tr>\n",
              "    <tr>\n",
              "      <th>2</th>\n",
              "      <td>2.516740</td>\n",
              "      <td>-1.031151</td>\n",
              "    </tr>\n",
              "    <tr>\n",
              "      <th>3</th>\n",
              "      <td>3.757066</td>\n",
              "      <td>-2.756372</td>\n",
              "    </tr>\n",
              "    <tr>\n",
              "      <th>4</th>\n",
              "      <td>1.008908</td>\n",
              "      <td>-0.869831</td>\n",
              "    </tr>\n",
              "  </tbody>\n",
              "</table>\n",
              "</div>\n",
              "      <button class=\"colab-df-convert\" onclick=\"convertToInteractive('df-f7f22a45-93ae-4358-8a39-77c8ba6c1a37')\"\n",
              "              title=\"Convert this dataframe to an interactive table.\"\n",
              "              style=\"display:none;\">\n",
              "        \n",
              "  <svg xmlns=\"http://www.w3.org/2000/svg\" height=\"24px\"viewBox=\"0 0 24 24\"\n",
              "       width=\"24px\">\n",
              "    <path d=\"M0 0h24v24H0V0z\" fill=\"none\"/>\n",
              "    <path d=\"M18.56 5.44l.94 2.06.94-2.06 2.06-.94-2.06-.94-.94-2.06-.94 2.06-2.06.94zm-11 1L8.5 8.5l.94-2.06 2.06-.94-2.06-.94L8.5 2.5l-.94 2.06-2.06.94zm10 10l.94 2.06.94-2.06 2.06-.94-2.06-.94-.94-2.06-.94 2.06-2.06.94z\"/><path d=\"M17.41 7.96l-1.37-1.37c-.4-.4-.92-.59-1.43-.59-.52 0-1.04.2-1.43.59L10.3 9.45l-7.72 7.72c-.78.78-.78 2.05 0 2.83L4 21.41c.39.39.9.59 1.41.59.51 0 1.02-.2 1.41-.59l7.78-7.78 2.81-2.81c.8-.78.8-2.07 0-2.86zM5.41 20L4 18.59l7.72-7.72 1.47 1.35L5.41 20z\"/>\n",
              "  </svg>\n",
              "      </button>\n",
              "      \n",
              "  <style>\n",
              "    .colab-df-container {\n",
              "      display:flex;\n",
              "      flex-wrap:wrap;\n",
              "      gap: 12px;\n",
              "    }\n",
              "\n",
              "    .colab-df-convert {\n",
              "      background-color: #E8F0FE;\n",
              "      border: none;\n",
              "      border-radius: 50%;\n",
              "      cursor: pointer;\n",
              "      display: none;\n",
              "      fill: #1967D2;\n",
              "      height: 32px;\n",
              "      padding: 0 0 0 0;\n",
              "      width: 32px;\n",
              "    }\n",
              "\n",
              "    .colab-df-convert:hover {\n",
              "      background-color: #E2EBFA;\n",
              "      box-shadow: 0px 1px 2px rgba(60, 64, 67, 0.3), 0px 1px 3px 1px rgba(60, 64, 67, 0.15);\n",
              "      fill: #174EA6;\n",
              "    }\n",
              "\n",
              "    [theme=dark] .colab-df-convert {\n",
              "      background-color: #3B4455;\n",
              "      fill: #D2E3FC;\n",
              "    }\n",
              "\n",
              "    [theme=dark] .colab-df-convert:hover {\n",
              "      background-color: #434B5C;\n",
              "      box-shadow: 0px 1px 3px 1px rgba(0, 0, 0, 0.15);\n",
              "      filter: drop-shadow(0px 1px 2px rgba(0, 0, 0, 0.3));\n",
              "      fill: #FFFFFF;\n",
              "    }\n",
              "  </style>\n",
              "\n",
              "      <script>\n",
              "        const buttonEl =\n",
              "          document.querySelector('#df-f7f22a45-93ae-4358-8a39-77c8ba6c1a37 button.colab-df-convert');\n",
              "        buttonEl.style.display =\n",
              "          google.colab.kernel.accessAllowed ? 'block' : 'none';\n",
              "\n",
              "        async function convertToInteractive(key) {\n",
              "          const element = document.querySelector('#df-f7f22a45-93ae-4358-8a39-77c8ba6c1a37');\n",
              "          const dataTable =\n",
              "            await google.colab.kernel.invokeFunction('convertToInteractive',\n",
              "                                                     [key], {});\n",
              "          if (!dataTable) return;\n",
              "\n",
              "          const docLinkHtml = 'Like what you see? Visit the ' +\n",
              "            '<a target=\"_blank\" href=https://colab.research.google.com/notebooks/data_table.ipynb>data table notebook</a>'\n",
              "            + ' to learn more about interactive tables.';\n",
              "          element.innerHTML = '';\n",
              "          dataTable['output_type'] = 'display_data';\n",
              "          await google.colab.output.renderOutput(dataTable, element);\n",
              "          const docLink = document.createElement('div');\n",
              "          docLink.innerHTML = docLinkHtml;\n",
              "          element.appendChild(docLink);\n",
              "        }\n",
              "      </script>\n",
              "    </div>\n",
              "  </div>\n",
              "  "
            ]
          },
          "metadata": {},
          "execution_count": 22
        }
      ]
    },
    {
      "cell_type": "code",
      "source": [
        ""
      ],
      "metadata": {
        "id": "drZd246qDdWv"
      },
      "execution_count": null,
      "outputs": []
    },
    {
      "cell_type": "markdown",
      "source": [
        "#Using PCA"
      ],
      "metadata": {
        "id": "h2b0Vbv9DeJs"
      }
    },
    {
      "cell_type": "code",
      "source": [
        "pca = PCA(n_components=2)\n",
        "result_pca = pca.fit_transform(df1)\n",
        "explained_variance = pca.explained_variance_ratio_\n",
        "print(explained_variance*100)\n",
        "sum(explained_variance*100)"
      ],
      "metadata": {
        "colab": {
          "base_uri": "https://localhost:8080/"
        },
        "id": "0geehkB364kX",
        "outputId": "bc67895e-e04d-4e13-d723-d8954e11bd3a"
      },
      "execution_count": null,
      "outputs": [
        {
          "output_type": "stream",
          "name": "stdout",
          "text": [
            "[36.1988481  19.20749026]\n"
          ]
        },
        {
          "output_type": "execute_result",
          "data": {
            "text/plain": [
              "55.40633835693532"
            ]
          },
          "metadata": {},
          "execution_count": 23
        }
      ]
    },
    {
      "cell_type": "code",
      "source": [
        "p=pd.DataFrame(result_pca,columns=['pc1','pc2'])\n",
        "p.head()"
      ],
      "metadata": {
        "colab": {
          "base_uri": "https://localhost:8080/",
          "height": 206
        },
        "id": "BLsI4VIK7Au-",
        "outputId": "aeaf7fa7-f3c0-453a-885a-249fa965f0f2"
      },
      "execution_count": null,
      "outputs": [
        {
          "output_type": "execute_result",
          "data": {
            "text/plain": [
              "        pc1       pc2\n",
              "0  3.316751 -1.443463\n",
              "1  2.209465  0.333393\n",
              "2  2.516740 -1.031151\n",
              "3  3.757066 -2.756372\n",
              "4  1.008908 -0.869831"
            ],
            "text/html": [
              "\n",
              "  <div id=\"df-35a5d017-a5de-450a-9d7a-fc8e49db2030\">\n",
              "    <div class=\"colab-df-container\">\n",
              "      <div>\n",
              "<style scoped>\n",
              "    .dataframe tbody tr th:only-of-type {\n",
              "        vertical-align: middle;\n",
              "    }\n",
              "\n",
              "    .dataframe tbody tr th {\n",
              "        vertical-align: top;\n",
              "    }\n",
              "\n",
              "    .dataframe thead th {\n",
              "        text-align: right;\n",
              "    }\n",
              "</style>\n",
              "<table border=\"1\" class=\"dataframe\">\n",
              "  <thead>\n",
              "    <tr style=\"text-align: right;\">\n",
              "      <th></th>\n",
              "      <th>pc1</th>\n",
              "      <th>pc2</th>\n",
              "    </tr>\n",
              "  </thead>\n",
              "  <tbody>\n",
              "    <tr>\n",
              "      <th>0</th>\n",
              "      <td>3.316751</td>\n",
              "      <td>-1.443463</td>\n",
              "    </tr>\n",
              "    <tr>\n",
              "      <th>1</th>\n",
              "      <td>2.209465</td>\n",
              "      <td>0.333393</td>\n",
              "    </tr>\n",
              "    <tr>\n",
              "      <th>2</th>\n",
              "      <td>2.516740</td>\n",
              "      <td>-1.031151</td>\n",
              "    </tr>\n",
              "    <tr>\n",
              "      <th>3</th>\n",
              "      <td>3.757066</td>\n",
              "      <td>-2.756372</td>\n",
              "    </tr>\n",
              "    <tr>\n",
              "      <th>4</th>\n",
              "      <td>1.008908</td>\n",
              "      <td>-0.869831</td>\n",
              "    </tr>\n",
              "  </tbody>\n",
              "</table>\n",
              "</div>\n",
              "      <button class=\"colab-df-convert\" onclick=\"convertToInteractive('df-35a5d017-a5de-450a-9d7a-fc8e49db2030')\"\n",
              "              title=\"Convert this dataframe to an interactive table.\"\n",
              "              style=\"display:none;\">\n",
              "        \n",
              "  <svg xmlns=\"http://www.w3.org/2000/svg\" height=\"24px\"viewBox=\"0 0 24 24\"\n",
              "       width=\"24px\">\n",
              "    <path d=\"M0 0h24v24H0V0z\" fill=\"none\"/>\n",
              "    <path d=\"M18.56 5.44l.94 2.06.94-2.06 2.06-.94-2.06-.94-.94-2.06-.94 2.06-2.06.94zm-11 1L8.5 8.5l.94-2.06 2.06-.94-2.06-.94L8.5 2.5l-.94 2.06-2.06.94zm10 10l.94 2.06.94-2.06 2.06-.94-2.06-.94-.94-2.06-.94 2.06-2.06.94z\"/><path d=\"M17.41 7.96l-1.37-1.37c-.4-.4-.92-.59-1.43-.59-.52 0-1.04.2-1.43.59L10.3 9.45l-7.72 7.72c-.78.78-.78 2.05 0 2.83L4 21.41c.39.39.9.59 1.41.59.51 0 1.02-.2 1.41-.59l7.78-7.78 2.81-2.81c.8-.78.8-2.07 0-2.86zM5.41 20L4 18.59l7.72-7.72 1.47 1.35L5.41 20z\"/>\n",
              "  </svg>\n",
              "      </button>\n",
              "      \n",
              "  <style>\n",
              "    .colab-df-container {\n",
              "      display:flex;\n",
              "      flex-wrap:wrap;\n",
              "      gap: 12px;\n",
              "    }\n",
              "\n",
              "    .colab-df-convert {\n",
              "      background-color: #E8F0FE;\n",
              "      border: none;\n",
              "      border-radius: 50%;\n",
              "      cursor: pointer;\n",
              "      display: none;\n",
              "      fill: #1967D2;\n",
              "      height: 32px;\n",
              "      padding: 0 0 0 0;\n",
              "      width: 32px;\n",
              "    }\n",
              "\n",
              "    .colab-df-convert:hover {\n",
              "      background-color: #E2EBFA;\n",
              "      box-shadow: 0px 1px 2px rgba(60, 64, 67, 0.3), 0px 1px 3px 1px rgba(60, 64, 67, 0.15);\n",
              "      fill: #174EA6;\n",
              "    }\n",
              "\n",
              "    [theme=dark] .colab-df-convert {\n",
              "      background-color: #3B4455;\n",
              "      fill: #D2E3FC;\n",
              "    }\n",
              "\n",
              "    [theme=dark] .colab-df-convert:hover {\n",
              "      background-color: #434B5C;\n",
              "      box-shadow: 0px 1px 3px 1px rgba(0, 0, 0, 0.15);\n",
              "      filter: drop-shadow(0px 1px 2px rgba(0, 0, 0, 0.3));\n",
              "      fill: #FFFFFF;\n",
              "    }\n",
              "  </style>\n",
              "\n",
              "      <script>\n",
              "        const buttonEl =\n",
              "          document.querySelector('#df-35a5d017-a5de-450a-9d7a-fc8e49db2030 button.colab-df-convert');\n",
              "        buttonEl.style.display =\n",
              "          google.colab.kernel.accessAllowed ? 'block' : 'none';\n",
              "\n",
              "        async function convertToInteractive(key) {\n",
              "          const element = document.querySelector('#df-35a5d017-a5de-450a-9d7a-fc8e49db2030');\n",
              "          const dataTable =\n",
              "            await google.colab.kernel.invokeFunction('convertToInteractive',\n",
              "                                                     [key], {});\n",
              "          if (!dataTable) return;\n",
              "\n",
              "          const docLinkHtml = 'Like what you see? Visit the ' +\n",
              "            '<a target=\"_blank\" href=https://colab.research.google.com/notebooks/data_table.ipynb>data table notebook</a>'\n",
              "            + ' to learn more about interactive tables.';\n",
              "          element.innerHTML = '';\n",
              "          dataTable['output_type'] = 'display_data';\n",
              "          await google.colab.output.renderOutput(dataTable, element);\n",
              "          const docLink = document.createElement('div');\n",
              "          docLink.innerHTML = docLinkHtml;\n",
              "          element.appendChild(docLink);\n",
              "        }\n",
              "      </script>\n",
              "    </div>\n",
              "  </div>\n",
              "  "
            ]
          },
          "metadata": {},
          "execution_count": 24
        }
      ]
    },
    {
      "cell_type": "code",
      "source": [
        "# visualize a minmax scaler transform of the wine_dataset\n",
        "from pandas import DataFrame\n",
        "from pandas.plotting import scatter_matrix\n",
        "from sklearn.preprocessing import MinMaxScaler\n",
        "from matplotlib import pyplot\n",
        "# load dataset\n",
        "from sklearn.datasets import load_wine\n",
        "# retrieve just the numeric input values\n",
        "#data =data.values[:, :-1]"
      ],
      "metadata": {
        "id": "P4qyyjFE-SuP"
      },
      "execution_count": null,
      "outputs": []
    },
    {
      "cell_type": "code",
      "source": [
        ""
      ],
      "metadata": {
        "id": "UM-Mky9zDqLu"
      },
      "execution_count": null,
      "outputs": []
    },
    {
      "cell_type": "markdown",
      "source": [
        "# Visualization of SVD and PCA Result"
      ],
      "metadata": {
        "id": "-XapTySLDquo"
      }
    },
    {
      "cell_type": "code",
      "source": [
        "plt.figure(figsize=(20, 8))\n",
        "plt.subplot(1, 2, 1)\n",
        "plt.scatter(r['s1'],r['s2'],c=df2['target'])\n",
        "plt.xlabel('SVD1')\n",
        "plt.ylabel('SVD2')\n",
        "plt.title(label='Relation between 1st and 2nd component of SVD',fontsize=20,color=\"blue\")\n",
        "plt.subplot(1, 2, 2)\n",
        "plt.scatter(p['pc1'],p['pc2'],c=df2['target'])\n",
        "plt.xlabel('PC1')\n",
        "plt.ylabel('PC2')\n",
        "plt.title(label='Relation between 1st and 2nd component of PCA',fontsize=20,color=\"green\")"
      ],
      "metadata": {
        "colab": {
          "base_uri": "https://localhost:8080/",
          "height": 452
        },
        "id": "uy-sHaah7A5h",
        "outputId": "62de41a4-5365-4839-dcfd-fa0cc52b4736"
      },
      "execution_count": null,
      "outputs": [
        {
          "output_type": "execute_result",
          "data": {
            "text/plain": [
              "Text(0.5, 1.0, 'Relation between 1st and 2nd component of PCA')"
            ]
          },
          "metadata": {},
          "execution_count": 26
        },
        {
          "output_type": "display_data",
          "data": {
            "text/plain": [
              "<Figure size 1440x576 with 2 Axes>"
            ],
            "image/png": "[encoded data removed]"
          },
          "metadata": {
            "needs_background": "light"
          }
        }
      ]
    },
    {
      "cell_type": "markdown",
      "metadata": {
        "id": "FIFshjM9-7a0"
      },
      "source": [
        "## Conclussion:- Both of SVD and PCA performed similar decomposition for given dataset and there is no difference in values after dimension reduction techniques"
      ]
    },
    {
      "cell_type": "code",
      "source": [
        "Variance_Explaied=np.cumsum(np.round(pca.explained_variance_ratio_, decimals\n",
        "=11)*100) # cummilative variance\n",
        "plt.plot(Variance_Explaied)\n",
        "plt.xlabel('color_intensity')\n",
        "plt.ylabel('malic_acid')\n",
        "plt.title('Scree plot')"
      ],
      "metadata": {
        "colab": {
          "base_uri": "https://localhost:8080/",
          "height": 313
        },
        "id": "WqfDh1Jh7Gjq",
        "outputId": "2f9a3968-a634-45fe-9cd6-8429cc6243b2"
      },
      "execution_count": null,
      "outputs": [
        {
          "output_type": "execute_result",
          "data": {
            "text/plain": [
              "Text(0.5, 1.0, 'Scree plot')"
            ]
          },
          "metadata": {},
          "execution_count": 27
        },
        {
          "output_type": "display_data",
          "data": {
            "text/plain": [
              "<Figure size 432x288 with 1 Axes>"
            ],
            "image/png": "[encoded data removed]"
          },
          "metadata": {
            "needs_background": "light"
          }
        }
      ]
    },
    {
      "cell_type": "code",
      "source": [
        "X = df1.iloc[:, 1:20].values\n",
        "from sklearn.preprocessing import StandardScaler\n",
        "X = StandardScaler().fit_transform(X)"
      ],
      "metadata": {
        "id": "TwUjxhqaCqCt"
      },
      "execution_count": null,
      "outputs": []
    },
    {
      "cell_type": "markdown",
      "source": [
        "#Using SVD and U,V,and Sigma "
      ],
      "metadata": {
        "id": "4z9ZmGrZJW_W"
      }
    },
    {
      "cell_type": "markdown",
      "source": [
        ""
      ],
      "metadata": {
        "id": "VFHqJbFRJKOr"
      }
    },
    {
      "cell_type": "code",
      "source": [
        "svd = TruncatedSVD(n_components =4)\n",
        "result= svd.fit_transform(df1)\n",
        "print(result)\n",
        "result_svd = svd.fit_transform(df1)\n",
        "explained_variance = svd.explained_variance_ratio_\n",
        "print(explained_variance*100)\n",
        "sum(explained_variance*100)"
      ],
      "metadata": {
        "colab": {
          "base_uri": "https://localhost:8080/"
        },
        "id": "KPj6d9_uOQWE",
        "outputId": "f152e46c-fe93-4e2d-f4f0-a925cc2a0c2c"
      },
      "execution_count": null,
      "outputs": [
        {
          "output_type": "stream",
          "name": "stdout",
          "text": [
            "[[ 3.31675081e+00 -1.44346263e+00 -1.65739045e-01 -2.15631188e-01]\n",
            " [ 2.20946492e+00  3.33392887e-01 -2.02645737e+00 -2.91358318e-01]\n",
            " [ 2.51674015e+00 -1.03115130e+00  9.82818670e-01  7.24902309e-01]\n",
            " [ 3.75706561e+00 -2.75637191e+00 -1.76191842e-01  5.67983308e-01]\n",
            " [ 1.00890849e+00 -8.69830821e-01  2.02668822e+00 -4.09765788e-01]\n",
            " [ 3.05025392e+00 -2.12240111e+00 -6.29395827e-01 -5.15637495e-01]\n",
            " [ 2.44908967e+00 -1.17485013e+00 -9.77094891e-01 -6.58305046e-02]\n",
            " [ 2.05943687e+00 -1.60896307e+00  1.46281883e-01 -1.19260801e+00]\n",
            " [ 2.51087430e+00 -9.18070957e-01 -1.77096903e+00  5.62703612e-02]\n",
            " [ 2.75362819e+00 -7.89437674e-01 -9.84247490e-01  3.49381568e-01]\n",
            " [ 3.47973668e+00 -1.30233324e+00 -4.22735217e-01  2.68417600e-02]\n",
            " [ 1.75475290e+00 -6.11977229e-01 -1.19087832e+00 -8.90164338e-01]\n",
            " [ 2.11346234e+00 -6.75706339e-01 -8.65086426e-01 -3.56438010e-01]\n",
            " [ 3.45815682e+00 -1.13062988e+00 -1.20427635e+00  1.62458063e-01]\n",
            " [ 4.31278391e+00 -2.09597558e+00 -1.26391275e+00  3.05773190e-01]\n",
            " [ 2.30518820e+00 -1.66255173e+00  2.17902616e-01 -1.44059003e+00]\n",
            " [ 2.17195527e+00 -2.32730534e+00  8.31729866e-01 -9.12601275e-01]\n",
            " [ 1.89897118e+00 -1.63136888e+00  7.94913792e-01 -1.08238039e+00]\n",
            " [ 3.54198508e+00 -2.51834367e+00 -4.85458508e-01 -9.10322807e-01]\n",
            " [ 2.08452220e+00 -1.06113799e+00 -1.64746678e-01  4.84997419e-01]\n",
            " [ 3.12440254e+00 -7.86897106e-01 -3.64887083e-01 -2.55616906e-02]\n",
            " [ 1.08657007e+00 -2.41743551e-01  9.36961600e-01  1.02990984e+00]\n",
            " [ 2.53522408e+00  9.18406207e-02 -3.11932659e-01 -4.83912355e-02]\n",
            " [ 1.64498834e+00  5.16278930e-01  1.43885095e-01 -4.13720024e-01]\n",
            " [ 1.76157587e+00  3.17148933e-01  8.90285647e-01 -1.15115611e-01]\n",
            " [ 9.90079102e-01 -9.40667338e-01  3.82090801e+00 -1.32156120e+00]\n",
            " [ 1.77527763e+00 -6.86175134e-01 -8.67004065e-02 -2.32906780e-01]\n",
            " [ 1.23542396e+00  8.98070414e-02 -1.38689654e+00 -4.95682720e-01]\n",
            " [ 2.18840633e+00 -6.89569621e-01  1.39456688e+00 -7.77491811e-01]\n",
            " [ 2.25610898e+00 -1.91461937e-01 -1.09265726e+00  2.86152299e-01]\n",
            " [ 2.50022003e+00 -1.24083383e+00  1.38601785e+00 -3.66865220e-01]\n",
            " [ 2.67741105e+00 -1.47187365e+00 -3.32261728e-01 -3.49353875e-01]\n",
            " [ 1.62857912e+00 -5.27044506e-02 -1.67128706e-01 -7.49314246e-01]\n",
            " [ 1.90269086e+00 -1.63306043e+00  1.17208212e+00 -2.34042904e+00]\n",
            " [ 1.41038853e+00 -6.97934325e-01  4.79743025e-01 -1.06008622e+00]\n",
            " [ 1.90382623e+00 -1.76710951e-01  4.50835040e-01  2.84113552e-01]\n",
            " [ 1.38486223e+00 -6.58639854e-01  4.58438581e-01 -1.28465815e+00]\n",
            " [ 1.12220741e+00 -1.14109760e-01 -3.91072767e-02 -9.56401223e-01]\n",
            " [ 1.50219450e+00  7.69432006e-01 -1.42617735e+00 -7.57508093e-01]\n",
            " [ 2.52980109e+00 -1.80300198e+00 -3.43152389e-01  1.18697430e+00]\n",
            " [ 2.58809543e+00 -7.79616304e-01 -1.18477466e-01  4.75971440e-01]\n",
            " [ 6.68481994e-01 -1.69960941e-01 -7.83362548e-01  1.31308378e+00]\n",
            " [ 3.07080699e+00 -1.15591896e+00 -3.12758084e-01  5.50284635e-01]\n",
            " [ 4.62209138e-01 -3.30742132e-01 -2.01476496e-01  1.43649386e+00]\n",
            " [ 2.10135193e+00  7.10089210e-02 -6.55849415e-01  7.57744839e-01]\n",
            " [ 1.13616618e+00 -1.77710739e+00  2.87057358e-02  6.91831212e-01]\n",
            " [ 2.72660096e+00 -1.19133469e+00 -5.39773261e-01  1.38955067e+00]\n",
            " [ 2.82133927e+00 -6.46258599e-01 -1.15555241e+00  9.87662912e-01]\n",
            " [ 2.00985085e+00 -1.24702946e+00 -5.72939879e-02  2.30643107e-01]\n",
            " [ 2.70749130e+00 -1.75196741e+00 -6.43113612e-01 -1.00231520e-01]\n",
            " [ 3.21491747e+00 -1.66991995e-01 -1.97357168e+00  1.12068394e+00]\n",
            " [ 2.85895983e+00 -7.45278804e-01  4.71950216e-03 -2.15276557e-01]\n",
            " [ 3.50560436e+00 -1.61273386e+00 -5.20774530e-01  1.06536424e-01]\n",
            " [ 2.22479138e+00 -1.87516800e+00  3.39549850e-01 -1.20696658e+00]\n",
            " [ 2.14698782e+00 -1.01675154e+00 -9.57762762e-01 -2.40318190e-01]\n",
            " [ 2.46932948e+00 -1.32900831e+00  5.13437453e-01  2.55348621e-01]\n",
            " [ 2.74151791e+00 -1.43654878e+00 -6.12473396e-01  2.05747441e-01]\n",
            " [ 2.17374092e+00 -1.21219984e+00  2.61779593e-01 -5.04426086e-01]\n",
            " [ 3.13938015e+00 -1.73157912e+00 -2.85661413e-01  2.30567212e-01]\n",
            " [-9.28581969e-01  3.07348616e+00 -4.58506401e+00 -1.05184439e+00]\n",
            " [-1.54248014e+00  1.38144351e+00 -8.74683112e-01 -2.89011975e+00]\n",
            " [-1.83624976e+00  8.29984123e-01 -1.60570219e+00 -1.45210485e+00]\n",
            " [ 3.06068341e-02  1.26278614e+00 -1.78440801e+00 -1.20657607e+00]\n",
            " [ 2.05026161e+00  1.92503260e+00 -7.36877735e-03  7.21321903e-01]\n",
            " [-6.09680827e-01  1.90805881e+00  6.79357938e-01 -2.15307609e+00]\n",
            " [ 9.00227839e-01  7.63911474e-01  5.73361302e-01 -6.79361634e-01]\n",
            " [ 2.24850719e+00  1.88459248e+00 -2.03184019e+00  1.40762723e+00]\n",
            " [ 1.83384027e-01  2.42714611e+00 -1.06974556e+00  1.27417972e-01]\n",
            " [-8.12805027e-01  2.20513987e-01 -7.07005396e-01 -2.48898958e+00]\n",
            " [ 1.97562050e+00  1.40328323e+00 -1.23827622e+00 -1.15230649e+00]\n",
            " [-1.57221622e+00  8.84983137e-01 -6.28997950e-01 -1.17184641e+00]\n",
            " [ 1.65768181e+00  9.56712197e-01  1.95258422e+00  1.52208912e-01]\n",
            " [-7.25372388e-01  1.06364540e+00  8.03322286e-02 -7.60194312e-02]\n",
            " [ 2.56222717e+00 -2.60198551e-01  3.37439396e+00 -9.79399432e-01]\n",
            " [ 1.83256757e+00  1.28787820e+00  4.58280027e-01  1.71350754e-01]\n",
            " [-8.67992903e-01  2.44410119e+00 -1.56333318e+00 -8.31459859e-01]\n",
            " [ 3.70014404e-01  2.15390698e+00 -2.44938635e+00 -1.26159044e-01]\n",
            " [-1.45737704e+00  1.38335177e+00 -2.27306902e-01 -6.96356870e-01]\n",
            " [ 1.26293085e+00  7.70849530e-01 -1.18422452e+00 -9.25882244e-01]\n",
            " [ 3.76150372e-01  1.02704340e+00  1.79446629e+00  9.78544527e-01]\n",
            " [ 7.62063904e-01  3.37505381e+00 -3.57470056e-01 -3.66732915e-01]\n",
            " [ 1.03457797e+00  1.45070974e+00 -3.63011773e-01  2.96595780e-01]\n",
            " [-4.94876756e-01  2.38124353e+00  1.33574318e+00 -1.04097884e+00]\n",
            " [-2.53897708e+00  8.74433573e-02  4.74251393e-01  7.58601454e-01]\n",
            " [ 8.35320145e-01  1.47367055e+00  6.10093576e-01  5.82951878e-01]\n",
            " [ 7.87904615e-01  2.02662652e+00 -2.54723404e-01 -8.09418080e-01]\n",
            " [-8.06832156e-01  2.23383039e+00  7.72855797e-01 -1.01371575e+00]\n",
            " [-5.58042625e-01  2.37298543e+00  2.30761140e+00 -1.03532031e+00]\n",
            " [-1.11511104e+00  1.80224719e+00  9.59253308e-01 -3.31283791e-01]\n",
            " [-5.55722830e-01  2.65754004e+00  8.49126898e-01 -3.19764133e-03]\n",
            " [-1.34928528e+00  2.11800147e+00 -4.76523208e-02 -4.66250567e-01]\n",
            " [-1.56448261e+00  1.85221452e+00  7.81067031e-01 -6.05079391e-01]\n",
            " [-1.93255561e+00  1.55949546e+00 -8.92746761e-02 -5.22569357e-01]\n",
            " [ 7.46665942e-01  2.31293171e+00  1.14679769e-01  1.24853870e+00]\n",
            " [ 9.57455364e-01  2.22352843e+00  1.42444774e-01  3.14042947e-01]\n",
            " [ 2.54386518e+00 -1.69274023e-01  7.88696991e-01 -1.03283704e+00]\n",
            " [-5.43952589e-01  3.68926546e-01  1.30889593e+00 -1.27799856e+00]\n",
            " [ 1.03104975e+00  2.56556935e+00 -1.08639017e+00  2.63860985e-01]\n",
            " [ 2.25190942e+00  1.43274138e+00 -2.30208244e-01  9.21171097e-01]\n",
            " [ 1.41021602e+00  2.16619177e+00  7.48896411e-01  1.19561119e+00]\n",
            " [ 7.97719793e-01  2.37694880e+00 -1.56811253e+00 -3.48163602e-02]\n",
            " [-5.49531727e-01  2.29312864e+00 -1.49893532e+00 -3.07038671e-01]\n",
            " [-1.61173740e-01  1.16448332e+00  1.00371310e+00  6.61686224e-01]\n",
            " [-6.59794942e-01  2.67996119e+00 -7.64920868e-01  4.69954774e-01]\n",
            " [ 3.92354408e-01  2.09873171e+00 -4.71850008e-01  4.37056575e-01]\n",
            " [-1.77249908e+00  1.71728847e+00  9.47033174e-01  2.59512586e-01]\n",
            " [-3.66267357e-01  2.16935330e+00 -4.81324235e-01  3.98400462e-01]\n",
            " [-1.62067257e+00  1.35558339e+00  2.87159001e-01 -2.60245460e-02]\n",
            " [ 8.25357835e-02  2.30623459e+00 -4.63574989e-01  8.90351023e-01]\n",
            " [ 1.57827507e+00  1.46203429e+00  1.77964595e+00  6.13584424e-01]\n",
            " [ 1.42056925e+00  1.41820664e+00  1.39275829e-01  3.43053946e+00]\n",
            " [-2.78702754e-01  1.93056809e+00  7.86705530e-02  9.28520741e-01]\n",
            " [-1.30314497e+00  7.63172314e-01  1.99959651e+00 -1.72583588e+00]\n",
            " [-4.57071866e-01  2.26941561e+00  1.06133897e+00 -8.37432054e-01]\n",
            " [-4.94185847e-01  1.93904505e+00  1.32393807e+00 -6.15972483e-02]\n",
            " [ 4.82074410e-01  3.87178385e+00  1.34427122e+00 -8.99910492e-01]\n",
            " [-2.52888878e-01  2.82149237e+00 -3.02639785e-01  4.57967101e-01]\n",
            " [-1.07227638e-01  1.92892204e+00  6.90148243e-01 -2.73722484e-01]\n",
            " [-2.43301260e+00  1.25714104e+00 -1.90302740e+00  8.69731905e-01]\n",
            " [-5.51089539e-01  2.22216155e+00 -3.56228830e-01  1.36331989e+00]\n",
            " [ 7.39621929e-01  1.40895667e+00  1.12534549e+00  1.20511147e+00]\n",
            " [ 1.33632173e+00 -2.53336931e-01  5.34538818e+00  2.39037513e-01]\n",
            " [-1.17708700e+00  6.63966840e-01  3.01022189e+00  1.16613696e+00]\n",
            " [-4.62335008e-01  6.18288179e-01  4.83442366e-01  3.57672436e+00]\n",
            " [ 9.78474079e-01  1.44557050e+00  1.48123697e+00  3.79033509e+00]\n",
            " [-9.68097263e-02  2.10999799e+00  4.34826116e-01  1.05469528e+00]\n",
            " [ 3.84871459e-02  1.26676211e+00  6.87577913e-01  1.27288418e+00]\n",
            " [-1.59715850e+00  1.20814357e+00  3.36117556e+00 -2.19277553e-01]\n",
            " [-4.79564916e-01  1.93884066e+00  1.29650752e+00  6.86976225e-01]\n",
            " [-1.79283347e+00  1.15028810e+00  7.82800173e-01  1.47877897e+00]\n",
            " [-1.32710166e+00 -1.70389232e-01 -1.18001336e+00 -1.50170981e+00]\n",
            " [-2.38450083e+00 -3.74582606e-01 -7.23822595e-01 -3.08194983e-01]\n",
            " [-2.93694010e+00 -2.63861830e-01 -1.67639816e-01 -4.08773422e-01]\n",
            " [-2.14681113e+00 -3.68254952e-01 -4.53301301e-01  4.85275651e-02]\n",
            " [-2.36986949e+00  4.59634809e-01 -1.10139979e+00 -8.56777335e-01]\n",
            " [-3.06384157e+00 -3.53412835e-01 -1.09912410e+00 -7.40398132e-01]\n",
            " [-3.91575378e+00 -1.54582519e-01  2.21827800e-01 -9.06832745e-03]\n",
            " [-3.93646339e+00 -6.59687233e-01  1.71221542e+00  5.45483801e-01]\n",
            " [-3.09427612e+00 -3.48842759e-01 -1.02683141e+00 -7.13492080e-02]\n",
            " [-2.37447163e+00 -2.91980352e-01  1.24191433e+00 -7.48805540e-01]\n",
            " [-2.77881295e+00 -2.86804873e-01  6.09670124e-01 -8.79346886e-01]\n",
            " [-2.28656128e+00 -3.72507845e-01 -9.71643032e-01 -3.71437736e-01]\n",
            " [-2.98563349e+00 -4.89217908e-01  9.46952932e-01 -1.03622559e+00]\n",
            " [-2.37519470e+00 -4.82333717e-01 -2.52883994e-01  6.71149264e-01]\n",
            " [-2.20986553e+00 -1.16005250e+00 -1.24512523e+00  3.18838188e-01]\n",
            " [-2.62562100e+00 -5.63160764e-01 -8.55961082e-01  2.75684026e-01]\n",
            " [-4.28063878e+00 -6.49670964e-01 -1.45819696e+00  1.12816430e+00]\n",
            " [-3.58264137e+00 -1.27270275e+00 -1.10784038e-01  1.04990904e+00]\n",
            " [-2.80706372e+00 -1.57053379e+00 -4.72527935e-01  6.27358450e-01]\n",
            " [-2.89965933e+00 -2.04105701e+00 -4.95959810e-01  4.71155615e-01]\n",
            " [-2.32073698e+00 -2.35636608e+00  4.37681744e-01 -5.22597755e-02]\n",
            " [-2.54983095e+00 -2.04528309e+00 -3.12267999e-01  3.86971682e-01]\n",
            " [-1.81254128e+00 -1.52764595e+00  1.36258978e+00 -1.89395906e-01]\n",
            " [-2.76014464e+00 -2.13893235e+00 -9.64628688e-01  6.68386112e-01]\n",
            " [-2.73715050e+00 -4.09886271e-01 -1.19040468e+00 -6.63045204e-01]\n",
            " [-3.60486887e+00 -1.80238422e+00 -9.40368613e-02  1.26884047e+00]\n",
            " [-2.88982600e+00 -1.92521861e+00 -7.82322556e-01  1.32472540e+00]\n",
            " [-3.39215608e+00 -1.31187639e+00  1.60202597e+00 -4.82842144e-01]\n",
            " [-1.04818190e+00 -3.51508969e+00  1.16003857e+00  9.35329394e-01]\n",
            " [-1.60991228e+00 -2.40663816e+00  5.48559697e-01  7.54309684e-01]\n",
            " [-3.14313097e+00 -7.38161044e-01 -9.09987239e-02  9.80647845e-01]\n",
            " [-2.24015690e+00 -1.17546529e+00 -1.01376932e-01 -1.16527872e+00]\n",
            " [-2.84767378e+00 -5.56043966e-01  8.04215218e-01 -8.97888066e-01]\n",
            " [-2.59749706e+00 -6.97965537e-01 -8.84939521e-01 -2.74228748e-01]\n",
            " [-2.94929937e+00 -1.55530896e+00 -9.83400727e-01  1.54803469e-02]\n",
            " [-3.53003227e+00 -8.82526796e-01 -4.66029128e-01  5.80789625e-01]\n",
            " [-2.40611054e+00 -2.59235618e+00  4.28226211e-01 -1.84335092e-01]\n",
            " [-2.92908473e+00 -1.27444695e+00 -1.21335827e+00  2.95316047e-01]\n",
            " [-2.18141278e+00 -2.07753731e+00  7.63782552e-01 -3.89593322e-01]\n",
            " [-2.38092779e+00 -2.58866743e+00  1.41804403e+00  5.88501936e-01]\n",
            " [-3.21161722e+00  2.51249104e-01 -8.47129152e-01 -2.17065355e-01]\n",
            " [-3.67791872e+00 -8.47747844e-01 -1.33942023e+00 -1.25175865e-01]\n",
            " [-2.46555580e+00 -2.19379830e+00 -9.18780960e-01  1.80249950e-02]\n",
            " [-3.37052415e+00 -2.21628914e+00 -3.42569512e-01  1.05852684e+00]\n",
            " [-2.60195585e+00 -1.75722935e+00  2.07581355e-01  3.49496422e-01]\n",
            " [-2.67783946e+00 -2.76089913e+00 -9.40941877e-01  3.12034746e-01]\n",
            " [-2.38701709e+00 -2.29734668e+00 -5.50696197e-01 -6.88284548e-01]\n",
            " [-3.20875816e+00 -2.76891957e+00  1.01391366e+00  5.96903186e-01]]\n",
            "[36.1988481  19.20749026 11.12363054  7.06903018]\n"
          ]
        },
        {
          "output_type": "execute_result",
          "data": {
            "text/plain": [
              "73.59899907589934"
            ]
          },
          "metadata": {},
          "execution_count": 29
        }
      ]
    },
    {
      "cell_type": "code",
      "source": [
        "X.shape"
      ],
      "metadata": {
        "colab": {
          "base_uri": "https://localhost:8080/"
        },
        "id": "dgA2DueGGY00",
        "outputId": "cd562da0-7a36-469d-9063-62473e4478ad"
      },
      "execution_count": null,
      "outputs": [
        {
          "output_type": "execute_result",
          "data": {
            "text/plain": [
              "(178, 12)"
            ]
          },
          "metadata": {},
          "execution_count": 30
        }
      ]
    },
    {
      "cell_type": "code",
      "source": [
        "X"
      ],
      "metadata": {
        "colab": {
          "base_uri": "https://localhost:8080/"
        },
        "id": "EWxYrMWkGhe7",
        "outputId": "c9f44436-06f2-493a-e76a-a15153ab12e3"
      },
      "execution_count": null,
      "outputs": [
        {
          "output_type": "execute_result",
          "data": {
            "text/plain": [
              "array([[-0.5622498 ,  0.23205254, -1.16959318, ...,  0.36217728,\n",
              "         1.84791957,  1.01300893],\n",
              "       [-0.49941338, -0.82799632, -2.49084714, ...,  0.40605066,\n",
              "         1.1134493 ,  0.96524152],\n",
              "       [ 0.02123125,  1.10933436, -0.2687382 , ...,  0.31830389,\n",
              "         0.78858745,  1.39514818],\n",
              "       ...,\n",
              "       [ 1.74474449, -0.38935541,  0.15166079, ..., -1.61212515,\n",
              "        -1.48544548,  0.28057537],\n",
              "       [ 0.22769377,  0.01273209,  0.15166079, ..., -1.56825176,\n",
              "        -1.40069891,  0.29649784],\n",
              "       [ 1.58316512,  1.36520822,  1.50294326, ..., -1.52437837,\n",
              "        -1.42894777, -0.59516041]])"
            ]
          },
          "metadata": {},
          "execution_count": 31
        }
      ]
    },
    {
      "cell_type": "code",
      "source": [
        ""
      ],
      "metadata": {
        "id": "IaKCa1DJD6Z5"
      },
      "execution_count": null,
      "outputs": []
    },
    {
      "cell_type": "code",
      "source": [
        "# example of a normalization\n",
        "from numpy import asarray\n",
        "from sklearn.preprocessing import MinMaxScaler\n",
        "# define data\n",
        "df1 = asarray([[1,100],\n",
        "\t\t\t\t[1, 20],\n",
        "\t\t\t\t[50, 500],\n",
        "\t\t\t\t[80, 700],\n",
        "\t\t\t\t[100, 1000]])\n",
        "print(df1)\n",
        "# define min max scaler\n",
        "scaler = MinMaxScaler()\n",
        "# transform data\n",
        "scaled = scaler.fit_transform(df1)\n",
        "print(scaled)"
      ],
      "metadata": {
        "colab": {
          "base_uri": "https://localhost:8080/"
        },
        "id": "qX0i-yuWF4yS",
        "outputId": "e0634bba-f481-435b-8ff5-79c89943a52b"
      },
      "execution_count": null,
      "outputs": [
        {
          "output_type": "stream",
          "name": "stdout",
          "text": [
            "[[   1  100]\n",
            " [   1   20]\n",
            " [  50  500]\n",
            " [  80  700]\n",
            " [ 100 1000]]\n",
            "[[0.         0.08163265]\n",
            " [0.         0.        ]\n",
            " [0.49494949 0.48979592]\n",
            " [0.7979798  0.69387755]\n",
            " [1.         1.        ]]\n"
          ]
        }
      ]
    },
    {
      "cell_type": "code",
      "source": [
        "# visualize a minmax scaler transform of the wine_dataset\n",
        "from pandas import DataFrame\n",
        "from pandas.plotting import scatter_matrix\n",
        "from sklearn.preprocessing import MinMaxScaler\n",
        "from matplotlib import pyplot\n",
        "# load dataset\n",
        "from sklearn.datasets import load_wine\n",
        "# retrieve just the numeric input values\n",
        "#data =data.values[:, :-1]"
      ],
      "metadata": {
        "id": "QgVZpaDEKSzP"
      },
      "execution_count": null,
      "outputs": []
    },
    {
      "cell_type": "code",
      "source": [
        "# perform a robust scaler transform of the dataset\n",
        "trans = MinMaxScaler()\n",
        "df1 = trans.fit_transform(df1)\n",
        "# convert the array back to a dataframe\n",
        "df1 = DataFrame(df1)\n",
        "# summarize\n",
        "print(df1.describe())\n"
      ],
      "metadata": {
        "colab": {
          "base_uri": "https://localhost:8080/"
        },
        "id": "w9coBRQLNEDe",
        "outputId": "fd2e669b-c118-4db7-e41d-c21aa350191c"
      },
      "execution_count": null,
      "outputs": [
        {
          "output_type": "stream",
          "name": "stdout",
          "text": [
            "              0         1\n",
            "count  5.000000  5.000000\n",
            "mean   0.458586  0.453061\n",
            "std    0.455588  0.418840\n",
            "min    0.000000  0.000000\n",
            "25%    0.000000  0.081633\n",
            "50%    0.494949  0.489796\n",
            "75%    0.797980  0.693878\n",
            "max    1.000000  1.000000\n"
          ]
        }
      ]
    },
    {
      "cell_type": "code",
      "source": [
        "# svd = TruncatedSVD(n_components =4)\n",
        "# result= svd.fit_transform(X)\n",
        "# print(result)"
      ],
      "metadata": {
        "id": "xTs_7jwL48QE"
      },
      "execution_count": null,
      "outputs": []
    },
    {
      "cell_type": "code",
      "source": [
        "from numpy import diag\n",
        "from sklearn.decomposition import TruncatedSVD\n",
        "from scipy.linalg import svd"
      ],
      "metadata": {
        "id": "TQ_MnolXVJxH"
      },
      "execution_count": null,
      "outputs": []
    },
    {
      "cell_type": "code",
      "source": [
        "# perform a robust scaler transform of the dataset\n",
        "trans = MinMaxScaler()\n",
        "df1 = trans.fit_transform(df1)\n",
        "# convert the array back to a dataframe\n",
        "df1 = DataFrame(df1)\n",
        "# summarize\n",
        "print(df1.describe())"
      ],
      "metadata": {
        "colab": {
          "base_uri": "https://localhost:8080/"
        },
        "id": "Sg9GK2L82khx",
        "outputId": "a1a58f89-a02a-4a9a-d095-4839dbc6b652"
      },
      "execution_count": null,
      "outputs": [
        {
          "output_type": "stream",
          "name": "stdout",
          "text": [
            "              0         1\n",
            "count  5.000000  5.000000\n",
            "mean   0.458586  0.453061\n",
            "std    0.455588  0.418840\n",
            "min    0.000000  0.000000\n",
            "25%    0.000000  0.081633\n",
            "50%    0.494949  0.489796\n",
            "75%    0.797980  0.693878\n",
            "max    1.000000  1.000000\n"
          ]
        }
      ]
    },
    {
      "cell_type": "code",
      "source": [
        "svd = TruncatedSVD(n_components =4)\n",
        "result= svd.fit_transform(X)\n",
        "print(result)\n",
        "result_svd = svd.fit_transform(new_data)\n",
        "explained_variance = svd.explained_variance_ratio_\n",
        "print(explained_variance*100)\n",
        "sum(explained_variance*100)"
      ],
      "metadata": {
        "colab": {
          "base_uri": "https://localhost:8080/"
        },
        "id": "zJ0aXV4IMrn0",
        "outputId": "08634848-21cd-422d-f2c8-8d605d36ff93"
      },
      "execution_count": null,
      "outputs": [
        {
          "output_type": "stream",
          "name": "stdout",
          "text": [
            "[[-3.07857252e+00 -1.21926180e+00 -3.88069767e-01 -2.39523061e-01]\n",
            " [-2.19079587e+00  6.64568240e-01 -1.92210947e+00 -2.91410650e-01]\n",
            " [-2.45644079e+00 -1.50581110e+00  5.56489034e-01  7.23595832e-01]\n",
            " [-3.42275012e+00 -2.55605831e+00 -7.03345739e-01  5.64575214e-01]\n",
            " [-9.48975875e-01 -1.32973488e+00  1.76063170e+00 -4.11976922e-01]\n",
            " [-2.76731538e+00 -1.77985016e+00 -9.44531169e-01 -5.06330177e-01]\n",
            " [-2.18375478e+00 -4.58036710e-01 -8.05131410e-01 -2.80189959e-02]\n",
            " [-1.82632140e+00 -1.33985744e+00 -2.81585363e-03 -1.18965608e+00]\n",
            " [-2.19383381e+00  2.03202783e-01 -1.37391008e+00  9.22449832e-02]\n",
            " [-2.59000186e+00 -4.35609334e-01 -1.00682982e+00  3.59339550e-01]\n",
            " [-3.26089058e+00 -1.03803643e+00 -5.51904036e-01  3.52510697e-02]\n",
            " [-1.55488981e+00  1.04878503e-01 -9.22660838e-01 -8.60139822e-01]\n",
            " [-1.96567565e+00 -2.73148206e-01 -7.68037835e-01 -3.18624868e-01]\n",
            " [-3.14743458e+00 -2.58202082e-01 -9.02256787e-01  2.29520183e-01]\n",
            " [-4.00629989e+00 -1.65773346e+00 -1.56480932e+00  3.21571938e-01]\n",
            " [-2.13051424e+00 -1.67993499e+00 -1.16141082e-01 -1.43120283e+00]\n",
            " [-1.87351026e+00 -2.15937482e+00  5.00199337e-01 -9.11344511e-01]\n",
            " [-1.70365337e+00 -1.62849380e+00  5.36198232e-01 -1.06927183e+00]\n",
            " [-3.23817800e+00 -2.25696066e+00 -8.99434482e-01 -8.87330608e-01]\n",
            " [-1.94408078e+00 -9.99518957e-01 -4.16355597e-01  4.55230308e-01]\n",
            " [-2.94642239e+00 -5.67121964e-01 -4.67978226e-01 -5.65998451e-02]\n",
            " [-1.09489837e+00 -6.02002492e-01  7.65065809e-01  1.02364661e+00]\n",
            " [-2.44560230e+00  3.47433406e-01 -6.85335082e-02 -2.42930289e-02]\n",
            " [-1.70081887e+00  3.04927387e-01  2.13279877e-01 -3.98010420e-01]\n",
            " [-1.72046805e+00  3.24802849e-01  1.17777408e+00 -7.85456612e-02]\n",
            " [-9.67366820e-01 -1.85985260e+00  3.47075321e+00 -1.31115083e+00]\n",
            " [-1.68327066e+00 -6.18440768e-01 -1.29369464e-01 -1.97476482e-01]\n",
            " [-1.18897314e+00  4.51721667e-01 -1.24507537e+00 -4.86071701e-01]\n",
            " [-2.04401340e+00 -6.90374388e-01  1.50027204e+00 -7.34915579e-01]\n",
            " [-2.09994017e+00  3.93880250e-01 -8.12303154e-01  3.07497488e-01]\n",
            " [-2.34841466e+00 -1.44000241e+00  1.18427279e+00 -3.43522456e-01]\n",
            " [-2.52075473e+00 -1.47654993e+00 -7.12260866e-01 -3.58850146e-01]\n",
            " [-1.53341420e+00  2.31052411e-01  5.93894948e-02 -7.21331066e-01]\n",
            " [-1.71987930e+00 -1.74131977e+00  8.88327845e-01 -2.33159976e+00]\n",
            " [-1.30834140e+00 -6.92779716e-01  4.02596065e-01 -1.05795080e+00]\n",
            " [-1.83755336e+00 -1.93377357e-01  4.99657545e-01  2.96077903e-01]\n",
            " [-1.31689690e+00 -7.72159721e-01  3.16162076e-01 -1.27739810e+00]\n",
            " [-1.11112978e+00 -1.78417762e-01 -7.07707206e-02 -9.46011602e-01]\n",
            " [-1.52935162e+00  1.00997764e+00 -1.20963981e+00 -7.54188143e-01]\n",
            " [-2.26855413e+00 -1.50944357e+00 -6.70060523e-01  1.14343687e+00]\n",
            " [-2.48051126e+00 -8.37779061e-01 -3.77893695e-01  4.53790403e-01]\n",
            " [-5.93094390e-01  1.91718051e-01 -6.31949708e-01  1.32931691e+00]\n",
            " [-2.89069880e+00 -9.87535341e-01 -4.62573783e-01  5.57922787e-01]\n",
            " [-4.10335549e-01 -2.34148867e-01 -2.49062293e-01  1.42818415e+00]\n",
            " [-2.10640792e+00 -4.82277470e-02 -8.16321030e-01  7.31841301e-01]\n",
            " [-8.66006206e-01 -1.29499804e+00 -3.93246306e-02  7.02682672e-01]\n",
            " [-2.46912895e+00 -6.31871876e-01 -4.50226244e-01  1.41190534e+00]\n",
            " [-2.66233557e+00 -2.72266625e-01 -1.18319774e+00  9.81644613e-01]\n",
            " [-1.79238877e+00 -9.08190096e-01 -1.06195484e-01  2.43608218e-01]\n",
            " [-2.48106588e+00 -1.50072583e+00 -9.46727193e-01 -9.70599647e-02]\n",
            " [-3.19956610e+00 -1.59678942e-01 -2.25791497e+00  1.09332668e+00]\n",
            " [-2.70863693e+00 -5.81483989e-01  2.34059633e-02 -1.87536493e-01]\n",
            " [-3.30914168e+00 -1.53489401e+00 -8.75193718e-01  1.11778340e-01]\n",
            " [-2.01983884e+00 -1.85157695e+00 -8.12268163e-03 -1.19433014e+00]\n",
            " [-1.98998508e+00 -7.61039283e-01 -1.18051804e+00 -2.76432213e-01]\n",
            " [-2.33599174e+00 -1.55684889e+00  5.91465243e-02  2.17289934e-01]\n",
            " [-2.49834559e+00 -1.05978098e+00 -7.89423889e-01  1.87340867e-01]\n",
            " [-2.07297273e+00 -1.39129809e+00 -6.42379732e-02 -4.90472499e-01]\n",
            " [-2.95350312e+00 -1.76824955e+00 -7.62665303e-01  2.12628370e-01]\n",
            " [ 7.06833152e-01  3.94749690e+00 -3.83460035e+00 -1.07477075e+00]\n",
            " [ 1.38832992e+00  1.50771234e+00 -5.10227084e-01 -2.85777008e+00]\n",
            " [ 1.76047005e+00  1.21198376e+00 -1.36263012e+00 -1.44934807e+00]\n",
            " [ 1.10500810e-02  2.16396924e+00 -1.02539621e+00 -1.17695554e+00]\n",
            " [-2.25983860e+00  1.46625654e+00  1.91115439e-01  7.23750282e-01]\n",
            " [ 3.82238604e-01  1.52738718e+00  1.00627335e+00 -2.13979096e+00]\n",
            " [-1.04368873e+00  2.19810977e-01  4.73707080e-01 -6.80934278e-01]\n",
            " [-2.33350506e+00  2.25910474e+00 -1.50950678e+00  1.42818281e+00]\n",
            " [-3.98054254e-01  2.49819618e+00 -4.95563370e-01  1.52319448e-01]\n",
            " [ 8.60551468e-01  7.09425526e-01 -3.73001077e-01 -2.46279214e+00]\n",
            " [-2.18485283e+00  8.16239200e-01 -1.66044081e+00 -1.30698602e+00]\n",
            " [ 1.42999392e+00  7.80878803e-01 -6.36458444e-01 -1.20899095e+00]\n",
            " [-1.61060826e+00  1.03626289e+00  2.60749959e+00  2.15088451e-01]\n",
            " [ 7.39614919e-01  1.54463733e+00  7.21197171e-01 -4.46670213e-02]\n",
            " [-2.59665544e+00 -1.33820420e+00  2.96049306e+00 -1.02905505e+00]\n",
            " [-2.06978517e+00  4.21720896e-01  2.19366603e-01  1.30546357e-01]\n",
            " [ 5.54565711e-01  2.22376410e+00 -1.34946257e+00 -8.63267387e-01]\n",
            " [-4.70168920e-01  2.78052886e+00 -1.79008873e+00 -1.25937086e-01]\n",
            " [ 1.22046347e+00  9.75170005e-01 -2.56465873e-01 -7.34495608e-01]\n",
            " [-1.41338684e+00  3.19931306e-01 -1.61907470e+00 -1.03609317e+00]\n",
            " [-4.92641436e-01  5.56466925e-01  1.99520388e+00  1.00067668e+00]\n",
            " [-1.09498354e+00  3.06036901e+00  2.69709763e-01 -3.50483978e-01]\n",
            " [-1.15638321e+00  1.38758094e+00 -4.33864859e-02  3.12229221e-01]\n",
            " [ 2.26045824e-01  1.90224546e+00  1.85873588e+00 -9.87940795e-01]\n",
            " [ 2.55318101e+00  3.74570119e-01  7.77756349e-01  8.05838994e-01]\n",
            " [-1.09912479e+00  6.06236117e-01  4.08235335e-01  5.44170724e-01]\n",
            " [-9.52016915e-01  1.95370330e+00  1.90651168e-01 -8.06336329e-01]\n",
            " [ 5.59747299e-01  1.88042142e+00  1.21547573e+00 -9.90230394e-01]\n",
            " [ 2.19880866e-01  1.43549505e+00  2.61509775e+00 -1.00058963e+00]\n",
            " [ 8.21002927e-01  1.12904460e+00  1.10802391e+00 -3.04578586e-01]\n",
            " [ 2.76496868e-01  2.31681558e+00  1.48472306e+00  5.91361966e-02]\n",
            " [ 1.10814613e+00  1.94844467e+00  3.94610686e-01 -4.31567744e-01]\n",
            " [ 1.31998481e+00  1.45635100e+00  1.08648091e+00 -5.80838563e-01]\n",
            " [ 1.81288074e+00  1.78629071e+00  4.82322610e-01 -4.73187178e-01]\n",
            " [-9.83710114e-01  1.96856042e+00  4.87710389e-01  1.25011805e+00]\n",
            " [-1.28800285e+00  1.40790673e+00  1.32989017e-01  2.79701774e-01]\n",
            " [-2.64859229e+00 -1.21216314e+00 -7.28178622e-02 -1.17630600e+00]\n",
            " [ 3.33167241e-01 -6.81520872e-01  6.68412443e-01 -1.39432483e+00]\n",
            " [-1.27328088e+00  2.45442527e+00 -6.30160995e-01  2.71194728e-01]\n",
            " [-2.43305098e+00  9.49455940e-01 -2.04082862e-01  9.20254270e-01]\n",
            " [-1.64614423e+00  1.63231511e+00  1.07955389e+00  1.22551355e+00]\n",
            " [-1.05439325e+00  2.23034571e+00 -1.28292019e+00 -5.89570058e-02]\n",
            " [ 3.77417423e-01  2.59666582e+00 -9.15987153e-01 -3.09674989e-01]\n",
            " [-6.80405860e-03  6.81148047e-01  1.09016657e+00  6.60193187e-01]\n",
            " [ 3.48144516e-01  2.40299913e+00 -4.00308292e-01  4.64431450e-01]\n",
            " [-5.76256910e-01  2.06407485e+00  1.29826386e-02  4.56706261e-01]\n",
            " [ 1.59681566e+00  1.58084475e+00  1.44792621e+00  3.08941585e-01]\n",
            " [ 1.44778998e-01  2.06900274e+00 -3.80357994e-02  4.19195167e-01]\n",
            " [ 1.51045565e+00  1.44849144e+00  7.40604174e-01  5.03015768e-03]\n",
            " [-3.25307832e-01  2.05740625e+00 -1.47920482e-01  8.78911141e-01]\n",
            " [-1.88444662e+00  1.82060993e-01  1.49198974e+00  5.97175988e-01]\n",
            " [-1.74171119e+00  2.38571601e-01 -4.51253879e-01  3.33190413e+00]\n",
            " [ 1.01273397e-01  1.81723475e+00  4.98237369e-01  9.33627676e-01]\n",
            " [ 1.07829508e+00 -9.43408798e-02  1.90199366e+00 -1.69760096e+00]\n",
            " [ 9.57544239e-02  1.35312961e+00  1.14746160e+00 -8.28541508e-01]\n",
            " [ 2.48625437e-01  1.40104213e+00  1.67040700e+00 -2.04562067e-02]\n",
            " [-9.91098730e-01  2.75167316e+00  1.79518143e+00 -8.61227412e-01]\n",
            " [-7.19001379e-02  2.42598406e+00  8.44034642e-02  4.50927823e-01]\n",
            " [-9.47069507e-02  1.55715406e+00  9.64156756e-01 -2.95966121e-01]\n",
            " [ 2.35957561e+00  1.91342561e+00 -1.38407263e+00  8.88958652e-01]\n",
            " [ 2.88616324e-01  1.93972468e+00 -4.77531428e-02  1.36007523e+00]\n",
            " [-1.05485141e+00  2.62609524e-01  8.15446499e-01  1.18070104e+00]\n",
            " [-1.58027630e+00 -2.37132564e+00  4.51645461e+00  2.31388332e-01]\n",
            " [ 1.03771031e+00 -8.25117457e-02  3.04709829e+00  1.17784759e+00]\n",
            " [ 4.33207165e-01  6.65556480e-01  7.34593533e-01  3.58746563e+00]\n",
            " [-1.24124001e+00  4.44809949e-01  1.32454884e+00  3.77310956e+00]\n",
            " [-1.56828373e-01  1.67447632e+00  7.47024399e-01  1.07208087e+00]\n",
            " [-1.99041688e-01  8.75361955e-01  8.29604387e-01  1.28627070e+00]\n",
            " [ 1.33738559e+00  1.25570864e-01  3.37119479e+00 -1.84964241e-01]\n",
            " [ 2.69612590e-01  1.50474033e+00  1.65290191e+00  7.03458241e-01]\n",
            " [ 1.59737634e+00  7.73028034e-01  9.30403575e-01  1.50210685e+00]\n",
            " [ 1.32306353e+00 -2.13731420e-02 -1.42352550e+00 -1.58674108e+00]\n",
            " [ 2.40217969e+00 -1.23415326e-01 -8.41187923e-01 -3.54542020e-01]\n",
            " [ 2.93669290e+00 -8.64538461e-02 -2.33135466e-01 -4.43580910e-01]\n",
            " [ 2.13434433e+00 -3.17811220e-01 -6.86229825e-01 -1.14419296e-02]\n",
            " [ 2.29618122e+00  7.13812364e-01 -9.58619480e-01 -8.33303813e-01]\n",
            " [ 3.05300156e+00 -3.27417344e-02 -1.13756537e+00 -7.29868966e-01]\n",
            " [ 3.83902203e+00 -1.66459983e-01  1.76706200e-01  2.69538277e-03]\n",
            " [ 3.91586253e+00 -8.33812264e-01  1.63123880e+00  5.72150928e-01]\n",
            " [ 3.21223723e+00  5.37654822e-01 -6.19388596e-01 -2.85513499e-02]\n",
            " [ 2.37217303e+00 -3.48126922e-01  1.29339307e+00 -7.24641854e-01]\n",
            " [ 2.79724949e+00 -1.05158505e-01  7.48435648e-01 -8.51083877e-01]\n",
            " [ 2.38197167e+00  3.12970979e-01 -7.16283889e-01 -3.53645082e-01]\n",
            " [ 3.09854735e+00  1.04993639e-03  1.30715827e+00 -9.92964400e-01]\n",
            " [ 2.50926996e+00  2.35469705e-01  1.10901913e-01  7.08163645e-01]\n",
            " [ 2.18540044e+00 -1.28875451e+00 -1.93015562e+00  2.36204373e-01]\n",
            " [ 2.69749687e+00 -8.39104328e-02 -8.56864669e-01  2.53022311e-01]\n",
            " [ 4.47920138e+00  6.46400157e-01 -9.41526349e-01  1.15622215e+00]\n",
            " [ 3.65848580e+00 -9.81554732e-01 -2.73477511e-01  1.06250556e+00]\n",
            " [ 2.95903025e+00 -1.09987451e+00 -6.55364886e-01  6.27667167e-01]\n",
            " [ 3.03887024e+00 -1.82467483e+00 -1.07042965e+00  4.07585416e-01]\n",
            " [ 2.52312836e+00 -2.21095369e+00 -1.69225616e-01 -1.32186164e-01]\n",
            " [ 2.64203389e+00 -2.11686827e+00 -1.09271823e+00  3.02284992e-01]\n",
            " [ 1.90193209e+00 -1.78483430e+00  8.32531509e-01 -2.51036631e-01]\n",
            " [ 2.93370890e+00 -1.70079873e+00 -1.39748936e+00  6.59560677e-01]\n",
            " [ 2.71845248e+00 -2.22574200e-01 -1.42737200e+00 -6.98686130e-01]\n",
            " [ 3.75138135e+00 -1.39961386e+00 -3.26024773e-01  1.28074603e+00]\n",
            " [ 3.13955219e+00 -1.09019100e+00 -8.30222160e-01  1.33924806e+00]\n",
            " [ 3.39377740e+00 -1.65029281e+00  1.21779749e+00 -4.67008425e-01]\n",
            " [ 1.42965244e+00 -3.15365680e+00  6.39191277e-01  9.52211486e-01]\n",
            " [ 1.81587351e+00 -2.26420869e+00  7.84605266e-02  7.68346043e-01]\n",
            " [ 3.11111119e+00 -7.96539136e-01 -3.77054724e-01  9.80069229e-01]\n",
            " [ 2.41908834e+00 -5.50951145e-01  1.67799311e-02 -1.14725827e+00]\n",
            " [ 2.86676289e+00 -5.02397226e-01  7.84734267e-01 -8.84088426e-01]\n",
            " [ 2.64929546e+00 -3.42252552e-01 -1.01062573e+00 -3.04726948e-01]\n",
            " [ 3.17230335e+00 -6.71158883e-01 -9.27845815e-01  2.64270943e-02]\n",
            " [ 3.70850055e+00  2.37808816e-02 -1.32458883e-01  6.15130352e-01]\n",
            " [ 2.62319095e+00 -2.38083674e+00 -1.02818099e-01 -2.09234639e-01]\n",
            " [ 3.00243461e+00 -8.94704348e-01 -1.47728797e+00  2.87020190e-01]\n",
            " [ 2.38351767e+00 -1.83662189e+00  4.41502146e-01 -4.02566909e-01]\n",
            " [ 2.58180957e+00 -2.61260983e+00  8.42753719e-01  5.52236102e-01]\n",
            " [ 3.10524912e+00  3.04516594e-01 -9.38776951e-01 -2.45584996e-01]\n",
            " [ 3.72399573e+00 -3.56442666e-01 -1.43970751e+00 -1.24022975e-01]\n",
            " [ 2.77583186e+00 -1.19964896e+00 -9.23441787e-01  3.84649544e-02]\n",
            " [ 3.62061640e+00 -1.47188579e+00 -4.49822042e-01  1.07820967e+00]\n",
            " [ 2.76817690e+00 -1.42612124e+00 -4.21654465e-02  3.38688500e-01]\n",
            " [ 2.88825847e+00 -2.42076977e+00 -1.66541827e+00  2.46305460e-01]\n",
            " [ 2.55190832e+00 -2.08637202e+00 -1.17521266e+00 -7.37707147e-01]\n",
            " [ 3.53573264e+00 -2.12257387e+00  8.81609063e-01  6.33033737e-01]]\n",
            "[36.1988481  19.20749026 11.12363054  7.06903018]\n"
          ]
        },
        {
          "output_type": "execute_result",
          "data": {
            "text/plain": [
              "73.59899907589931"
            ]
          },
          "metadata": {},
          "execution_count": 38
        }
      ]
    },
    {
      "cell_type": "code",
      "source": [
        "s= diag(svd.singular_values_)\n",
        "new_data = np.dot(result, right_matrix)\n",
        "new_data = np.round(new_data,2)\n",
        "print(new_data)\n",
        "print(df1.values)"
      ],
      "metadata": {
        "colab": {
          "base_uri": "https://localhost:8080/",
          "height": 235
        },
        "id": "zLNqNLDRtKCI",
        "outputId": "f4f2b5aa-cea3-45ab-c8db-cef9a486e03a"
      },
      "execution_count": null,
      "outputs": [
        {
          "output_type": "error",
          "ename": "NameError",
          "evalue": "ignored",
          "traceback": [
            "\u001b[0;31m---------------------------------------------------------------------------\u001b[0m",
            "\u001b[0;31mNameError\u001b[0m                                 Traceback (most recent call last)",
            "\u001b[0;32m<ipython-input-39-04681980e64f>\u001b[0m in \u001b[0;36m<module>\u001b[0;34m()\u001b[0m\n\u001b[1;32m      1\u001b[0m \u001b[0ms\u001b[0m\u001b[0;34m=\u001b[0m \u001b[0mdiag\u001b[0m\u001b[0;34m(\u001b[0m\u001b[0msvd\u001b[0m\u001b[0;34m.\u001b[0m\u001b[0msingular_values_\u001b[0m\u001b[0;34m)\u001b[0m\u001b[0;34m\u001b[0m\u001b[0;34m\u001b[0m\u001b[0m\n\u001b[0;32m----> 2\u001b[0;31m \u001b[0mnew_data\u001b[0m \u001b[0;34m=\u001b[0m \u001b[0mnp\u001b[0m\u001b[0;34m.\u001b[0m\u001b[0mdot\u001b[0m\u001b[0;34m(\u001b[0m\u001b[0mresult\u001b[0m\u001b[0;34m,\u001b[0m \u001b[0mright_matrix\u001b[0m\u001b[0;34m)\u001b[0m\u001b[0;34m\u001b[0m\u001b[0;34m\u001b[0m\u001b[0m\n\u001b[0m\u001b[1;32m      3\u001b[0m \u001b[0mnew_data\u001b[0m \u001b[0;34m=\u001b[0m \u001b[0mnp\u001b[0m\u001b[0;34m.\u001b[0m\u001b[0mround\u001b[0m\u001b[0;34m(\u001b[0m\u001b[0mnew_data\u001b[0m\u001b[0;34m,\u001b[0m\u001b[0;36m2\u001b[0m\u001b[0;34m)\u001b[0m\u001b[0;34m\u001b[0m\u001b[0;34m\u001b[0m\u001b[0m\n\u001b[1;32m      4\u001b[0m \u001b[0mprint\u001b[0m\u001b[0;34m(\u001b[0m\u001b[0mnew_data\u001b[0m\u001b[0;34m)\u001b[0m\u001b[0;34m\u001b[0m\u001b[0;34m\u001b[0m\u001b[0m\n\u001b[1;32m      5\u001b[0m \u001b[0mprint\u001b[0m\u001b[0;34m(\u001b[0m\u001b[0mdf1\u001b[0m\u001b[0;34m.\u001b[0m\u001b[0mvalues\u001b[0m\u001b[0;34m)\u001b[0m\u001b[0;34m\u001b[0m\u001b[0;34m\u001b[0m\u001b[0m\n",
            "\u001b[0;31mNameError\u001b[0m: name 'right_matrix' is not defined"
          ]
        }
      ]
    },
    {
      "cell_type": "code",
      "source": [
        "sigma= svd.singular_values_\n",
        "left_matrix= result/svd.singular_values_\n",
        "right_matrix = svd.components_\n",
        "print(sigma)\n",
        "print(left_matrix)\n",
        "print(right_matrix)\n",
        "print(sigma.shape)\n",
        "print(left_matrix.shape)\n",
        "print(right_matrix.shape)"
      ],
      "metadata": {
        "id": "EeLtRCmJvSKt"
      },
      "execution_count": null,
      "outputs": []
    },
    {
      "cell_type": "code",
      "source": [
        "import numpy as np\n",
        "help(np.round)"
      ],
      "metadata": {
        "id": "ineeTb4vvbly"
      },
      "execution_count": null,
      "outputs": []
    },
    {
      "cell_type": "code",
      "source": [
        "# svd = TruncatedSVD(n_components =4)\n",
        "# result= svd.fit_transform(X)\n",
        "# print(result)\n",
        "# result_svd = svd.fit_transform(new_data)\n",
        "# explained_variance = svd.explained_variance_ratio_\n",
        "# print(explained_variance*100)\n",
        "# sum(explained_variance*100)"
      ],
      "metadata": {
        "id": "i_coluif0wrh"
      },
      "execution_count": null,
      "outputs": []
    },
    {
      "cell_type": "code",
      "source": [
        ""
      ],
      "metadata": {
        "id": "GdNJbHdEJoRm"
      },
      "execution_count": null,
      "outputs": []
    },
    {
      "cell_type": "markdown",
      "source": [
        "# Using T-SNE model"
      ],
      "metadata": {
        "id": "iOdipotrJoj0"
      }
    },
    {
      "cell_type": "code",
      "source": [
        "# loading TSNE model from Sklearn\n",
        "from sklearn.manifold import TSNE"
      ],
      "metadata": {
        "id": "YBrBmexcti39"
      },
      "execution_count": null,
      "outputs": []
    },
    {
      "cell_type": "code",
      "source": [
        "# Using TSNE to reduce to 2 features as indicated by first argument\n",
        "tsne = TSNE(n_components=2)\n",
        "# transforming the data set to 2 dimensions\n",
        "New_points = tsne.fit_transform(df1.iloc[:,0:11])\n",
        "# creating dataframe of new transformed data points in two features\n",
        "Tsne_points =pd.DataFrame(New_points, columns= ['color_intensity',\t'magnesium']\n",
        "                         )\n",
        "# concatinating data frame with class labels in original data set\n",
        "# Tsne_model = pd.concat([Tsne_points,data.iloc[:,11]], axis = 1)\n",
        "\n",
        "# printing the new data set\n",
        "\n",
        "print(Tsne_points)"
      ],
      "metadata": {
        "id": "ucDNKvdbuWPX"
      },
      "execution_count": null,
      "outputs": []
    },
    {
      "cell_type": "code",
      "source": [
        ""
      ],
      "metadata": {
        "id": "Fm2PNfpTucBh"
      },
      "execution_count": null,
      "outputs": []
    }
  ]
}
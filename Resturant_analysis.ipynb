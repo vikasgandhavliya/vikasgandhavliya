{
  "nbformat": 4,
  "nbformat_minor": 0,
  "metadata": {
    "colab": {
      "name": "Resturant_analysis.ipynb",
      "provenance": [],
      "collapsed_sections": [],
      "include_colab_link": true
    },
    "kernelspec": {
      "name": "python3",
      "display_name": "Python 3"
    },
    "language_info": {
      "name": "python"
    }
  },
  "cells": [
    {
      "cell_type": "markdown",
      "metadata": {
        "id": "view-in-github",
        "colab_type": "text"
      },
      "source": [
        "<a href=\"https://colab.research.google.com/github/vikasgandhavliya/vikasgandhavliya/blob/main/Resturant_analysis.ipynb\" target=\"_parent\"><img src=\"https://colab.research.google.com/assets/colab-badge.svg\" alt=\"Open In Colab\"/></a>"
      ]
    },
    {
      "cell_type": "code",
      "execution_count": null,
      "metadata": {
        "id": "B9NmcvWgLyfd"
      },
      "outputs": [],
      "source": [
        "import numpy as np\n",
        "import pandas as pd\n",
        "import re"
      ]
    },
    {
      "cell_type": "code",
      "source": [
        "data = pd.read_csv(\"/content/drive/MyDrive/Projects_hyd/Restaurant_Reviews.tsv\",  delimiter = '\\t')\n",
        "data"
      ],
      "metadata": {
        "colab": {
          "base_uri": "https://localhost:8080/",
          "height": 424
        },
        "id": "k5mwX3iTMWx4",
        "outputId": "30e74675-2f69-471b-ad9c-0a1c38ca1cd0"
      },
      "execution_count": null,
      "outputs": [
        {
          "output_type": "execute_result",
          "data": {
            "text/plain": [
              "                                                Review  Liked\n",
              "0                             Wow... Loved this place.      1\n",
              "1                                   Crust is not good.      0\n",
              "2            Not tasty and the texture was just nasty.      0\n",
              "3    Stopped by during the late May bank holiday of...      1\n",
              "4    The selection on the menu was great and so wer...      1\n",
              "..                                                 ...    ...\n",
              "995  I think food should have flavor and texture an...      0\n",
              "996                           Appetite instantly gone.      0\n",
              "997  Overall I was not impressed and would not go b...      0\n",
              "998  The whole experience was underwhelming, and I ...      0\n",
              "999  Then, as if I hadn't wasted enough of my life ...      0\n",
              "\n",
              "[1000 rows x 2 columns]"
            ],
            "text/html": [
              "\n",
              "  <div id=\"df-de543224-76b4-4c4f-adf5-02102b27b500\">\n",
              "    <div class=\"colab-df-container\">\n",
              "      <div>\n",
              "<style scoped>\n",
              "    .dataframe tbody tr th:only-of-type {\n",
              "        vertical-align: middle;\n",
              "    }\n",
              "\n",
              "    .dataframe tbody tr th {\n",
              "        vertical-align: top;\n",
              "    }\n",
              "\n",
              "    .dataframe thead th {\n",
              "        text-align: right;\n",
              "    }\n",
              "</style>\n",
              "<table border=\"1\" class=\"dataframe\">\n",
              "  <thead>\n",
              "    <tr style=\"text-align: right;\">\n",
              "      <th></th>\n",
              "      <th>Review</th>\n",
              "      <th>Liked</th>\n",
              "    </tr>\n",
              "  </thead>\n",
              "  <tbody>\n",
              "    <tr>\n",
              "      <th>0</th>\n",
              "      <td>Wow... Loved this place.</td>\n",
              "      <td>1</td>\n",
              "    </tr>\n",
              "    <tr>\n",
              "      <th>1</th>\n",
              "      <td>Crust is not good.</td>\n",
              "      <td>0</td>\n",
              "    </tr>\n",
              "    <tr>\n",
              "      <th>2</th>\n",
              "      <td>Not tasty and the texture was just nasty.</td>\n",
              "      <td>0</td>\n",
              "    </tr>\n",
              "    <tr>\n",
              "      <th>3</th>\n",
              "      <td>Stopped by during the late May bank holiday of...</td>\n",
              "      <td>1</td>\n",
              "    </tr>\n",
              "    <tr>\n",
              "      <th>4</th>\n",
              "      <td>The selection on the menu was great and so wer...</td>\n",
              "      <td>1</td>\n",
              "    </tr>\n",
              "    <tr>\n",
              "      <th>...</th>\n",
              "      <td>...</td>\n",
              "      <td>...</td>\n",
              "    </tr>\n",
              "    <tr>\n",
              "      <th>995</th>\n",
              "      <td>I think food should have flavor and texture an...</td>\n",
              "      <td>0</td>\n",
              "    </tr>\n",
              "    <tr>\n",
              "      <th>996</th>\n",
              "      <td>Appetite instantly gone.</td>\n",
              "      <td>0</td>\n",
              "    </tr>\n",
              "    <tr>\n",
              "      <th>997</th>\n",
              "      <td>Overall I was not impressed and would not go b...</td>\n",
              "      <td>0</td>\n",
              "    </tr>\n",
              "    <tr>\n",
              "      <th>998</th>\n",
              "      <td>The whole experience was underwhelming, and I ...</td>\n",
              "      <td>0</td>\n",
              "    </tr>\n",
              "    <tr>\n",
              "      <th>999</th>\n",
              "      <td>Then, as if I hadn't wasted enough of my life ...</td>\n",
              "      <td>0</td>\n",
              "    </tr>\n",
              "  </tbody>\n",
              "</table>\n",
              "<p>1000 rows × 2 columns</p>\n",
              "</div>\n",
              "      <button class=\"colab-df-convert\" onclick=\"convertToInteractive('df-de543224-76b4-4c4f-adf5-02102b27b500')\"\n",
              "              title=\"Convert this dataframe to an interactive table.\"\n",
              "              style=\"display:none;\">\n",
              "        \n",
              "  <svg xmlns=\"http://www.w3.org/2000/svg\" height=\"24px\"viewBox=\"0 0 24 24\"\n",
              "       width=\"24px\">\n",
              "    <path d=\"M0 0h24v24H0V0z\" fill=\"none\"/>\n",
              "    <path d=\"M18.56 5.44l.94 2.06.94-2.06 2.06-.94-2.06-.94-.94-2.06-.94 2.06-2.06.94zm-11 1L8.5 8.5l.94-2.06 2.06-.94-2.06-.94L8.5 2.5l-.94 2.06-2.06.94zm10 10l.94 2.06.94-2.06 2.06-.94-2.06-.94-.94-2.06-.94 2.06-2.06.94z\"/><path d=\"M17.41 7.96l-1.37-1.37c-.4-.4-.92-.59-1.43-.59-.52 0-1.04.2-1.43.59L10.3 9.45l-7.72 7.72c-.78.78-.78 2.05 0 2.83L4 21.41c.39.39.9.59 1.41.59.51 0 1.02-.2 1.41-.59l7.78-7.78 2.81-2.81c.8-.78.8-2.07 0-2.86zM5.41 20L4 18.59l7.72-7.72 1.47 1.35L5.41 20z\"/>\n",
              "  </svg>\n",
              "      </button>\n",
              "      \n",
              "  <style>\n",
              "    .colab-df-container {\n",
              "      display:flex;\n",
              "      flex-wrap:wrap;\n",
              "      gap: 12px;\n",
              "    }\n",
              "\n",
              "    .colab-df-convert {\n",
              "      background-color: #E8F0FE;\n",
              "      border: none;\n",
              "      border-radius: 50%;\n",
              "      cursor: pointer;\n",
              "      display: none;\n",
              "      fill: #1967D2;\n",
              "      height: 32px;\n",
              "      padding: 0 0 0 0;\n",
              "      width: 32px;\n",
              "    }\n",
              "\n",
              "    .colab-df-convert:hover {\n",
              "      background-color: #E2EBFA;\n",
              "      box-shadow: 0px 1px 2px rgba(60, 64, 67, 0.3), 0px 1px 3px 1px rgba(60, 64, 67, 0.15);\n",
              "      fill: #174EA6;\n",
              "    }\n",
              "\n",
              "    [theme=dark] .colab-df-convert {\n",
              "      background-color: #3B4455;\n",
              "      fill: #D2E3FC;\n",
              "    }\n",
              "\n",
              "    [theme=dark] .colab-df-convert:hover {\n",
              "      background-color: #434B5C;\n",
              "      box-shadow: 0px 1px 3px 1px rgba(0, 0, 0, 0.15);\n",
              "      filter: drop-shadow(0px 1px 2px rgba(0, 0, 0, 0.3));\n",
              "      fill: #FFFFFF;\n",
              "    }\n",
              "  </style>\n",
              "\n",
              "      <script>\n",
              "        const buttonEl =\n",
              "          document.querySelector('#df-de543224-76b4-4c4f-adf5-02102b27b500 button.colab-df-convert');\n",
              "        buttonEl.style.display =\n",
              "          google.colab.kernel.accessAllowed ? 'block' : 'none';\n",
              "\n",
              "        async function convertToInteractive(key) {\n",
              "          const element = document.querySelector('#df-de543224-76b4-4c4f-adf5-02102b27b500');\n",
              "          const dataTable =\n",
              "            await google.colab.kernel.invokeFunction('convertToInteractive',\n",
              "                                                     [key], {});\n",
              "          if (!dataTable) return;\n",
              "\n",
              "          const docLinkHtml = 'Like what you see? Visit the ' +\n",
              "            '<a target=\"_blank\" href=https://colab.research.google.com/notebooks/data_table.ipynb>data table notebook</a>'\n",
              "            + ' to learn more about interactive tables.';\n",
              "          element.innerHTML = '';\n",
              "          dataTable['output_type'] = 'display_data';\n",
              "          await google.colab.output.renderOutput(dataTable, element);\n",
              "          const docLink = document.createElement('div');\n",
              "          docLink.innerHTML = docLinkHtml;\n",
              "          element.appendChild(docLink);\n",
              "        }\n",
              "      </script>\n",
              "    </div>\n",
              "  </div>\n",
              "  "
            ]
          },
          "metadata": {},
          "execution_count": 4
        }
      ]
    },
    {
      "cell_type": "code",
      "source": [
        "from google.colab import drive\n",
        "drive.mount('/content/drive')"
      ],
      "metadata": {
        "colab": {
          "base_uri": "https://localhost:8080/"
        },
        "id": "B2S--wBB9VGy",
        "outputId": "b4bdd7fc-55b0-4889-e30a-9780b768b57e"
      },
      "execution_count": null,
      "outputs": [
        {
          "output_type": "stream",
          "name": "stdout",
          "text": [
            "Mounted at /content/drive\n"
          ]
        }
      ]
    },
    {
      "cell_type": "code",
      "source": [
        "data.info()"
      ],
      "metadata": {
        "colab": {
          "base_uri": "https://localhost:8080/"
        },
        "id": "tTnpkLNqdawc",
        "outputId": "affcd958-4089-4b58-d09c-37b0d2ed7ddc"
      },
      "execution_count": null,
      "outputs": [
        {
          "output_type": "stream",
          "name": "stdout",
          "text": [
            "<class 'pandas.core.frame.DataFrame'>\n",
            "RangeIndex: 1000 entries, 0 to 999\n",
            "Data columns (total 2 columns):\n",
            " #   Column  Non-Null Count  Dtype \n",
            "---  ------  --------------  ----- \n",
            " 0   Review  1000 non-null   object\n",
            " 1   Liked   1000 non-null   int64 \n",
            "dtypes: int64(1), object(1)\n",
            "memory usage: 15.8+ KB\n"
          ]
        }
      ]
    },
    {
      "cell_type": "code",
      "source": [
        "data.describe()"
      ],
      "metadata": {
        "colab": {
          "base_uri": "https://localhost:8080/",
          "height": 300
        },
        "id": "cZ8-ReZ-deai",
        "outputId": "92275081-62b6-4547-9d31-1941cf284a8c"
      },
      "execution_count": null,
      "outputs": [
        {
          "output_type": "execute_result",
          "data": {
            "text/plain": [
              "            Liked\n",
              "count  1000.00000\n",
              "mean      0.50000\n",
              "std       0.50025\n",
              "min       0.00000\n",
              "25%       0.00000\n",
              "50%       0.50000\n",
              "75%       1.00000\n",
              "max       1.00000"
            ],
            "text/html": [
              "\n",
              "  <div id=\"df-4c68f39d-a588-4a9d-93e2-770be11031b5\">\n",
              "    <div class=\"colab-df-container\">\n",
              "      <div>\n",
              "<style scoped>\n",
              "    .dataframe tbody tr th:only-of-type {\n",
              "        vertical-align: middle;\n",
              "    }\n",
              "\n",
              "    .dataframe tbody tr th {\n",
              "        vertical-align: top;\n",
              "    }\n",
              "\n",
              "    .dataframe thead th {\n",
              "        text-align: right;\n",
              "    }\n",
              "</style>\n",
              "<table border=\"1\" class=\"dataframe\">\n",
              "  <thead>\n",
              "    <tr style=\"text-align: right;\">\n",
              "      <th></th>\n",
              "      <th>Liked</th>\n",
              "    </tr>\n",
              "  </thead>\n",
              "  <tbody>\n",
              "    <tr>\n",
              "      <th>count</th>\n",
              "      <td>1000.00000</td>\n",
              "    </tr>\n",
              "    <tr>\n",
              "      <th>mean</th>\n",
              "      <td>0.50000</td>\n",
              "    </tr>\n",
              "    <tr>\n",
              "      <th>std</th>\n",
              "      <td>0.50025</td>\n",
              "    </tr>\n",
              "    <tr>\n",
              "      <th>min</th>\n",
              "      <td>0.00000</td>\n",
              "    </tr>\n",
              "    <tr>\n",
              "      <th>25%</th>\n",
              "      <td>0.00000</td>\n",
              "    </tr>\n",
              "    <tr>\n",
              "      <th>50%</th>\n",
              "      <td>0.50000</td>\n",
              "    </tr>\n",
              "    <tr>\n",
              "      <th>75%</th>\n",
              "      <td>1.00000</td>\n",
              "    </tr>\n",
              "    <tr>\n",
              "      <th>max</th>\n",
              "      <td>1.00000</td>\n",
              "    </tr>\n",
              "  </tbody>\n",
              "</table>\n",
              "</div>\n",
              "      <button class=\"colab-df-convert\" onclick=\"convertToInteractive('df-4c68f39d-a588-4a9d-93e2-770be11031b5')\"\n",
              "              title=\"Convert this dataframe to an interactive table.\"\n",
              "              style=\"display:none;\">\n",
              "        \n",
              "  <svg xmlns=\"http://www.w3.org/2000/svg\" height=\"24px\"viewBox=\"0 0 24 24\"\n",
              "       width=\"24px\">\n",
              "    <path d=\"M0 0h24v24H0V0z\" fill=\"none\"/>\n",
              "    <path d=\"M18.56 5.44l.94 2.06.94-2.06 2.06-.94-2.06-.94-.94-2.06-.94 2.06-2.06.94zm-11 1L8.5 8.5l.94-2.06 2.06-.94-2.06-.94L8.5 2.5l-.94 2.06-2.06.94zm10 10l.94 2.06.94-2.06 2.06-.94-2.06-.94-.94-2.06-.94 2.06-2.06.94z\"/><path d=\"M17.41 7.96l-1.37-1.37c-.4-.4-.92-.59-1.43-.59-.52 0-1.04.2-1.43.59L10.3 9.45l-7.72 7.72c-.78.78-.78 2.05 0 2.83L4 21.41c.39.39.9.59 1.41.59.51 0 1.02-.2 1.41-.59l7.78-7.78 2.81-2.81c.8-.78.8-2.07 0-2.86zM5.41 20L4 18.59l7.72-7.72 1.47 1.35L5.41 20z\"/>\n",
              "  </svg>\n",
              "      </button>\n",
              "      \n",
              "  <style>\n",
              "    .colab-df-container {\n",
              "      display:flex;\n",
              "      flex-wrap:wrap;\n",
              "      gap: 12px;\n",
              "    }\n",
              "\n",
              "    .colab-df-convert {\n",
              "      background-color: #E8F0FE;\n",
              "      border: none;\n",
              "      border-radius: 50%;\n",
              "      cursor: pointer;\n",
              "      display: none;\n",
              "      fill: #1967D2;\n",
              "      height: 32px;\n",
              "      padding: 0 0 0 0;\n",
              "      width: 32px;\n",
              "    }\n",
              "\n",
              "    .colab-df-convert:hover {\n",
              "      background-color: #E2EBFA;\n",
              "      box-shadow: 0px 1px 2px rgba(60, 64, 67, 0.3), 0px 1px 3px 1px rgba(60, 64, 67, 0.15);\n",
              "      fill: #174EA6;\n",
              "    }\n",
              "\n",
              "    [theme=dark] .colab-df-convert {\n",
              "      background-color: #3B4455;\n",
              "      fill: #D2E3FC;\n",
              "    }\n",
              "\n",
              "    [theme=dark] .colab-df-convert:hover {\n",
              "      background-color: #434B5C;\n",
              "      box-shadow: 0px 1px 3px 1px rgba(0, 0, 0, 0.15);\n",
              "      filter: drop-shadow(0px 1px 2px rgba(0, 0, 0, 0.3));\n",
              "      fill: #FFFFFF;\n",
              "    }\n",
              "  </style>\n",
              "\n",
              "      <script>\n",
              "        const buttonEl =\n",
              "          document.querySelector('#df-4c68f39d-a588-4a9d-93e2-770be11031b5 button.colab-df-convert');\n",
              "        buttonEl.style.display =\n",
              "          google.colab.kernel.accessAllowed ? 'block' : 'none';\n",
              "\n",
              "        async function convertToInteractive(key) {\n",
              "          const element = document.querySelector('#df-4c68f39d-a588-4a9d-93e2-770be11031b5');\n",
              "          const dataTable =\n",
              "            await google.colab.kernel.invokeFunction('convertToInteractive',\n",
              "                                                     [key], {});\n",
              "          if (!dataTable) return;\n",
              "\n",
              "          const docLinkHtml = 'Like what you see? Visit the ' +\n",
              "            '<a target=\"_blank\" href=https://colab.research.google.com/notebooks/data_table.ipynb>data table notebook</a>'\n",
              "            + ' to learn more about interactive tables.';\n",
              "          element.innerHTML = '';\n",
              "          dataTable['output_type'] = 'display_data';\n",
              "          await google.colab.output.renderOutput(dataTable, element);\n",
              "          const docLink = document.createElement('div');\n",
              "          docLink.innerHTML = docLinkHtml;\n",
              "          element.appendChild(docLink);\n",
              "        }\n",
              "      </script>\n",
              "    </div>\n",
              "  </div>\n",
              "  "
            ]
          },
          "metadata": {},
          "execution_count": 6
        }
      ]
    },
    {
      "cell_type": "markdown",
      "source": [
        "# nunique() method gives the number of unique values in the particular column"
      ],
      "metadata": {
        "id": "9ArtignHdt_7"
      }
    },
    {
      "cell_type": "code",
      "source": [
        "data['Liked'].nunique()"
      ],
      "metadata": {
        "colab": {
          "base_uri": "https://localhost:8080/"
        },
        "id": "S5DBvn0Xdshq",
        "outputId": "6858ec29-0b9e-4cce-88a8-81da52a8006b"
      },
      "execution_count": null,
      "outputs": [
        {
          "output_type": "execute_result",
          "data": {
            "text/plain": [
              "2"
            ]
          },
          "metadata": {},
          "execution_count": 7
        }
      ]
    },
    {
      "cell_type": "markdown",
      "source": [
        "# unique() method gives unique values in the particular column."
      ],
      "metadata": {
        "id": "sBE-g24feZer"
      }
    },
    {
      "cell_type": "code",
      "source": [
        "print(data['Liked'].nunique())"
      ],
      "metadata": {
        "colab": {
          "base_uri": "https://localhost:8080/"
        },
        "id": "K58e-o7XeLnL",
        "outputId": "89b8b9bf-8c11-46eb-c50a-5cd4fcbc9173"
      },
      "execution_count": null,
      "outputs": [
        {
          "output_type": "stream",
          "name": "stdout",
          "text": [
            "2\n"
          ]
        }
      ]
    },
    {
      "cell_type": "markdown",
      "source": [
        "# Visualizations"
      ],
      "metadata": {
        "id": "1PI-YpdAeg6j"
      }
    },
    {
      "cell_type": "code",
      "source": [
        "import seaborn as sns\n",
        "import matplotlib.pyplot as plt\n",
        "\n",
        "plt.figure(figsize=(8,5))\n",
        "sns.countplot(x=data.Liked)\n"
      ],
      "metadata": {
        "id": "OTNPMscNefdz"
      },
      "execution_count": null,
      "outputs": []
    },
    {
      "cell_type": "code",
      "source": [
        "# library to clean data\n",
        "import re #for removing the special characters\n",
        "\n",
        "# Natural Language Tool Kit\n",
        "import nltk\n",
        "\n",
        "nltk.download('stopwords')\n",
        "\n",
        "# to remove stopword\n",
        "from nltk.corpus import stopwords\n",
        "\n",
        "# for Stemming propose\n",
        "from nltk.stem.porter import PorterStemmer #it take only suffix \n",
        "\n",
        "\n"
      ],
      "metadata": {
        "id": "4Ozdj8CXMvkY",
        "colab": {
          "base_uri": "https://localhost:8080/"
        },
        "outputId": "68ca6198-c45e-4861-e9ec-f0a758443fa9"
      },
      "execution_count": null,
      "outputs": [
        {
          "output_type": "stream",
          "name": "stderr",
          "text": [
            "[nltk_data] Downloading package stopwords to /root/nltk_data...\n",
            "[nltk_data]   Unzipping corpora/stopwords.zip.\n"
          ]
        }
      ]
    },
    {
      "cell_type": "code",
      "source": [
        "# Initialize empty array\n",
        "# to append clean text\n",
        "corpus = []\n",
        "\n",
        "# 1000 (reviews) rows to clean\n",
        "for i in range(0, 1000):\n",
        "\t\n",
        "\t# column : \"Review\", row ith\n",
        "\treview = re.sub('[^a-zA-Z]', ' ', data['Review'][i])\n",
        "\t\n",
        "\t# convert all cases to lower cases\n",
        "\treview = review.lower()\n",
        " \n",
        "\t# split to array(default delimiter is \" \")\n",
        "\treview = review.split()\n",
        "\t\n",
        "\t# creating PorterStemmer object to\n",
        "\t# take main stem of each word\n",
        "\tps = PorterStemmer()\n",
        "\t\n",
        "\t# loop for stemming each word\n",
        "\t# in string array at ith row\n",
        "\treview = [ps.stem(word) for word in review\n",
        "\t\t\t\tif not word in set(stopwords.words('english'))]\n",
        "\t\t\t\t\n",
        "\t# rejoin all string array elements\n",
        "\t# to create back into a string\n",
        "\treview = ' '.join(review)\n",
        "\t\n",
        "\t# append each string to create\n",
        "\t# array of clean text\n",
        "\tcorpus.append(review)\n",
        " \n",
        "df = pd.DataFrame(corpus)\n",
        "df \n",
        "\t\n"
      ],
      "metadata": {
        "colab": {
          "base_uri": "https://localhost:8080/",
          "height": 424
        },
        "id": "Yx8N1kM3On4W",
        "outputId": "128b7748-cfa5-43d4-c141-13cae455142a"
      },
      "execution_count": null,
      "outputs": [
        {
          "output_type": "execute_result",
          "data": {
            "text/plain": [
              "                                                     0\n",
              "0                                       wow love place\n",
              "1                                           crust good\n",
              "2                                   tasti textur nasti\n",
              "3    stop late may bank holiday rick steve recommen...\n",
              "4                              select menu great price\n",
              "..                                                 ...\n",
              "995                      think food flavor textur lack\n",
              "996                             appetit instantli gone\n",
              "997                       overal impress would go back\n",
              "998  whole experi underwhelm think go ninja sushi n...\n",
              "999  wast enough life pour salt wound draw time too...\n",
              "\n",
              "[1000 rows x 1 columns]"
            ],
            "text/html": [
              "\n",
              "  <div id=\"df-a46c0d2a-3b6b-4baf-befb-4406ffc67a10\">\n",
              "    <div class=\"colab-df-container\">\n",
              "      <div>\n",
              "<style scoped>\n",
              "    .dataframe tbody tr th:only-of-type {\n",
              "        vertical-align: middle;\n",
              "    }\n",
              "\n",
              "    .dataframe tbody tr th {\n",
              "        vertical-align: top;\n",
              "    }\n",
              "\n",
              "    .dataframe thead th {\n",
              "        text-align: right;\n",
              "    }\n",
              "</style>\n",
              "<table border=\"1\" class=\"dataframe\">\n",
              "  <thead>\n",
              "    <tr style=\"text-align: right;\">\n",
              "      <th></th>\n",
              "      <th>0</th>\n",
              "    </tr>\n",
              "  </thead>\n",
              "  <tbody>\n",
              "    <tr>\n",
              "      <th>0</th>\n",
              "      <td>wow love place</td>\n",
              "    </tr>\n",
              "    <tr>\n",
              "      <th>1</th>\n",
              "      <td>crust good</td>\n",
              "    </tr>\n",
              "    <tr>\n",
              "      <th>2</th>\n",
              "      <td>tasti textur nasti</td>\n",
              "    </tr>\n",
              "    <tr>\n",
              "      <th>3</th>\n",
              "      <td>stop late may bank holiday rick steve recommen...</td>\n",
              "    </tr>\n",
              "    <tr>\n",
              "      <th>4</th>\n",
              "      <td>select menu great price</td>\n",
              "    </tr>\n",
              "    <tr>\n",
              "      <th>...</th>\n",
              "      <td>...</td>\n",
              "    </tr>\n",
              "    <tr>\n",
              "      <th>995</th>\n",
              "      <td>think food flavor textur lack</td>\n",
              "    </tr>\n",
              "    <tr>\n",
              "      <th>996</th>\n",
              "      <td>appetit instantli gone</td>\n",
              "    </tr>\n",
              "    <tr>\n",
              "      <th>997</th>\n",
              "      <td>overal impress would go back</td>\n",
              "    </tr>\n",
              "    <tr>\n",
              "      <th>998</th>\n",
              "      <td>whole experi underwhelm think go ninja sushi n...</td>\n",
              "    </tr>\n",
              "    <tr>\n",
              "      <th>999</th>\n",
              "      <td>wast enough life pour salt wound draw time too...</td>\n",
              "    </tr>\n",
              "  </tbody>\n",
              "</table>\n",
              "<p>1000 rows × 1 columns</p>\n",
              "</div>\n",
              "      <button class=\"colab-df-convert\" onclick=\"convertToInteractive('df-a46c0d2a-3b6b-4baf-befb-4406ffc67a10')\"\n",
              "              title=\"Convert this dataframe to an interactive table.\"\n",
              "              style=\"display:none;\">\n",
              "        \n",
              "  <svg xmlns=\"http://www.w3.org/2000/svg\" height=\"24px\"viewBox=\"0 0 24 24\"\n",
              "       width=\"24px\">\n",
              "    <path d=\"M0 0h24v24H0V0z\" fill=\"none\"/>\n",
              "    <path d=\"M18.56 5.44l.94 2.06.94-2.06 2.06-.94-2.06-.94-.94-2.06-.94 2.06-2.06.94zm-11 1L8.5 8.5l.94-2.06 2.06-.94-2.06-.94L8.5 2.5l-.94 2.06-2.06.94zm10 10l.94 2.06.94-2.06 2.06-.94-2.06-.94-.94-2.06-.94 2.06-2.06.94z\"/><path d=\"M17.41 7.96l-1.37-1.37c-.4-.4-.92-.59-1.43-.59-.52 0-1.04.2-1.43.59L10.3 9.45l-7.72 7.72c-.78.78-.78 2.05 0 2.83L4 21.41c.39.39.9.59 1.41.59.51 0 1.02-.2 1.41-.59l7.78-7.78 2.81-2.81c.8-.78.8-2.07 0-2.86zM5.41 20L4 18.59l7.72-7.72 1.47 1.35L5.41 20z\"/>\n",
              "  </svg>\n",
              "      </button>\n",
              "      \n",
              "  <style>\n",
              "    .colab-df-container {\n",
              "      display:flex;\n",
              "      flex-wrap:wrap;\n",
              "      gap: 12px;\n",
              "    }\n",
              "\n",
              "    .colab-df-convert {\n",
              "      background-color: #E8F0FE;\n",
              "      border: none;\n",
              "      border-radius: 50%;\n",
              "      cursor: pointer;\n",
              "      display: none;\n",
              "      fill: #1967D2;\n",
              "      height: 32px;\n",
              "      padding: 0 0 0 0;\n",
              "      width: 32px;\n",
              "    }\n",
              "\n",
              "    .colab-df-convert:hover {\n",
              "      background-color: #E2EBFA;\n",
              "      box-shadow: 0px 1px 2px rgba(60, 64, 67, 0.3), 0px 1px 3px 1px rgba(60, 64, 67, 0.15);\n",
              "      fill: #174EA6;\n",
              "    }\n",
              "\n",
              "    [theme=dark] .colab-df-convert {\n",
              "      background-color: #3B4455;\n",
              "      fill: #D2E3FC;\n",
              "    }\n",
              "\n",
              "    [theme=dark] .colab-df-convert:hover {\n",
              "      background-color: #434B5C;\n",
              "      box-shadow: 0px 1px 3px 1px rgba(0, 0, 0, 0.15);\n",
              "      filter: drop-shadow(0px 1px 2px rgba(0, 0, 0, 0.3));\n",
              "      fill: #FFFFFF;\n",
              "    }\n",
              "  </style>\n",
              "\n",
              "      <script>\n",
              "        const buttonEl =\n",
              "          document.querySelector('#df-a46c0d2a-3b6b-4baf-befb-4406ffc67a10 button.colab-df-convert');\n",
              "        buttonEl.style.display =\n",
              "          google.colab.kernel.accessAllowed ? 'block' : 'none';\n",
              "\n",
              "        async function convertToInteractive(key) {\n",
              "          const element = document.querySelector('#df-a46c0d2a-3b6b-4baf-befb-4406ffc67a10');\n",
              "          const dataTable =\n",
              "            await google.colab.kernel.invokeFunction('convertToInteractive',\n",
              "                                                     [key], {});\n",
              "          if (!dataTable) return;\n",
              "\n",
              "          const docLinkHtml = 'Like what you see? Visit the ' +\n",
              "            '<a target=\"_blank\" href=https://colab.research.google.com/notebooks/data_table.ipynb>data table notebook</a>'\n",
              "            + ' to learn more about interactive tables.';\n",
              "          element.innerHTML = '';\n",
              "          dataTable['output_type'] = 'display_data';\n",
              "          await google.colab.output.renderOutput(dataTable, element);\n",
              "          const docLink = document.createElement('div');\n",
              "          docLink.innerHTML = docLinkHtml;\n",
              "          element.appendChild(docLink);\n",
              "        }\n",
              "      </script>\n",
              "    </div>\n",
              "  </div>\n",
              "  "
            ]
          },
          "metadata": {},
          "execution_count": 11
        }
      ]
    },
    {
      "cell_type": "markdown",
      "source": [
        "# Vectorization\n",
        "From the cleaned dataset, potential features are extracted and are converted to numerical format. The vectorization techniques are used to convert textual data to numerical format. Using vectorization, a matrix is created where each column represents a feature and each row represents an individual review."
      ],
      "metadata": {
        "id": "5m6sYdwWVST5"
      }
    },
    {
      "cell_type": "code",
      "source": [
        "# Creating the Bag of Words model\n",
        "from sklearn.feature_extraction.text import CountVectorizer\n",
        "\n",
        "# To extract max 1500 feature.\n",
        "# \"max_features\" is attribute to\n",
        "# experiment with to get better results\n",
        "cv = CountVectorizer(max_features = 1500)\n",
        "\n",
        "# X contains corpus (dependent variable)\n",
        "X = cv.fit_transform(corpus).toarray()\n",
        "\n",
        "# y contains answers if review\n",
        "# is positive or negative\n",
        "y = data.iloc[:, 1].values"
      ],
      "metadata": {
        "id": "r-16eKTdUgWw"
      },
      "execution_count": null,
      "outputs": []
    },
    {
      "cell_type": "code",
      "source": [
        "X"
      ],
      "metadata": {
        "colab": {
          "base_uri": "https://localhost:8080/"
        },
        "id": "nFn2-I4FW-Fx",
        "outputId": "f5eba149-6cc2-49a8-c77c-a8dceca9c0fc"
      },
      "execution_count": null,
      "outputs": [
        {
          "output_type": "execute_result",
          "data": {
            "text/plain": [
              "array([[0, 0, 0, ..., 0, 0, 0],\n",
              "       [0, 0, 0, ..., 0, 0, 0],\n",
              "       [0, 0, 0, ..., 0, 0, 0],\n",
              "       ...,\n",
              "       [0, 0, 0, ..., 0, 0, 0],\n",
              "       [0, 0, 0, ..., 0, 0, 0],\n",
              "       [0, 0, 0, ..., 0, 0, 0]])"
            ]
          },
          "metadata": {},
          "execution_count": 13
        }
      ]
    },
    {
      "cell_type": "markdown",
      "source": [
        "# Training and Classification <br>\n",
        "Further the data is splitted into training and testing set using Cross Validation technique. This data is used as input to classification algorithm."
      ],
      "metadata": {
        "id": "wcHF5fwaVsWA"
      }
    },
    {
      "cell_type": "code",
      "source": [
        "pip install sklearn"
      ],
      "metadata": {
        "id": "yXg120OaWEXI",
        "colab": {
          "base_uri": "https://localhost:8080/"
        },
        "outputId": "1224db2a-fc27-4a35-df76-994fa0bcdd0b"
      },
      "execution_count": null,
      "outputs": [
        {
          "output_type": "stream",
          "name": "stdout",
          "text": [
            "Looking in indexes: https://pypi.org/simple, https://us-python.pkg.dev/colab-wheels/public/simple/\n",
            "Collecting sklearn\n",
            "  Downloading sklearn-0.0.tar.gz (1.1 kB)\n",
            "Requirement already satisfied: scikit-learn in /usr/local/lib/python3.7/dist-packages (from sklearn) (1.0.2)\n",
            "Requirement already satisfied: threadpoolctl>=2.0.0 in /usr/local/lib/python3.7/dist-packages (from scikit-learn->sklearn) (3.1.0)\n",
            "Requirement already satisfied: joblib>=0.11 in /usr/local/lib/python3.7/dist-packages (from scikit-learn->sklearn) (1.1.0)\n",
            "Requirement already satisfied: numpy>=1.14.6 in /usr/local/lib/python3.7/dist-packages (from scikit-learn->sklearn) (1.21.6)\n",
            "Requirement already satisfied: scipy>=1.1.0 in /usr/local/lib/python3.7/dist-packages (from scikit-learn->sklearn) (1.7.3)\n",
            "Building wheels for collected packages: sklearn\n",
            "  Building wheel for sklearn (setup.py) ... \u001b[?25l\u001b[?25hdone\n",
            "  Created wheel for sklearn: filename=sklearn-0.0-py2.py3-none-any.whl size=1310 sha256=674df7522589a388248e6ca513ab3791e1739b6fd7b64c96df4924daaf5e7e3e\n",
            "  Stored in directory: /root/.cache/pip/wheels/46/ef/c3/157e41f5ee1372d1be90b09f74f82b10e391eaacca8f22d33e\n",
            "Successfully built sklearn\n",
            "Installing collected packages: sklearn\n",
            "Successfully installed sklearn-0.0\n"
          ]
        }
      ]
    },
    {
      "cell_type": "code",
      "source": [
        "# Splitting the dataset into the Training set and Test set\n",
        "from sklearn.model_selection import train_test_split\n",
        "X_train, X_test, y_train, y_test = train_test_split(X, y, test_size = 0.3, random_state = 42)"
      ],
      "metadata": {
        "id": "GeS5nddLVc4A"
      },
      "execution_count": null,
      "outputs": []
    },
    {
      "cell_type": "markdown",
      "source": [
        "# MultinomialNB"
      ],
      "metadata": {
        "id": "xqGoA6jAY4xa"
      }
    },
    {
      "cell_type": "code",
      "source": [
        "# Fitting Naive Bayes to the Training set\n",
        "from sklearn.naive_bayes import MultinomialNB\n",
        "\n",
        "classifier = MultinomialNB(alpha=0.1)\n",
        "classifier.fit(X_train, y_train)\n",
        "\n",
        "# Predicting the Test set results\n",
        "y_pred = classifier.predict(X_test)\n",
        "\n",
        "# Making the Confusion Matrix\n",
        "from sklearn.metrics import confusion_matrix # For finding the accuracy, confusion matrix is required.\n",
        "cm = confusion_matrix(y_test, y_pred)\n",
        "print (\"Confusion Matrix:\\n\",cm)\n",
        "\n",
        "# Accuracy, Precision and Recall\n",
        "from sklearn.metrics import accuracy_score\n",
        "from sklearn.metrics import precision_score\n",
        "from sklearn.metrics import recall_score\n",
        "\n",
        "\n",
        "score1 = accuracy_score(y_test,y_pred)\n",
        "score2 = precision_score(y_test,y_pred)\n",
        "score3= recall_score(y_test,y_pred)\n",
        "\n",
        "print(\"\\n\")\n",
        "print(\"Accuracy is \",round(score1*100,2),\"%\")\n",
        "print(\"Precision is \",round(score2,2))\n",
        "print(\"Recall is \",round(score3,2))\n",
        "\n"
      ],
      "metadata": {
        "colab": {
          "base_uri": "https://localhost:8080/"
        },
        "id": "d7NLonyzV-uA",
        "outputId": "921e1313-ad47-4a33-bbc6-cf288b6d2b7c"
      },
      "execution_count": null,
      "outputs": [
        {
          "output_type": "stream",
          "name": "stdout",
          "text": [
            "Confusion Matrix:\n",
            " [[119  33]\n",
            " [ 34 114]]\n",
            "\n",
            "\n",
            "Accuracy is  77.67 %\n",
            "Precision is  0.78\n",
            "Recall is  0.77\n"
          ]
        }
      ]
    },
    {
      "cell_type": "markdown",
      "source": [
        "![image.png](data:image/png;base64,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)"
      ],
      "metadata": {
        "id": "6A3lAmFWbF2C"
      }
    },
    {
      "cell_type": "markdown",
      "source": [
        "# Bernoulli NB"
      ],
      "metadata": {
        "id": "uPcS3IgiY05I"
      }
    },
    {
      "cell_type": "code",
      "source": [
        "\n",
        "# Fitting Naive Bayes to the Training set\n",
        "from sklearn.naive_bayes import BernoulliNB\n",
        "\n",
        "classifier = BernoulliNB(alpha=0.8)\n",
        "classifier.fit(X_train, y_train)\n",
        "\n",
        "# Predicting the Test set results\n",
        "y_pred = classifier.predict(X_test)\n",
        "\n",
        "# Making the Confusion Matrix\n",
        "from sklearn.metrics import confusion_matrix\n",
        "\n",
        "cm = confusion_matrix(y_test, y_pred)\n",
        "print (\"Confusion Matrix:\\n\",cm)\n",
        "\n",
        "# Accuracy, Precision and Recall\n",
        "from sklearn.metrics import accuracy_score\n",
        "from sklearn.metrics import precision_score\n",
        "from sklearn.metrics import recall_score\n",
        "\n",
        "score1 = accuracy_score(y_test,y_pred)\n",
        "score2 = precision_score(y_test,y_pred)\n",
        "score3= recall_score(y_test,y_pred)\n",
        "\n",
        "print(\"\\n\")\n",
        "print(\"Accuracy is \",round(score1*100,2),\"%\")\n",
        "print(\"Precision is \",round(score2,2))\n",
        "print(\"Recall is \",round(score3,2))"
      ],
      "metadata": {
        "colab": {
          "base_uri": "https://localhost:8080/"
        },
        "id": "1o6tCLAPX435",
        "outputId": "ae3f5c22-f6f2-446c-a641-d19f98539aa8"
      },
      "execution_count": null,
      "outputs": [
        {
          "output_type": "stream",
          "name": "stdout",
          "text": [
            "Confusion Matrix:\n",
            " [[115  37]\n",
            " [ 32 116]]\n",
            "\n",
            "\n",
            "Accuracy is  77.0 %\n",
            "Precision is  0.76\n",
            "Recall is  0.78\n"
          ]
        }
      ]
    },
    {
      "cell_type": "markdown",
      "source": [
        "# Logistic Regression"
      ],
      "metadata": {
        "id": "bjbq_lshYwKo"
      }
    },
    {
      "cell_type": "code",
      "source": [
        "\n",
        "# Fitting Logistic Regression to the Training set\n",
        "from sklearn import linear_model\n",
        "\n",
        "classifier = linear_model.LogisticRegression(C=1.5)\n",
        "classifier.fit(X_train, y_train)\n",
        "\n",
        "# Predicting the Test set results\n",
        "y_pred = classifier.predict(X_test)\n",
        "\n",
        "# Making the Confusion Matrix\n",
        "from sklearn.metrics import confusion_matrix\n",
        "cm = confusion_matrix(y_test, y_pred)\n",
        "print (\"Confusion Matrix:\\n\",cm)\n",
        "\n",
        "# Accuracy, Precision and Recall\n",
        "from sklearn.metrics import accuracy_score\n",
        "from sklearn.metrics import precision_score\n",
        "from sklearn.metrics import recall_score\n",
        "\n",
        "score1 = accuracy_score(y_test,y_pred)\n",
        "score2 = precision_score(y_test,y_pred)\n",
        "score3= recall_score(y_test,y_pred)\n",
        "\n",
        "print(\"\\n\")\n",
        "print(\"Accuracy is \",round(score1*100,2),\"%\")\n",
        "print(\"Precision is \",round(score2,2))\n",
        "print(\"Recall is \",round(score3,2))\n"
      ],
      "metadata": {
        "colab": {
          "base_uri": "https://localhost:8080/"
        },
        "id": "-o7HJDZIYJg5",
        "outputId": "917e5787-df84-4132-9c2a-f03b34625f32"
      },
      "execution_count": null,
      "outputs": [
        {
          "output_type": "stream",
          "name": "stdout",
          "text": [
            "Confusion Matrix:\n",
            " [[125  27]\n",
            " [ 43 105]]\n",
            "\n",
            "\n",
            "Accuracy is  76.67 %\n",
            "Precision is  0.8\n",
            "Recall is  0.71\n"
          ]
        }
      ]
    },
    {
      "cell_type": "markdown",
      "source": [
        "From the above results, Multinomial Naive Bayes is slightly better method compared to Bernoulli Naive Bayes and Logistic Regression, with 77.67% accuracy which means the model built for the prediction of sentiment of the restaurant review gives 77.67% right prediction."
      ],
      "metadata": {
        "id": "9-zLrwhRYnoi"
      }
    }
  ]
}